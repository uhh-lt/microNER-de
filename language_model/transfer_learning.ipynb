{
 "cells": [
  {
   "cell_type": "code",
   "execution_count": 63,
   "metadata": {},
   "outputs": [],
   "source": [
    "import sys\n",
    "import os\n",
    "sys.path.insert(0, '/home/jindal/notebooks/jindal/NER')\n",
    "import fastText\n",
    "import numpy as np \n",
    "from validation import compute_f1\n",
    "from keras.models import Model\n",
    "from keras.layers import TimeDistributed,Conv1D,Dense,Embedding,Input,Dropout,LSTM,Bidirectional,MaxPooling1D,Flatten,concatenate\n",
    "from prepro import readfile,createBatches,createMatrices,iterate_minibatches,addCharInformatioin,padding\n",
    "from keras.utils import plot_model,Progbar\n",
    "from keras.preprocessing.sequence import pad_sequences\n",
    "from keras.initializers import RandomUniform\n",
    "from sklearn.metrics import precision_recall_fscore_support as score\n",
    "import sklearn\n",
    "from keras.callbacks import ModelCheckpoint\n",
    "import pickle, threading\n",
    "\n",
    "from keras.utils import to_categorical\n",
    "import linecache\n",
    "from keras.callbacks import Callback\n",
    "\n",
    "epochs = 50\n",
    "trainable=True"
   ]
  },
  {
   "cell_type": "markdown",
   "metadata": {},
   "source": [
    "# To load the initial model for transfer learning"
   ]
  },
  {
   "cell_type": "code",
   "execution_count": 64,
   "metadata": {},
   "outputs": [],
   "source": [
    "def createMatrices(sentences, word2Idx, case2Idx, char2Idx):\n",
    "    #{'numeric': 0, 'allLower': 1, 'contains_digit': 6, 'PADDING_TOKEN': 7, 'other': 4, 'allUpper': 2, 'mainly_numeric': 5, 'initialUpper': 3}\n",
    "    unknownIdx = word2Idx['UNKNOWN_TOKEN']\n",
    "    paddingIdx = word2Idx['PADDING_TOKEN']    \n",
    "        \n",
    "    dataset = []\n",
    "    \n",
    "    wordCount = 0\n",
    "    unknownWordCount = 0\n",
    "    \n",
    "    for sentence in sentences:\n",
    "        wordIndices = []    \n",
    "        caseIndices = []\n",
    "        charIndices = []\n",
    "#         labelIndices = []\n",
    "        \n",
    "        for word,char in sentence:  \n",
    "            wordCount += 1\n",
    "            if word in word2Idx:\n",
    "                wordIdx = word2Idx[word]\n",
    "            elif word.lower() in word2Idx:\n",
    "                wordIdx = word2Idx[word.lower()]                 \n",
    "            else:\n",
    "                wordIdx = unknownIdx\n",
    "                unknownWordCount += 1\n",
    "            charIdx = []\n",
    "            for x in char:\n",
    "                charIdx.append(char2Idx[x])\n",
    "            #Get the label and map to int            \n",
    "            wordIndices.append(wordIdx)\n",
    "            caseIndices.append(getCasing(word, case2Idx))\n",
    "            charIndices.append(charIdx)\n",
    "#             labelIndices.append(label2Idx[label])\n",
    "           \n",
    "        dataset.append([wordIndices,caseIndices, charIndices]) \n",
    "        \n",
    "    return dataset\n",
    "\n",
    "\n",
    "def getCasing(word, caseLookup):   \n",
    "    casing = 'other'\n",
    "    \n",
    "    numDigits = 0\n",
    "    for char in word:\n",
    "        if char.isdigit():\n",
    "            numDigits += 1\n",
    "            \n",
    "    digitFraction = numDigits / float(len(word))\n",
    "    \n",
    "    if word.isdigit(): #Is a digit\n",
    "        casing = 'numeric'\n",
    "    elif digitFraction > 0.5:\n",
    "        casing = 'mainly_numeric'\n",
    "    elif word.islower(): #All lower case\n",
    "        casing = 'allLower'\n",
    "    elif word.isupper(): #All upper case\n",
    "        casing = 'allUpper'\n",
    "    elif word[0].isupper(): #is a title, initial char upper, then all lower\n",
    "        casing = 'initialUpper'\n",
    "    elif numDigits > 0:\n",
    "        casing = 'contains_digit'\n",
    "    \n",
    "   \n",
    "    return caseLookup[casing]\n",
    "\n",
    "def padding(Sentences):\n",
    "    maxlen = 52\n",
    "    for sentence in Sentences:\n",
    "        char = sentence[2]\n",
    "        for x in char:\n",
    "            maxlen = max(maxlen,len(x))\n",
    "    for i,sentence in enumerate(Sentences):\n",
    "        Sentences[i][2] = pad_sequences(Sentences[i][2],52,padding='post')\n",
    "    return Sentences"
   ]
  },
  {
   "cell_type": "code",
   "execution_count": 65,
   "metadata": {},
   "outputs": [
    {
     "name": "stdout",
     "output_type": "stream",
     "text": [
      "(8, 8)\n"
     ]
    }
   ],
   "source": [
    "case2Idx = {'numeric': 0, 'allLower':1, 'allUpper':2, 'initialUpper':3, 'other':4, 'mainly_numeric':5, 'contains_digit': 6, 'PADDING_TOKEN':7}\n",
    "caseEmbeddings = np.identity(len(case2Idx), dtype='float32')\n",
    "print(caseEmbeddings.shape)"
   ]
  },
  {
   "cell_type": "code",
   "execution_count": 66,
   "metadata": {},
   "outputs": [
    {
     "name": "stdout",
     "output_type": "stream",
     "text": [
      "env: CUDA_DEVICE_ORDER=PCI_BUS_ID\n",
      "env: CUDA_VISIBLE_DEVICES=3\n"
     ]
    }
   ],
   "source": [
    "%env CUDA_DEVICE_ORDER=PCI_BUS_ID\n",
    "%env CUDA_VISIBLE_DEVICES=3"
   ]
  },
  {
   "cell_type": "code",
   "execution_count": 67,
   "metadata": {},
   "outputs": [],
   "source": [
    "characters={}\n",
    "\n",
    "with open ('/home/jindal/notebooks/jindal/NER/language_model/toy_dataset_sequences_shuffled') as f:\n",
    "    for line in f:\n",
    "        for word in line:\n",
    "            word =str(word)\n",
    "            for char in word:\n",
    "#                 print(char)\n",
    "                characters[char]=True"
   ]
  },
  {
   "cell_type": "code",
   "execution_count": 68,
   "metadata": {},
   "outputs": [],
   "source": [
    "char2Idx={}\n",
    "for char in characters:\n",
    "    char2Idx[char] = len(char2Idx)"
   ]
  },
  {
   "cell_type": "code",
   "execution_count": 69,
   "metadata": {},
   "outputs": [],
   "source": [
    "toy_vocab ={}\n",
    "\n",
    "with open('toy_dataset_sequences') as f:\n",
    "    for line in f:\n",
    "#         print(line)\n",
    "        line = line.split()\n",
    "#         print(len(line))\n",
    "        for word in line:\n",
    "#             word = word\n",
    "#             print(word)\n",
    "            toy_vocab[word]=True"
   ]
  },
  {
   "cell_type": "code",
   "execution_count": 70,
   "metadata": {},
   "outputs": [],
   "source": [
    "word2Idx={}\n",
    "for word in toy_vocab.keys():\n",
    "    word2Idx[word] = len(word2Idx)"
   ]
  },
  {
   "cell_type": "code",
   "execution_count": 71,
   "metadata": {},
   "outputs": [
    {
     "name": "stdout",
     "output_type": "stream",
     "text": [
      "4851\n"
     ]
    }
   ],
   "source": [
    "vocab_size = len(word2Idx.keys())+1\n",
    "print(vocab_size)"
   ]
  },
  {
   "cell_type": "code",
   "execution_count": 72,
   "metadata": {},
   "outputs": [],
   "source": [
    "words_input = Input(shape=(None,300), dtype='float32',name='words_input')\n",
    "# words = Embedding(input_dim =50, output_dim=300, trainable=False)(words_input)\n",
    "casing_input = Input(shape=(None,), dtype='int32', name='casing_input')\n",
    "casing = Embedding(output_dim=caseEmbeddings.shape[1], input_dim=caseEmbeddings.shape[0], weights=[caseEmbeddings], trainable=False)(casing_input)\n",
    "character_input=Input(shape=(None,52,),name='char_input')\n",
    "embed_char_out=TimeDistributed(Embedding(len(char2Idx),30,embeddings_initializer=RandomUniform(minval=-0.5, maxval=0.5)), name='char_embedding')(character_input)\n",
    "dropout= Dropout(0.5, name='dropout1')(embed_char_out)\n",
    "conv1d_out= TimeDistributed(Conv1D(kernel_size=3, filters=30, padding='same',activation='tanh', strides=1, name='conv'))(dropout)\n",
    "maxpool_out=TimeDistributed(MaxPooling1D(52), name='maxpool')(conv1d_out)\n",
    "char = TimeDistributed(Flatten())(maxpool_out)\n",
    "char = Dropout(0.5)(char)\n",
    "output = concatenate([words_input, char])\n",
    "output = Bidirectional(LSTM(200, return_sequences=False, dropout=0.50, recurrent_dropout=0.5))(output)\n",
    "# output = TimeDistributed(Dense(vocab_size))(output)\n",
    "# crf = CRF(len(label2Idx))\n",
    "# output = crf(output)\n",
    "# output = Flatten()(output)\n",
    "output = Dense(vocab_size, activation='softmax')(output)\n",
    "# output = Flatten()(output)\n",
    "# output = Dense(vocab_size, activation='softmax')(output)\n",
    "# model.add(Dense(vocab_size, activation='softmax'))\n",
    "model = Model(inputs=[words_input,casing_input, character_input], outputs=[output])\n",
    "# model.compile(loss='sparse_categorical_crossentropy', optimizer='nadam', metrics=['accuracy'])\n",
    "# model.summary()"
   ]
  },
  {
   "cell_type": "code",
   "execution_count": 73,
   "metadata": {},
   "outputs": [],
   "source": [
    "model.load_weights('german_lm.h5')"
   ]
  },
  {
   "cell_type": "markdown",
   "metadata": {},
   "source": [
    "# Doing Transfer Learning"
   ]
  },
  {
   "cell_type": "code",
   "execution_count": 74,
   "metadata": {},
   "outputs": [
    {
     "name": "stdout",
     "output_type": "stream",
     "text": [
      "char_input\n",
      "char_embedding\n",
      "dropout1\n",
      "time_distributed_9\n",
      "maxpool\n",
      "time_distributed_10\n",
      "words_input\n",
      "dropout_5\n",
      "concatenate_5\n",
      "bidirectional_5\n",
      "dense_6\n"
     ]
    }
   ],
   "source": [
    "for layer in model.layers:\n",
    "    print(layer.name)"
   ]
  },
  {
   "cell_type": "code",
   "execution_count": 75,
   "metadata": {},
   "outputs": [
    {
     "data": {
      "text/plain": [
       "<keras.layers.core.Dense at 0x7fe623563588>"
      ]
     },
     "execution_count": 75,
     "metadata": {},
     "output_type": "execute_result"
    }
   ],
   "source": [
    "model.layers.pop()"
   ]
  },
  {
   "cell_type": "code",
   "execution_count": 76,
   "metadata": {},
   "outputs": [
    {
     "name": "stdout",
     "output_type": "stream",
     "text": [
      "char_input\n",
      "char_embedding\n",
      "dropout1\n",
      "time_distributed_9\n",
      "maxpool\n",
      "time_distributed_10\n",
      "words_input\n",
      "dropout_5\n",
      "concatenate_5\n",
      "bidirectional_5\n"
     ]
    }
   ],
   "source": [
    "for layer in model.layers:\n",
    "    print(layer.name)"
   ]
  },
  {
   "cell_type": "code",
   "execution_count": 77,
   "metadata": {},
   "outputs": [],
   "source": [
    "characters={}\n",
    "labels = {}\n",
    "with open('/home/jindal/notebooks/jindal/NER/language_model/germeval2018.training.txt') as f:\n",
    "# with open('/home/gwiedemann/notebooks/OffLang/sample_train.txt') as f:\n",
    "    for line in f:\n",
    "        text, label_simple, label_complex = line.split('\\t')\n",
    "        labels[label_simple]=True\n",
    "        for word in text:\n",
    "            for char in word:\n",
    "                characters[char]=True\n",
    "                "
   ]
  },
  {
   "cell_type": "code",
   "execution_count": 78,
   "metadata": {},
   "outputs": [],
   "source": [
    "label2Idx = {}\n",
    "for label in labels:\n",
    "    label2Idx[label] = len(label2Idx)"
   ]
  },
  {
   "cell_type": "code",
   "execution_count": 79,
   "metadata": {},
   "outputs": [
    {
     "name": "stdout",
     "output_type": "stream",
     "text": [
      "{'OFFENSE': 0, 'OTHER': 1}\n"
     ]
    }
   ],
   "source": [
    "print(label2Idx)"
   ]
  },
  {
   "cell_type": "code",
   "execution_count": 80,
   "metadata": {},
   "outputs": [],
   "source": [
    "output = Dense(len(label2Idx), activation = 'softmax')(model.layers[-1].output)"
   ]
  },
  {
   "cell_type": "code",
   "execution_count": 81,
   "metadata": {},
   "outputs": [],
   "source": [
    "final_model = Model(inputs=model.input, outputs=[output])"
   ]
  },
  {
   "cell_type": "code",
   "execution_count": 82,
   "metadata": {},
   "outputs": [
    {
     "name": "stdout",
     "output_type": "stream",
     "text": [
      "char_input\n",
      "char_embedding\n",
      "dropout1\n",
      "time_distributed_9\n",
      "maxpool\n",
      "time_distributed_10\n",
      "words_input\n",
      "dropout_5\n",
      "concatenate_5\n",
      "bidirectional_5\n",
      "dense_7\n"
     ]
    }
   ],
   "source": [
    "for layer in final_model.layers:\n",
    "    print(layer.name)"
   ]
  },
  {
   "cell_type": "code",
   "execution_count": 83,
   "metadata": {},
   "outputs": [
    {
     "name": "stdout",
     "output_type": "stream",
     "text": [
      "__________________________________________________________________________________________________\n",
      "Layer (type)                    Output Shape         Param #     Connected to                     \n",
      "==================================================================================================\n",
      "char_input (InputLayer)         (None, None, 52)     0                                            \n",
      "__________________________________________________________________________________________________\n",
      "char_embedding (TimeDistributed (None, None, 52, 30) 3300        char_input[0][0]                 \n",
      "__________________________________________________________________________________________________\n",
      "dropout1 (Dropout)              (None, None, 52, 30) 0           char_embedding[0][0]             \n",
      "__________________________________________________________________________________________________\n",
      "time_distributed_9 (TimeDistrib (None, None, 52, 30) 2730        dropout1[0][0]                   \n",
      "__________________________________________________________________________________________________\n",
      "maxpool (TimeDistributed)       (None, None, 1, 30)  0           time_distributed_9[0][0]         \n",
      "__________________________________________________________________________________________________\n",
      "time_distributed_10 (TimeDistri (None, None, 30)     0           maxpool[0][0]                    \n",
      "__________________________________________________________________________________________________\n",
      "words_input (InputLayer)        (None, None, 300)    0                                            \n",
      "__________________________________________________________________________________________________\n",
      "dropout_5 (Dropout)             (None, None, 30)     0           time_distributed_10[0][0]        \n",
      "__________________________________________________________________________________________________\n",
      "concatenate_5 (Concatenate)     (None, None, 330)    0           words_input[0][0]                \n",
      "                                                                 dropout_5[0][0]                  \n",
      "__________________________________________________________________________________________________\n",
      "bidirectional_5 (Bidirectional) (None, 400)          849600      concatenate_5[0][0]              \n",
      "__________________________________________________________________________________________________\n",
      "dense_7 (Dense)                 (None, 2)            802         bidirectional_5[0][0]            \n",
      "==================================================================================================\n",
      "Total params: 856,432\n",
      "Trainable params: 856,432\n",
      "Non-trainable params: 0\n",
      "__________________________________________________________________________________________________\n"
     ]
    }
   ],
   "source": [
    "final_model.compile(loss='categorical_crossentropy', optimizer='nadam', metrics=['accuracy'])\n",
    "final_model.summary()"
   ]
  },
  {
   "cell_type": "code",
   "execution_count": 22,
   "metadata": {},
   "outputs": [],
   "source": [
    "out_file1 = open('/home/jindal/notebooks/jindal/NER/language_model/germeval2018.training_simple_labels.txt','wb')\n",
    "out_file2 = open('/home/jindal/notebooks/jindal/NER/language_model/germeval2018.training_complex_labels.txt','wb')\n",
    "with open('/home/jindal/notebooks/jindal/NER/language_model/germeval2018.training.txt', ) as f:\n",
    "    for line in f:\n",
    "        line = line.split('\\t')\n",
    "#         print(len(line))\n",
    "        text, label_simple, label_complex = line\n",
    "        simple = [text, label_simple]\n",
    "        compl = [text, label_complex]\n",
    "        string_simple = '\\t'.join(simple)+' \\n'\n",
    "        string_complex = '\\t'.join(compl)+' \\n'\n",
    "        out_file1.write(string_simple.encode())\n",
    "        out_file2.write(string_complex.encode())\n",
    "out_file1.close()\n",
    "out_file2.close()"
   ]
  },
  {
   "cell_type": "code",
   "execution_count": 84,
   "metadata": {},
   "outputs": [],
   "source": [
    "line_number=0"
   ]
  },
  {
   "cell_type": "code",
   "execution_count": 85,
   "metadata": {},
   "outputs": [],
   "source": [
    "ft = fastText.load_model(\"/home/jindal/notebooks/fastText/wiki.de.bin\")\n",
    "\n",
    "nb_embedding_dims = ft.get_dimension()"
   ]
  },
  {
   "cell_type": "code",
   "execution_count": 86,
   "metadata": {},
   "outputs": [],
   "source": [
    "char2Idx={}\n",
    "for char in characters:\n",
    "    char2Idx[char] = len(char2Idx)"
   ]
  },
  {
   "cell_type": "code",
   "execution_count": 87,
   "metadata": {},
   "outputs": [],
   "source": [
    "def file_len(fname):\n",
    "    with open(fname) as f:\n",
    "        for i, l in enumerate(f):\n",
    "            pass\n",
    "    return i + 1"
   ]
  },
  {
   "cell_type": "code",
   "execution_count": 27,
   "metadata": {},
   "outputs": [
    {
     "data": {
      "text/plain": [
       "'@Miquwarchar Hat die jemand dafür angezeigt?\\tOTHER \\n'"
      ]
     },
     "execution_count": 27,
     "metadata": {},
     "output_type": "execute_result"
    }
   ],
   "source": [
    "linecache.getline('/home/jindal/notebooks/jindal/NER/language_model/germeval2018.training_simple_labels.txt', 64)"
   ]
  },
  {
   "cell_type": "code",
   "execution_count": 88,
   "metadata": {},
   "outputs": [],
   "source": [
    "def my_generator(file :\"input training file\", batch_size):\n",
    "    \n",
    "    global line_number, lock\n",
    "\n",
    "    while True:\n",
    "        word_embeddings = []\n",
    "        case_embeddings = []\n",
    "        char_embeddings = []\n",
    "        output_labels = []\n",
    "        total_lines = file_len(file)\n",
    "        for i in range(batch_size):\n",
    "            \n",
    "#             lock.acquire()\n",
    "            \n",
    "            index = line_number%total_lines +1\n",
    "            line_number+=1\n",
    "#             lock.release()\n",
    "#             index = random.choice(len(features), 1)[0]\n",
    "            line = linecache.getline(file, index)\n",
    "            if len(line.split('\\t'))!=3:\n",
    "                continue\n",
    "            text, label_simple, label_complex = line.split('\\t')\n",
    "#             assert index<=100\n",
    "#             print(text)\n",
    "            temp_casing = []\n",
    "            temp_char=[]\n",
    "            temp_word=[]\n",
    "#             print(line)\n",
    "#             print(len)\n",
    "            for word in text.split():\n",
    "#                 print(word)\n",
    "                casing =getCasing(word, case2Idx)\n",
    "#                 print(casing)\n",
    "                temp_casing.append(casing)\n",
    "                temp_char2=[]\n",
    "                for char in word:\n",
    "                    temp_char2.append(char2Idx[char])\n",
    "                temp_char2 = np.array(temp_char2)\n",
    "#                 print(temp_char2)\n",
    "#                 temp_char2 = pad_sequences(temp_char2, 52, padding='post')\n",
    "#                 temp_char.append(pad_sequences(temp_char2, 52, padding='post'))\n",
    "                temp_char.append(temp_char2)\n",
    "                word_vector = ft.get_word_vector(word.lower())\n",
    "#                 print(len(word_vector))\n",
    "                temp_word.append(word_vector)\n",
    "            temp_char = pad_sequences(temp_char, 52)\n",
    "#             print(temp_word)\n",
    "#             print(len(temp_word))\n",
    "#             print(len(temp_casing))\n",
    "#             print(temp_char)\n",
    "#             print(len(temp_char))\n",
    "#             print(label2Idx[label])\n",
    "#             print(index)\n",
    "#             print(\" **************** \")\n",
    "            word_embeddings.append(temp_word)\n",
    "#             print((len(word_embeddings), len(word_embeddings[0]), len(word_embeddings[0][0])))\n",
    "\n",
    "            case_embeddings.append(temp_casing)\n",
    "            char_embeddings.append(temp_char)\n",
    "            output_labels.append(label2Idx[label_simple])\n",
    "#             print(np.array(word_embeddings))\n",
    "#             batch_features[i] = process_features(line, window_size-1, nb_embedding_dims)\n",
    "            # print(batch_features[i])\n",
    "            # print(batch_features[i].shape)\n",
    "#             batch_labels[i] = labels[index]\n",
    "        yield ([np.array(word_embeddings), np.array(case_embeddings), np.array(char_embeddings)], to_categorical(output_labels, len(label2Idx)))"
   ]
  },
  {
   "cell_type": "code",
   "execution_count": null,
   "metadata": {},
   "outputs": [],
   "source": [
    "line_number=0\n",
    "for inp, output in my_generator('/home/gwiedemann/notebooks/OffLang/sample_train.txt',32):\n",
    "    continue\n",
    "#     print(inp[0].shape)\n",
    "#     print(inp[1].shape)\n",
    "#     print(inp[2].shape)\n",
    "#     print(output.shape)"
   ]
  },
  {
   "cell_type": "code",
   "execution_count": 89,
   "metadata": {},
   "outputs": [],
   "source": [
    "def validation_data_generator(file, batch_size):\n",
    "    \n",
    "    global line_number_validation, lock\n",
    "\n",
    "    while True:\n",
    "        word_embeddings = []\n",
    "        case_embeddings = []\n",
    "        char_embeddings = []\n",
    "        output_labels = []\n",
    "        total_lines = file_len(file)\n",
    "        for i in range(batch_size):\n",
    "            \n",
    "#             lock.acquire()\n",
    "            \n",
    "            index = line_number_validation%total_lines +1\n",
    "            line_number_validation+=1\n",
    "#             lock.release()\n",
    "#             index = random.choice(len(features), 1)[0]\n",
    "            line = linecache.getline(file, index)\n",
    "            if len(line.split('\\t'))!=3:\n",
    "                continue\n",
    "            text, simple_label, complex_label = line.split('\\t')\n",
    "#             assert index<=100\n",
    "#             print(text)\n",
    "            temp_casing = []\n",
    "            temp_char=[]\n",
    "            temp_word=[]\n",
    "#             print(line)\n",
    "#             print(len)\n",
    "            for word in text.split():\n",
    "#                 print(word)\n",
    "                casing =getCasing(word, case2Idx)\n",
    "#                 print(casing)\n",
    "                temp_casing.append(casing)\n",
    "                temp_char2=[]\n",
    "                for char in word:\n",
    "                    temp_char2.append(char2Idx[char])\n",
    "                temp_char2 = np.array(temp_char2)\n",
    "#                 print(temp_char2)\n",
    "#                 temp_char2 = pad_sequences(temp_char2, 52, padding='post')\n",
    "#                 temp_char.append(pad_sequences(temp_char2, 52, padding='post'))\n",
    "                temp_char.append(temp_char2)\n",
    "                word_vector = ft.get_word_vector(word.lower())\n",
    "#                 print(len(word_vector))\n",
    "                temp_word.append(word_vector)\n",
    "            temp_char = pad_sequences(temp_char, 52)\n",
    "#             print(temp_word)\n",
    "#             print(len(temp_word))\n",
    "#             print(len(temp_casing))\n",
    "#             print(temp_char)\n",
    "#             print(len(temp_char))\n",
    "#             print(label2Idx[label])\n",
    "#             print(index)\n",
    "#             print(\" **************** \")\n",
    "            word_embeddings.append(temp_word)\n",
    "#             print((len(word_embeddings), len(word_embeddings[0]), len(word_embeddings[0][0])))\n",
    "\n",
    "            case_embeddings.append(temp_casing)\n",
    "            char_embeddings.append(temp_char)\n",
    "            output_labels.append(label2Idx[label_simple])\n",
    "#             print(np.array(word_embeddings))\n",
    "#             batch_features[i] = process_features(line, window_size-1, nb_embedding_dims)\n",
    "            # print(batch_features[i])\n",
    "            # print(batch_features[i].shape)\n",
    "#             batch_labels[i] = labels[index]\n",
    "        yield ([np.array(word_embeddings), np.array(case_embeddings), np.array(char_embeddings)], to_categorical(output_labels, len(label2Idx)))\n",
    "            "
   ]
  },
  {
   "cell_type": "code",
   "execution_count": null,
   "metadata": {},
   "outputs": [],
   "source": [
    "print(to_categorical(1,3))\n"
   ]
  },
  {
   "cell_type": "code",
   "execution_count": null,
   "metadata": {},
   "outputs": [
    {
     "name": "stdout",
     "output_type": "stream",
     "text": [
      "Epoch 1/4\n",
      "4199/4200 [============================>.] - ETA: 0s - loss: 0.6567 - acc: 0.6447\n",
      "Epoch 00001: val_acc improved from -inf to 0.56629, saving model to model_with_pretraining.h5\n",
      "4200/4200 [==============================] - 410s 98ms/step - loss: 0.6568 - acc: 0.6445 - val_loss: 0.6799 - val_acc: 0.5663\n",
      "Epoch 2/4\n",
      "1089/4200 [======>.......................] - ETA: 4:44 - loss: 0.6146 - acc: 0.6768"
     ]
    }
   ],
   "source": [
    "line_number=0\n",
    "line_number_validation=0\n",
    "# training_file_name = '/home/jindal/notebooks/jindal/NER/language_model/germeval2018.training_simple_labels.txt'\n",
    "training_file_name = '/home/gwiedemann/notebooks/OffLang/sample_train.txt'\n",
    "dev_file_name = '/home/gwiedemann/notebooks/OffLang/sample_dev.txt'\n",
    "checkpoint = ModelCheckpoint('model_with_pretraining.h5', monitor='val_acc', verbose=1, save_best_only=True, mode='max')\n",
    "final_model.fit_generator(my_generator(training_file_name, 1)\n",
    "                         , epochs =4 , steps_per_epoch = file_len(training_file_name)//1, validation_data=validation_data_generator(dev_file_name, 1),\n",
    "                         validation_steps=807, callbacks=[checkpoint])"
   ]
  },
  {
   "cell_type": "code",
   "execution_count": 95,
   "metadata": {},
   "outputs": [],
   "source": [
    "idx2Label={}\n",
    "for key, value in label2Idx.items():\n",
    "    idx2Label[value]=key"
   ]
  },
  {
   "cell_type": "code",
   "execution_count": 96,
   "metadata": {},
   "outputs": [],
   "source": [
    "def return_predictions(filename, model):\n",
    "    true_labels=[]\n",
    "    pred_labels=[]\n",
    "    with open(filename) as f:\n",
    "        for line in f:\n",
    "#             print(line.split('\\t')[0], end=' ')\n",
    "            word_embeddings=[]\n",
    "            case_embeddings=[]\n",
    "            char_embeddings=[]\n",
    "            if len(line.split('\\t'))!=3:\n",
    "                    continue\n",
    "            text, simple_label, complex_label = line.split('\\t')\n",
    "            temp_casing = []\n",
    "            temp_char=[]\n",
    "            temp_word=[]\n",
    "            for word in text.split():\n",
    "                casing =getCasing(word, case2Idx)\n",
    "                temp_casing.append(casing)\n",
    "                temp_char2=[]\n",
    "                for char in word:\n",
    "                    temp_char2.append(char2Idx[char])\n",
    "                temp_char2 = np.array(temp_char2)\n",
    "                temp_char.append(temp_char2)\n",
    "                word_vector = ft.get_word_vector(word.lower())\n",
    "                temp_word.append(word_vector)\n",
    "            temp_char = pad_sequences(temp_char, 52)\n",
    "            word_embeddings.append(temp_word)\n",
    "            case_embeddings.append(temp_casing)\n",
    "            char_embeddings.append(temp_char)\n",
    "    #         output_labels.append(label2Idx[label_simple])\n",
    "            inp= [np.array([temp_word]), np.array([temp_casing]), np.array([temp_char])]\n",
    "    #         yield ([np.array(word_embeddings), np.array(case_embeddings), np.array(char_embeddings)], to_categorical(output_labels, len(label2Idx)))\n",
    "    #         print(final_model.predict_classes(inp))\n",
    "            prediction = model.predict(inp,batch_size=1)[0].argmax(-1)\n",
    "            correct = label2Idx[simple_label]\n",
    "#             print(prediction,correct)\n",
    "            pred_labels.append(prediction)\n",
    "            true_labels.append(correct)\n",
    "#             print(idx2Label[final_model.predict(inp, batch_size=1)[0].argmax(-1)])\n",
    "    #         y_classes = y_prob.argmax(axis=-1)\n",
    "        return pred_labels, true_labels\n"
   ]
  },
  {
   "cell_type": "code",
   "execution_count": 97,
   "metadata": {},
   "outputs": [],
   "source": [
    "final_model.load_weights('model_with_pretraining.h5')"
   ]
  },
  {
   "cell_type": "code",
   "execution_count": 98,
   "metadata": {},
   "outputs": [
    {
     "data": {
      "text/plain": [
       "0.7180358223836485"
      ]
     },
     "execution_count": 98,
     "metadata": {},
     "output_type": "execute_result"
    }
   ],
   "source": [
    "pred , correct = return_predictions('/home/gwiedemann/notebooks/OffLang/sample_dev.txt',final_model)\n",
    "\n",
    "sklearn.metrics.f1_score(correct, pred, average='macro')"
   ]
  },
  {
   "cell_type": "markdown",
   "metadata": {},
   "source": [
    "# Making model without pretraining to compare the results"
   ]
  },
  {
   "cell_type": "code",
   "execution_count": 59,
   "metadata": {},
   "outputs": [],
   "source": [
    "words_input = Input(shape=(None,300), dtype='float32',name='words_input')\n",
    "# words = Embedding(input_dim =50, output_dim=300, trainable=False)(words_input)\n",
    "casing_input = Input(shape=(None,), dtype='int32', name='casing_input')\n",
    "casing = Embedding(output_dim=caseEmbeddings.shape[1], input_dim=caseEmbeddings.shape[0], weights=[caseEmbeddings], trainable=False)(casing_input)\n",
    "character_input=Input(shape=(None,52,),name='char_input')\n",
    "embed_char_out=TimeDistributed(Embedding(len(char2Idx),30,embeddings_initializer=RandomUniform(minval=-0.5, maxval=0.5)), name='char_embedding')(character_input)\n",
    "dropout= Dropout(0.5, name='dropout1')(embed_char_out)\n",
    "conv1d_out= TimeDistributed(Conv1D(kernel_size=3, filters=30, padding='same',activation='tanh', strides=1, name='conv'))(dropout)\n",
    "maxpool_out=TimeDistributed(MaxPooling1D(52), name='maxpool')(conv1d_out)\n",
    "char = TimeDistributed(Flatten())(maxpool_out)\n",
    "char = Dropout(0.5)(char)\n",
    "output = concatenate([words_input, char])\n",
    "output = Bidirectional(LSTM(200, return_sequences=False, dropout=0.50, recurrent_dropout=0.5))(output)\n",
    "# output = TimeDistributed(Dense(vocab_size))(output)\n",
    "# crf = CRF(len(label2Idx))\n",
    "# output = crf(output)\n",
    "# output = Flatten()(output)\n",
    "output = Dense(len(label2Idx), activation = 'softmax')(output)\n",
    "# output = Flatten()(output)\n",
    "# output = Dense(vocab_size, activation='softmax')(output)\n",
    "# model.add(Dense(vocab_size, activation='softmax'))\n",
    "model_without_pre = Model(inputs=[words_input,casing_input, character_input], outputs=[output])\n",
    "model_without_pre.compile(loss='categorical_crossentropy', optimizer='nadam', metrics=['accuracy'])\n",
    "# model.summary()"
   ]
  },
  {
   "cell_type": "code",
   "execution_count": 60,
   "metadata": {},
   "outputs": [
    {
     "name": "stdout",
     "output_type": "stream",
     "text": [
      "Epoch 1/4\n",
      "4199/4200 [============================>.] - ETA: 0s - loss: 0.6339 - acc: 0.6633\n",
      "Epoch 00001: val_acc improved from -inf to 0.63941, saving model to model_no_pretrain.h5\n",
      "4200/4200 [==============================] - 428s 102ms/step - loss: 0.6339 - acc: 0.6631 - val_loss: 0.6415 - val_acc: 0.6394\n",
      "Epoch 2/4\n",
      "4199/4200 [============================>.] - ETA: 0s - loss: 0.5515 - acc: 0.7164\n",
      "Epoch 00002: val_acc improved from 0.63941 to 0.72119, saving model to model_no_pretrain.h5\n",
      "4200/4200 [==============================] - 413s 98ms/step - loss: 0.5515 - acc: 0.7164 - val_loss: 0.5799 - val_acc: 0.7212\n",
      "Epoch 3/4\n",
      "4199/4200 [============================>.] - ETA: 0s - loss: 0.5211 - acc: 0.7459\n",
      "Epoch 00003: val_acc did not improve\n",
      "4200/4200 [==============================] - 410s 98ms/step - loss: 0.5210 - acc: 0.7460 - val_loss: 0.6307 - val_acc: 0.6766\n",
      "Epoch 4/4\n",
      "4199/4200 [============================>.] - ETA: 0s - loss: 0.5143 - acc: 0.7492\n",
      "Epoch 00004: val_acc did not improve\n",
      "4200/4200 [==============================] - 409s 97ms/step - loss: 0.5143 - acc: 0.7493 - val_loss: 0.6310 - val_acc: 0.6791\n"
     ]
    },
    {
     "data": {
      "text/plain": [
       "<keras.callbacks.History at 0x7fe623a6fba8>"
      ]
     },
     "execution_count": 60,
     "metadata": {},
     "output_type": "execute_result"
    }
   ],
   "source": [
    "line_number=0\n",
    "line_number_validation=0\n",
    "# training_file_name = '/home/jindal/notebooks/jindal/NER/language_model/germeval2018.training_simple_labels.txt'\n",
    "training_file_name = '/home/gwiedemann/notebooks/OffLang/sample_train.txt'\n",
    "dev_file_name = '/home/gwiedemann/notebooks/OffLang/sample_dev.txt'\n",
    "checkpoint = ModelCheckpoint('model_no_pretrain.h5', monitor='val_acc', verbose=1, save_best_only=True, mode='max')\n",
    "model_without_pre.fit_generator(my_generator(training_file_name, 1)\n",
    "                         , epochs =4 , steps_per_epoch = file_len(training_file_name)//1, validation_data=validation_data_generator(dev_file_name, 1),\n",
    "                         validation_steps=807, callbacks=[checkpoint])"
   ]
  },
  {
   "cell_type": "code",
   "execution_count": 61,
   "metadata": {},
   "outputs": [],
   "source": [
    "pred , correct = return_predictions('/home/gwiedemann/notebooks/OffLang/sample_dev.txt',model_without_pre)\n",
    "\n",
    "sklearn.metrics.f1_score(correct, pred, average='macro')"
   ]
  }
 ],
 "metadata": {
  "kernelspec": {
   "display_name": "Python 3",
   "language": "python",
   "name": "python3"
  },
  "language_info": {
   "codemirror_mode": {
    "name": "ipython",
    "version": 3
   },
   "file_extension": ".py",
   "mimetype": "text/x-python",
   "name": "python",
   "nbconvert_exporter": "python",
   "pygments_lexer": "ipython3",
   "version": "3.5.5"
  }
 },
 "nbformat": 4,
 "nbformat_minor": 2
}
