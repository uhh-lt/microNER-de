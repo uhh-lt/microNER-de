{
 "cells": [
  {
   "cell_type": "code",
   "execution_count": 140,
   "metadata": {},
   "outputs": [],
   "source": [
    "import sys\n",
    "import os\n",
    "sys.path.insert(0, '/home/jindal/notebooks/jindal/NER')\n",
    "import fastText\n",
    "import numpy as np \n",
    "from validation import compute_f1\n",
    "from keras.models import Model\n",
    "from keras.layers import TimeDistributed,Conv1D,Dense,Embedding,Input,Dropout,LSTM,Bidirectional,MaxPooling1D,Flatten,concatenate\n",
    "from prepro import readfile,createBatches,createMatrices,iterate_minibatches,addCharInformatioin,padding\n",
    "from keras.utils import plot_model,Progbar\n",
    "from keras.preprocessing.sequence import pad_sequences\n",
    "from keras.initializers import RandomUniform\n",
    "from sklearn.metrics import precision_recall_fscore_support as score\n",
    "import sklearn\n",
    "from keras.callbacks import ModelCheckpoint\n",
    "import pickle, threading\n",
    "\n",
    "from keras.utils import to_categorical\n",
    "import linecache\n",
    "from keras.callbacks import Callback\n",
    "\n",
    "epochs = 50\n",
    "trainable=True"
   ]
  },
  {
   "cell_type": "markdown",
   "metadata": {},
   "source": [
    "# To load the initial model for transfer learning"
   ]
  },
  {
   "cell_type": "code",
   "execution_count": 141,
   "metadata": {},
   "outputs": [],
   "source": [
    "def createMatrices(sentences, word2Idx, case2Idx, char2Idx):\n",
    "    #{'numeric': 0, 'allLower': 1, 'contains_digit': 6, 'PADDING_TOKEN': 7, 'other': 4, 'allUpper': 2, 'mainly_numeric': 5, 'initialUpper': 3}\n",
    "    unknownIdx = word2Idx['UNKNOWN_TOKEN']\n",
    "    paddingIdx = word2Idx['PADDING_TOKEN']    \n",
    "        \n",
    "    dataset = []\n",
    "    \n",
    "    wordCount = 0\n",
    "    unknownWordCount = 0\n",
    "    \n",
    "    for sentence in sentences:\n",
    "        wordIndices = []    \n",
    "        caseIndices = []\n",
    "        charIndices = []\n",
    "#         labelIndices = []\n",
    "        \n",
    "        for word,char in sentence:  \n",
    "            wordCount += 1\n",
    "            if word in word2Idx:\n",
    "                wordIdx = word2Idx[word]\n",
    "            elif word.lower() in word2Idx:\n",
    "                wordIdx = word2Idx[word.lower()]                 \n",
    "            else:\n",
    "                wordIdx = unknownIdx\n",
    "                unknownWordCount += 1\n",
    "            charIdx = []\n",
    "            for x in char:\n",
    "                charIdx.append(char2Idx[x])\n",
    "            #Get the label and map to int            \n",
    "            wordIndices.append(wordIdx)\n",
    "            caseIndices.append(getCasing(word, case2Idx))\n",
    "            charIndices.append(charIdx)\n",
    "#             labelIndices.append(label2Idx[label])\n",
    "           \n",
    "        dataset.append([wordIndices,caseIndices, charIndices]) \n",
    "        \n",
    "    return dataset\n",
    "\n",
    "\n",
    "def getCasing(word, caseLookup):   \n",
    "    casing = 'other'\n",
    "    \n",
    "    numDigits = 0\n",
    "    for char in word:\n",
    "        if char.isdigit():\n",
    "            numDigits += 1\n",
    "            \n",
    "    digitFraction = numDigits / float(len(word))\n",
    "    \n",
    "    if word.isdigit(): #Is a digit\n",
    "        casing = 'numeric'\n",
    "    elif digitFraction > 0.5:\n",
    "        casing = 'mainly_numeric'\n",
    "    elif word.islower(): #All lower case\n",
    "        casing = 'allLower'\n",
    "    elif word.isupper(): #All upper case\n",
    "        casing = 'allUpper'\n",
    "    elif word[0].isupper(): #is a title, initial char upper, then all lower\n",
    "        casing = 'initialUpper'\n",
    "    elif numDigits > 0:\n",
    "        casing = 'contains_digit'\n",
    "    \n",
    "   \n",
    "    return caseLookup[casing]\n",
    "\n",
    "def padding(Sentences):\n",
    "    maxlen = 52\n",
    "    for sentence in Sentences:\n",
    "        char = sentence[2]\n",
    "        for x in char:\n",
    "            maxlen = max(maxlen,len(x))\n",
    "    for i,sentence in enumerate(Sentences):\n",
    "        Sentences[i][2] = pad_sequences(Sentences[i][2],52,padding='post')\n",
    "    return Sentences"
   ]
  },
  {
   "cell_type": "code",
   "execution_count": 142,
   "metadata": {},
   "outputs": [
    {
     "name": "stdout",
     "output_type": "stream",
     "text": [
      "(8, 8)\n"
     ]
    }
   ],
   "source": [
    "case2Idx = {'numeric': 0, 'allLower':1, 'allUpper':2, 'initialUpper':3, 'other':4, 'mainly_numeric':5, 'contains_digit': 6, 'PADDING_TOKEN':7}\n",
    "caseEmbeddings = np.identity(len(case2Idx), dtype='float32')\n",
    "print(caseEmbeddings.shape)"
   ]
  },
  {
   "cell_type": "code",
   "execution_count": 143,
   "metadata": {},
   "outputs": [
    {
     "name": "stdout",
     "output_type": "stream",
     "text": [
      "env: CUDA_DEVICE_ORDER=PCI_BUS_ID\n",
      "env: CUDA_VISIBLE_DEVICES=3\n"
     ]
    }
   ],
   "source": [
    "%env CUDA_DEVICE_ORDER=PCI_BUS_ID\n",
    "%env CUDA_VISIBLE_DEVICES=3"
   ]
  },
  {
   "cell_type": "code",
   "execution_count": 144,
   "metadata": {},
   "outputs": [],
   "source": [
    "characters={}\n",
    "\n",
    "with open ('/home/jindal/notebooks/jindal/NER/language_model/twitter_dataset_sequences_one_million') as f:\n",
    "    for line in f:\n",
    "        for word in line:\n",
    "            word =str(word)\n",
    "            for char in word:\n",
    "#                 print(char)\n",
    "                characters[char]=True"
   ]
  },
  {
   "cell_type": "code",
   "execution_count": 145,
   "metadata": {},
   "outputs": [],
   "source": [
    "char2Idx={}\n",
    "for char in characters:\n",
    "    char2Idx[char] = len(char2Idx)"
   ]
  },
  {
   "cell_type": "code",
   "execution_count": 146,
   "metadata": {},
   "outputs": [],
   "source": [
    "toy_vocab ={}\n",
    "\n",
    "with open('twitter_dataset_sequences_one_million') as f:\n",
    "    for line in f:\n",
    "#         print(line)\n",
    "        line = line.split()\n",
    "#         print(len(line))\n",
    "        for word in line:\n",
    "#             word = word\n",
    "#             print(word)\n",
    "            toy_vocab[word]=True"
   ]
  },
  {
   "cell_type": "code",
   "execution_count": 147,
   "metadata": {},
   "outputs": [],
   "source": [
    "word2Idx={}\n",
    "for word in toy_vocab.keys():\n",
    "    word2Idx[word] = len(word2Idx)"
   ]
  },
  {
   "cell_type": "code",
   "execution_count": 148,
   "metadata": {},
   "outputs": [
    {
     "name": "stdout",
     "output_type": "stream",
     "text": [
      "917425\n"
     ]
    }
   ],
   "source": [
    "vocab_size = len(word2Idx.keys())+1\n",
    "print(vocab_size)"
   ]
  },
  {
   "cell_type": "code",
   "execution_count": 149,
   "metadata": {},
   "outputs": [],
   "source": [
    "# for wiki\n",
    "words_input = Input(shape=(None,300), dtype='float32',name='words_input')\n",
    "# words = Embedding(input_dim =50, output_dim=300, trainable=False)(words_input)\n",
    "casing_input = Input(shape=(None,), dtype='int32', name='casing_input')\n",
    "casing = Embedding(output_dim=caseEmbeddings.shape[1], input_dim=caseEmbeddings.shape[0], weights=[caseEmbeddings], trainable=False)(casing_input)\n",
    "character_input=Input(shape=(None,52,),name='char_input')\n",
    "embed_char_out=TimeDistributed(Embedding(len(char2Idx),30,embeddings_initializer=RandomUniform(minval=-0.5, maxval=0.5)), name='char_embedding')(character_input)\n",
    "dropout= Dropout(0.5, name='dropout1')(embed_char_out)\n",
    "conv1d_out= TimeDistributed(Conv1D(kernel_size=3, filters=30, padding='same',activation='tanh', strides=1, name='conv'))(dropout)\n",
    "maxpool_out=TimeDistributed(MaxPooling1D(52), name='maxpool')(conv1d_out)\n",
    "char = TimeDistributed(Flatten())(maxpool_out)\n",
    "char = Dropout(0.5)(char)\n",
    "output = concatenate([words_input, char])\n",
    "output = Bidirectional(LSTM(200, return_sequences=False, dropout=0.50, recurrent_dropout=0.5))(output)\n",
    "# output = TimeDistributed(Dense(vocab_size))(output)\n",
    "# crf = CRF(len(label2Idx))\n",
    "# output = crf(output)\n",
    "# output = Flatten()(output)\n",
    "output = Dense(vocab_size, activation='softmax')(output)\n",
    "# output = Flatten()(output)\n",
    "# output = Dense(vocab_size, activation='softmax')(output)\n",
    "# model.add(Dense(vocab_size, activation='softmax'))\n",
    "model = Model(inputs=[words_input,casing_input, character_input], outputs=[output])\n",
    "# model.compile(loss='sparse_categorical_crossentropy', optimizer='nadam', metrics=['accuracy'])\n",
    "# model.summary()"
   ]
  },
  {
   "cell_type": "code",
   "execution_count": 150,
   "metadata": {},
   "outputs": [
    {
     "name": "stdout",
     "output_type": "stream",
     "text": [
      "__________________________________________________________________________________________________\n",
      "Layer (type)                    Output Shape         Param #     Connected to                     \n",
      "==================================================================================================\n",
      "char_input (InputLayer)         (None, None, 52)     0                                            \n",
      "__________________________________________________________________________________________________\n",
      "char_embedding (TimeDistributed (None, None, 52, 30) 34200       char_input[0][0]                 \n",
      "__________________________________________________________________________________________________\n",
      "dropout1 (Dropout)              (None, None, 52, 30) 0           char_embedding[0][0]             \n",
      "__________________________________________________________________________________________________\n",
      "time_distributed_19 (TimeDistri (None, None, 52, 30) 2730        dropout1[0][0]                   \n",
      "__________________________________________________________________________________________________\n",
      "maxpool (TimeDistributed)       (None, None, 1, 30)  0           time_distributed_19[0][0]        \n",
      "__________________________________________________________________________________________________\n",
      "time_distributed_20 (TimeDistri (None, None, 30)     0           maxpool[0][0]                    \n",
      "__________________________________________________________________________________________________\n",
      "words_input (InputLayer)        (None, None, 300)    0                                            \n",
      "__________________________________________________________________________________________________\n",
      "dropout_10 (Dropout)            (None, None, 30)     0           time_distributed_20[0][0]        \n",
      "__________________________________________________________________________________________________\n",
      "concatenate_10 (Concatenate)    (None, None, 330)    0           words_input[0][0]                \n",
      "                                                                 dropout_10[0][0]                 \n",
      "__________________________________________________________________________________________________\n",
      "bidirectional_10 (Bidirectional (None, 400)          849600      concatenate_10[0][0]             \n",
      "__________________________________________________________________________________________________\n",
      "dense_13 (Dense)                (None, 300)          120300      bidirectional_10[0][0]           \n",
      "==================================================================================================\n",
      "Total params: 1,006,830\n",
      "Trainable params: 1,006,830\n",
      "Non-trainable params: 0\n",
      "__________________________________________________________________________________________________\n"
     ]
    }
   ],
   "source": [
    "# for twitter\n",
    "words_input = Input(shape=(None, 300), dtype='float32',name='words_input')\n",
    "# words = Embedding(input_dim =50, output_dim=300, trainable=False)(words_input)\n",
    "casing_input = Input(shape=(None,), dtype='int32', name='casing_input')\n",
    "casing = Embedding(output_dim=caseEmbeddings.shape[1], input_dim=caseEmbeddings.shape[0], weights=[caseEmbeddings], trainable=False)(casing_input)\n",
    "character_input=Input(shape=(None,52,),name='char_input')\n",
    "embed_char_out=TimeDistributed(Embedding(len(char2Idx),30,embeddings_initializer=RandomUniform(minval=-0.5, maxval=0.5)), name='char_embedding')(character_input)\n",
    "dropout= Dropout(0.5, name='dropout1')(embed_char_out)\n",
    "conv1d_out= TimeDistributed(Conv1D(kernel_size=3, filters=30, padding='same',activation='tanh', strides=1, name='conv'))(dropout)\n",
    "maxpool_out=TimeDistributed(MaxPooling1D(52), name='maxpool')(conv1d_out)\n",
    "char = TimeDistributed(Flatten())(maxpool_out)\n",
    "char = Dropout(0.5)(char)\n",
    "output = concatenate([words_input, char])\n",
    "output = Bidirectional(LSTM(200, return_sequences=False, dropout=0.50, recurrent_dropout=0.5))(output)\n",
    "# output = TimeDistributed(Dense(vocab_size))(output)\n",
    "# crf = CRF(len(label2Idx))\n",
    "# output = crf(output)\n",
    "# output = Flatten()(output)\n",
    "output = Dense(300, activation='softmax')(output)\n",
    "# output = Flatten()(output)\n",
    "# output = Dense(vocab_size, activation='softmax')(output)\n",
    "# model.add(Dense(vocab_size, activation='softmax'))\n",
    "model = Model(inputs=[words_input,casing_input, character_input], outputs=[output])\n",
    "model.compile(loss='cosine_proximity', optimizer='nadam', metrics=['accuracy'])\n",
    "model.summary()\n",
    "# plot_model(model, to_file='model.png')"
   ]
  },
  {
   "cell_type": "code",
   "execution_count": 151,
   "metadata": {},
   "outputs": [],
   "source": [
    "model.load_weights('german_lm_twitter.h5')"
   ]
  },
  {
   "cell_type": "markdown",
   "metadata": {},
   "source": [
    "# Doing Transfer Learning"
   ]
  },
  {
   "cell_type": "code",
   "execution_count": 152,
   "metadata": {},
   "outputs": [
    {
     "name": "stdout",
     "output_type": "stream",
     "text": [
      "char_input\n",
      "char_embedding\n",
      "dropout1\n",
      "time_distributed_19\n",
      "maxpool\n",
      "time_distributed_20\n",
      "words_input\n",
      "dropout_10\n",
      "concatenate_10\n",
      "bidirectional_10\n",
      "dense_13\n"
     ]
    }
   ],
   "source": [
    "for layer in model.layers:\n",
    "    print(layer.name)"
   ]
  },
  {
   "cell_type": "code",
   "execution_count": 153,
   "metadata": {},
   "outputs": [
    {
     "data": {
      "text/plain": [
       "<keras.layers.core.Dense at 0x7faae7386630>"
      ]
     },
     "execution_count": 153,
     "metadata": {},
     "output_type": "execute_result"
    }
   ],
   "source": [
    "model.layers.pop()"
   ]
  },
  {
   "cell_type": "code",
   "execution_count": 154,
   "metadata": {},
   "outputs": [
    {
     "name": "stdout",
     "output_type": "stream",
     "text": [
      "char_input\n",
      "char_embedding\n",
      "dropout1\n",
      "time_distributed_19\n",
      "maxpool\n",
      "time_distributed_20\n",
      "words_input\n",
      "dropout_10\n",
      "concatenate_10\n",
      "bidirectional_10\n"
     ]
    }
   ],
   "source": [
    "for layer in model.layers:\n",
    "    print(layer.name)"
   ]
  },
  {
   "cell_type": "code",
   "execution_count": 155,
   "metadata": {},
   "outputs": [],
   "source": [
    "characters={}\n",
    "labels = {}\n",
    "with open('/home/jindal/notebooks/jindal/NER/language_model/germeval2018.training.txt') as f:\n",
    "# with open('/home/gwiedemann/notebooks/OffLang/sample_train.txt') as f:\n",
    "    for line in f:\n",
    "        text, label_simple, label_complex = line.split('\\t')\n",
    "        labels[label_simple]=True\n",
    "        for word in text:\n",
    "            for char in word:\n",
    "                characters[char]=True\n",
    "                "
   ]
  },
  {
   "cell_type": "code",
   "execution_count": 156,
   "metadata": {},
   "outputs": [],
   "source": [
    "label2Idx = {}\n",
    "for label in labels:\n",
    "    label2Idx[label] = len(label2Idx)"
   ]
  },
  {
   "cell_type": "code",
   "execution_count": 157,
   "metadata": {},
   "outputs": [
    {
     "name": "stdout",
     "output_type": "stream",
     "text": [
      "{'OTHER': 0, 'OFFENSE': 1}\n"
     ]
    }
   ],
   "source": [
    "print(label2Idx)"
   ]
  },
  {
   "cell_type": "code",
   "execution_count": 158,
   "metadata": {},
   "outputs": [],
   "source": [
    "output = Dense(len(label2Idx), activation = 'softmax')(model.layers[-1].output)"
   ]
  },
  {
   "cell_type": "code",
   "execution_count": 159,
   "metadata": {},
   "outputs": [],
   "source": [
    "final_model = Model(inputs=model.input, outputs=[output])"
   ]
  },
  {
   "cell_type": "code",
   "execution_count": 160,
   "metadata": {},
   "outputs": [
    {
     "name": "stdout",
     "output_type": "stream",
     "text": [
      "char_input\n",
      "char_embedding\n",
      "dropout1\n",
      "time_distributed_19\n",
      "maxpool\n",
      "time_distributed_20\n",
      "words_input\n",
      "dropout_10\n",
      "concatenate_10\n",
      "bidirectional_10\n",
      "dense_14\n"
     ]
    }
   ],
   "source": [
    "for layer in final_model.layers:\n",
    "    print(layer.name)"
   ]
  },
  {
   "cell_type": "code",
   "execution_count": 161,
   "metadata": {},
   "outputs": [
    {
     "name": "stdout",
     "output_type": "stream",
     "text": [
      "__________________________________________________________________________________________________\n",
      "Layer (type)                    Output Shape         Param #     Connected to                     \n",
      "==================================================================================================\n",
      "char_input (InputLayer)         (None, None, 52)     0                                            \n",
      "__________________________________________________________________________________________________\n",
      "char_embedding (TimeDistributed (None, None, 52, 30) 34200       char_input[0][0]                 \n",
      "__________________________________________________________________________________________________\n",
      "dropout1 (Dropout)              (None, None, 52, 30) 0           char_embedding[0][0]             \n",
      "__________________________________________________________________________________________________\n",
      "time_distributed_19 (TimeDistri (None, None, 52, 30) 2730        dropout1[0][0]                   \n",
      "__________________________________________________________________________________________________\n",
      "maxpool (TimeDistributed)       (None, None, 1, 30)  0           time_distributed_19[0][0]        \n",
      "__________________________________________________________________________________________________\n",
      "time_distributed_20 (TimeDistri (None, None, 30)     0           maxpool[0][0]                    \n",
      "__________________________________________________________________________________________________\n",
      "words_input (InputLayer)        (None, None, 300)    0                                            \n",
      "__________________________________________________________________________________________________\n",
      "dropout_10 (Dropout)            (None, None, 30)     0           time_distributed_20[0][0]        \n",
      "__________________________________________________________________________________________________\n",
      "concatenate_10 (Concatenate)    (None, None, 330)    0           words_input[0][0]                \n",
      "                                                                 dropout_10[0][0]                 \n",
      "__________________________________________________________________________________________________\n",
      "bidirectional_10 (Bidirectional (None, 400)          849600      concatenate_10[0][0]             \n",
      "__________________________________________________________________________________________________\n",
      "dense_14 (Dense)                (None, 2)            802         bidirectional_10[0][0]           \n",
      "==================================================================================================\n",
      "Total params: 887,332\n",
      "Trainable params: 887,332\n",
      "Non-trainable params: 0\n",
      "__________________________________________________________________________________________________\n"
     ]
    }
   ],
   "source": [
    "final_model.compile(loss='categorical_crossentropy', optimizer='nadam', metrics=['accuracy'])\n",
    "final_model.summary()"
   ]
  },
  {
   "cell_type": "code",
   "execution_count": 103,
   "metadata": {},
   "outputs": [],
   "source": [
    "out_file1 = open('/home/jindal/notebooks/jindal/NER/language_model/germeval2018.training_simple_labels.txt','wb')\n",
    "out_file2 = open('/home/jindal/notebooks/jindal/NER/language_model/germeval2018.training_complex_labels.txt','wb')\n",
    "with open('/home/jindal/notebooks/jindal/NER/language_model/germeval2018.training.txt', ) as f:\n",
    "    for line in f:\n",
    "        line = line.split('\\t')\n",
    "#         print(len(line))\n",
    "        text, label_simple, label_complex = line\n",
    "        simple = [text, label_simple]\n",
    "        compl = [text, label_complex]\n",
    "        string_simple = '\\t'.join(simple)+' \\n'\n",
    "        string_complex = '\\t'.join(compl)+' \\n'\n",
    "        out_file1.write(string_simple.encode())\n",
    "        out_file2.write(string_complex.encode())\n",
    "out_file1.close()\n",
    "out_file2.close()"
   ]
  },
  {
   "cell_type": "code",
   "execution_count": 162,
   "metadata": {},
   "outputs": [],
   "source": [
    "line_number=0"
   ]
  },
  {
   "cell_type": "code",
   "execution_count": 163,
   "metadata": {},
   "outputs": [],
   "source": [
    "ft = fastText.load_model(\"/home/jindal/notebooks/fastText/wiki.de.bin\")\n",
    "\n",
    "nb_embedding_dims = ft.get_dimension()"
   ]
  },
  {
   "cell_type": "code",
   "execution_count": 164,
   "metadata": {},
   "outputs": [],
   "source": [
    "char2Idx={}\n",
    "for char in characters:\n",
    "    char2Idx[char] = len(char2Idx)"
   ]
  },
  {
   "cell_type": "code",
   "execution_count": 165,
   "metadata": {},
   "outputs": [],
   "source": [
    "def file_len(fname):\n",
    "    with open(fname) as f:\n",
    "        for i, l in enumerate(f):\n",
    "            pass\n",
    "    return i + 1"
   ]
  },
  {
   "cell_type": "code",
   "execution_count": 166,
   "metadata": {},
   "outputs": [
    {
     "data": {
      "text/plain": [
       "'@Miquwarchar Hat die jemand dafür angezeigt?\\tOTHER \\n'"
      ]
     },
     "execution_count": 166,
     "metadata": {},
     "output_type": "execute_result"
    }
   ],
   "source": [
    "linecache.getline('/home/jindal/notebooks/jindal/NER/language_model/germeval2018.training_simple_labels.txt', 64)"
   ]
  },
  {
   "cell_type": "code",
   "execution_count": 167,
   "metadata": {},
   "outputs": [],
   "source": [
    "def my_generator(file :\"input training file\", batch_size):\n",
    "    \n",
    "    global line_number, lock\n",
    "\n",
    "    while True:\n",
    "        word_embeddings = []\n",
    "        case_embeddings = []\n",
    "        char_embeddings = []\n",
    "        output_labels = []\n",
    "        total_lines = file_len(file)\n",
    "        for i in range(batch_size):\n",
    "            \n",
    "#             lock.acquire()\n",
    "            \n",
    "            index = line_number%total_lines +1\n",
    "            line_number+=1\n",
    "#             lock.release()\n",
    "#             index = random.choice(len(features), 1)[0]\n",
    "            line = linecache.getline(file, index)\n",
    "            if len(line.split('\\t'))!=3:\n",
    "                continue\n",
    "            text, label_simple, label_complex = line.split('\\t')\n",
    "#             assert index<=100\n",
    "#             print(text)\n",
    "            temp_casing = []\n",
    "            temp_char=[]\n",
    "            temp_word=[]\n",
    "#             print(line)\n",
    "#             print(len)\n",
    "            for word in text.split():\n",
    "#                 print(word)\n",
    "                casing =getCasing(word, case2Idx)\n",
    "#                 print(casing)\n",
    "                temp_casing.append(casing)\n",
    "                temp_char2=[]\n",
    "                for char in word:\n",
    "                    temp_char2.append(char2Idx[char])\n",
    "                temp_char2 = np.array(temp_char2)\n",
    "#                 print(temp_char2)\n",
    "#                 temp_char2 = pad_sequences(temp_char2, 52, padding='post')\n",
    "#                 temp_char.append(pad_sequences(temp_char2, 52, padding='post'))\n",
    "                temp_char.append(temp_char2)\n",
    "                word_vector = ft.get_word_vector(word.lower())\n",
    "#                 print(len(word_vector))\n",
    "                temp_word.append(word_vector)\n",
    "            temp_char = pad_sequences(temp_char, 52)\n",
    "#             print(temp_word)\n",
    "#             print(len(temp_word))\n",
    "#             print(len(temp_casing))\n",
    "#             print(temp_char)\n",
    "#             print(len(temp_char))\n",
    "#             print(label2Idx[label])\n",
    "#             print(index)\n",
    "#             print(\" **************** \")\n",
    "            word_embeddings.append(temp_word)\n",
    "#             print((len(word_embeddings), len(word_embeddings[0]), len(word_embeddings[0][0])))\n",
    "\n",
    "            case_embeddings.append(temp_casing)\n",
    "            char_embeddings.append(temp_char)\n",
    "            output_labels.append(label2Idx[label_simple])\n",
    "#             print(np.array(word_embeddings))\n",
    "#             batch_features[i] = process_features(line, window_size-1, nb_embedding_dims)\n",
    "            # print(batch_features[i])\n",
    "            # print(batch_features[i].shape)\n",
    "#             batch_labels[i] = labels[index]\n",
    "        yield ([np.array(word_embeddings), np.array(case_embeddings), np.array(char_embeddings)], to_categorical(output_labels, len(label2Idx)))"
   ]
  },
  {
   "cell_type": "code",
   "execution_count": 29,
   "metadata": {},
   "outputs": [
    {
     "ename": "KeyboardInterrupt",
     "evalue": "",
     "output_type": "error",
     "traceback": [
      "\u001b[0;31m---------------------------------------------------------------------------\u001b[0m",
      "\u001b[0;31mKeyboardInterrupt\u001b[0m                         Traceback (most recent call last)",
      "\u001b[0;32m<ipython-input-29-df2ce53cfeb4>\u001b[0m in \u001b[0;36m<module>\u001b[0;34m()\u001b[0m\n\u001b[1;32m      1\u001b[0m \u001b[0mline_number\u001b[0m\u001b[0;34m=\u001b[0m\u001b[0;36m0\u001b[0m\u001b[0;34m\u001b[0m\u001b[0m\n\u001b[0;32m----> 2\u001b[0;31m \u001b[0;32mfor\u001b[0m \u001b[0minp\u001b[0m\u001b[0;34m,\u001b[0m \u001b[0moutput\u001b[0m \u001b[0;32min\u001b[0m \u001b[0mmy_generator\u001b[0m\u001b[0;34m(\u001b[0m\u001b[0;34m'/home/gwiedemann/notebooks/OffLang/sample_train.txt'\u001b[0m\u001b[0;34m,\u001b[0m\u001b[0;36m32\u001b[0m\u001b[0;34m)\u001b[0m\u001b[0;34m:\u001b[0m\u001b[0;34m\u001b[0m\u001b[0m\n\u001b[0m\u001b[1;32m      3\u001b[0m     \u001b[0;32mcontinue\u001b[0m\u001b[0;34m\u001b[0m\u001b[0m\n\u001b[1;32m      4\u001b[0m \u001b[0;31m#     print(inp[0].shape)\u001b[0m\u001b[0;34m\u001b[0m\u001b[0;34m\u001b[0m\u001b[0m\n\u001b[1;32m      5\u001b[0m \u001b[0;31m#     print(inp[1].shape)\u001b[0m\u001b[0;34m\u001b[0m\u001b[0;34m\u001b[0m\u001b[0m\n",
      "\u001b[0;32m<ipython-input-28-15054b89f27b>\u001b[0m in \u001b[0;36mmy_generator\u001b[0;34m(file, batch_size)\u001b[0m\n\u001b[1;32m     41\u001b[0m \u001b[0;31m#                 temp_char.append(pad_sequences(temp_char2, 52, padding='post'))\u001b[0m\u001b[0;34m\u001b[0m\u001b[0;34m\u001b[0m\u001b[0m\n\u001b[1;32m     42\u001b[0m                 \u001b[0mtemp_char\u001b[0m\u001b[0;34m.\u001b[0m\u001b[0mappend\u001b[0m\u001b[0;34m(\u001b[0m\u001b[0mtemp_char2\u001b[0m\u001b[0;34m)\u001b[0m\u001b[0;34m\u001b[0m\u001b[0m\n\u001b[0;32m---> 43\u001b[0;31m                 \u001b[0mword_vector\u001b[0m \u001b[0;34m=\u001b[0m \u001b[0mft\u001b[0m\u001b[0;34m.\u001b[0m\u001b[0mget_word_vector\u001b[0m\u001b[0;34m(\u001b[0m\u001b[0mword\u001b[0m\u001b[0;34m.\u001b[0m\u001b[0mlower\u001b[0m\u001b[0;34m(\u001b[0m\u001b[0;34m)\u001b[0m\u001b[0;34m)\u001b[0m\u001b[0;34m\u001b[0m\u001b[0m\n\u001b[0m\u001b[1;32m     44\u001b[0m \u001b[0;31m#                 print(len(word_vector))\u001b[0m\u001b[0;34m\u001b[0m\u001b[0;34m\u001b[0m\u001b[0m\n\u001b[1;32m     45\u001b[0m                 \u001b[0mtemp_word\u001b[0m\u001b[0;34m.\u001b[0m\u001b[0mappend\u001b[0m\u001b[0;34m(\u001b[0m\u001b[0mword_vector\u001b[0m\u001b[0;34m)\u001b[0m\u001b[0;34m\u001b[0m\u001b[0m\n",
      "\u001b[0;32m~/miniconda3/envs/NER2/lib/python3.5/site-packages/fastText/FastText.py\u001b[0m in \u001b[0;36mget_word_vector\u001b[0;34m(self, word)\u001b[0m\n\u001b[1;32m     48\u001b[0m         \u001b[0;34m\"\"\"Get the vector representation of word.\"\"\"\u001b[0m\u001b[0;34m\u001b[0m\u001b[0m\n\u001b[1;32m     49\u001b[0m         \u001b[0mdim\u001b[0m \u001b[0;34m=\u001b[0m \u001b[0mself\u001b[0m\u001b[0;34m.\u001b[0m\u001b[0mget_dimension\u001b[0m\u001b[0;34m(\u001b[0m\u001b[0;34m)\u001b[0m\u001b[0;34m\u001b[0m\u001b[0m\n\u001b[0;32m---> 50\u001b[0;31m         \u001b[0mb\u001b[0m \u001b[0;34m=\u001b[0m \u001b[0mfasttext\u001b[0m\u001b[0;34m.\u001b[0m\u001b[0mVector\u001b[0m\u001b[0;34m(\u001b[0m\u001b[0mdim\u001b[0m\u001b[0;34m)\u001b[0m\u001b[0;34m\u001b[0m\u001b[0m\n\u001b[0m\u001b[1;32m     51\u001b[0m         \u001b[0mself\u001b[0m\u001b[0;34m.\u001b[0m\u001b[0mf\u001b[0m\u001b[0;34m.\u001b[0m\u001b[0mgetWordVector\u001b[0m\u001b[0;34m(\u001b[0m\u001b[0mb\u001b[0m\u001b[0;34m,\u001b[0m \u001b[0mword\u001b[0m\u001b[0;34m)\u001b[0m\u001b[0;34m\u001b[0m\u001b[0m\n\u001b[1;32m     52\u001b[0m         \u001b[0;32mreturn\u001b[0m \u001b[0mnp\u001b[0m\u001b[0;34m.\u001b[0m\u001b[0marray\u001b[0m\u001b[0;34m(\u001b[0m\u001b[0mb\u001b[0m\u001b[0;34m)\u001b[0m\u001b[0;34m\u001b[0m\u001b[0m\n",
      "\u001b[0;31mKeyboardInterrupt\u001b[0m: "
     ]
    }
   ],
   "source": [
    "line_number=0\n",
    "for inp, output in my_generator('/home/gwiedemann/notebooks/OffLang/sample_train.txt',32):\n",
    "    continue\n",
    "#     print(inp[0].shape)\n",
    "#     print(inp[1].shape)\n",
    "#     print(inp[2].shape)\n",
    "#     print(output.shape)"
   ]
  },
  {
   "cell_type": "code",
   "execution_count": 168,
   "metadata": {},
   "outputs": [],
   "source": [
    "def validation_data_generator(file, batch_size):\n",
    "    \n",
    "    global line_number_validation, lock\n",
    "\n",
    "    while True:\n",
    "        word_embeddings = []\n",
    "        case_embeddings = []\n",
    "        char_embeddings = []\n",
    "        output_labels = []\n",
    "        total_lines = file_len(file)\n",
    "        for i in range(batch_size):\n",
    "            \n",
    "#             lock.acquire()\n",
    "            \n",
    "            index = line_number_validation%total_lines +1\n",
    "            line_number_validation+=1\n",
    "#             lock.release()\n",
    "#             index = random.choice(len(features), 1)[0]\n",
    "            line = linecache.getline(file, index)\n",
    "            if len(line.split('\\t'))!=3:\n",
    "                continue\n",
    "            text, simple_label, complex_label = line.split('\\t')\n",
    "#             assert index<=100\n",
    "#             print(text)\n",
    "            temp_casing = []\n",
    "            temp_char=[]\n",
    "            temp_word=[]\n",
    "#             print(line)\n",
    "#             print(len)\n",
    "            for word in text.split():\n",
    "#                 print(word)\n",
    "                casing =getCasing(word, case2Idx)\n",
    "#                 print(casing)\n",
    "                temp_casing.append(casing)\n",
    "                temp_char2=[]\n",
    "                for char in word:\n",
    "                    temp_char2.append(char2Idx[char])\n",
    "                temp_char2 = np.array(temp_char2)\n",
    "#                 print(temp_char2)\n",
    "#                 temp_char2 = pad_sequences(temp_char2, 52, padding='post')\n",
    "#                 temp_char.append(pad_sequences(temp_char2, 52, padding='post'))\n",
    "                temp_char.append(temp_char2)\n",
    "                word_vector = ft.get_word_vector(word.lower())\n",
    "#                 print(len(word_vector))\n",
    "                temp_word.append(word_vector)\n",
    "            temp_char = pad_sequences(temp_char, 52)\n",
    "#             print(temp_word)\n",
    "#             print(len(temp_word))\n",
    "#             print(len(temp_casing))\n",
    "#             print(temp_char)\n",
    "#             print(len(temp_char))\n",
    "#             print(label2Idx[label])\n",
    "#             print(index)\n",
    "#             print(\" **************** \")\n",
    "            word_embeddings.append(temp_word)\n",
    "#             print((len(word_embeddings), len(word_embeddings[0]), len(word_embeddings[0][0])))\n",
    "\n",
    "            case_embeddings.append(temp_casing)\n",
    "            char_embeddings.append(temp_char)\n",
    "            output_labels.append(label2Idx[simple_label])\n",
    "#             print(np.array(word_embeddings))\n",
    "#             batch_features[i] = process_features(line, window_size-1, nb_embedding_dims)\n",
    "            # print(batch_features[i])\n",
    "            # print(batch_features[i].shape)\n",
    "#             batch_labels[i] = labels[index]\n",
    "        yield ([np.array(word_embeddings), np.array(case_embeddings), np.array(char_embeddings)], to_categorical(output_labels, len(label2Idx)))\n",
    "            "
   ]
  },
  {
   "cell_type": "code",
   "execution_count": 169,
   "metadata": {},
   "outputs": [
    {
     "name": "stdout",
     "output_type": "stream",
     "text": [
      "OTHER\n"
     ]
    }
   ],
   "source": [
    "print(label_simple)"
   ]
  },
  {
   "cell_type": "code",
   "execution_count": 170,
   "metadata": {},
   "outputs": [
    {
     "name": "stdout",
     "output_type": "stream",
     "text": [
      "[0. 1. 0.]\n"
     ]
    }
   ],
   "source": [
    "print(to_categorical(1,3))\n"
   ]
  },
  {
   "cell_type": "code",
   "execution_count": 191,
   "metadata": {},
   "outputs": [
    {
     "name": "stdout",
     "output_type": "stream",
     "text": [
      "Epoch 1/10\n",
      "4199/4200 [============================>.] - ETA: 0s - loss: 0.4711 - acc: 0.7783\n",
      "Epoch 00001: val_acc improved from -inf to 0.76828, saving model to model_with_pretraining.h5\n",
      "4200/4200 [==============================] - 427s 102ms/step - loss: 0.4711 - acc: 0.7783 - val_loss: 0.4980 - val_acc: 0.7683\n",
      "Epoch 2/10\n",
      "4199/4200 [============================>.] - ETA: 0s - loss: 0.4556 - acc: 0.7814\n",
      "Epoch 00002: val_acc did not improve\n",
      "4200/4200 [==============================] - 428s 102ms/step - loss: 0.4556 - acc: 0.7814 - val_loss: 0.5450 - val_acc: 0.7497\n",
      "Epoch 3/10\n",
      "4199/4200 [============================>.] - ETA: 0s - loss: 0.4554 - acc: 0.7871\n",
      "Epoch 00003: val_acc did not improve\n",
      "4200/4200 [==============================] - 427s 102ms/step - loss: 0.4553 - acc: 0.7871 - val_loss: 0.5193 - val_acc: 0.7460\n",
      "Epoch 4/10\n",
      "4199/4200 [============================>.] - ETA: 0s - loss: 0.4541 - acc: 0.7892\n",
      "Epoch 00004: val_acc did not improve\n",
      "4200/4200 [==============================] - 428s 102ms/step - loss: 0.4541 - acc: 0.7893 - val_loss: 0.5161 - val_acc: 0.7571\n",
      "Epoch 5/10\n",
      "4199/4200 [============================>.] - ETA: 0s - loss: 0.4392 - acc: 0.7878\n",
      "Epoch 00005: val_acc did not improve\n",
      "4200/4200 [==============================] - 425s 101ms/step - loss: 0.4391 - acc: 0.7879 - val_loss: 0.5212 - val_acc: 0.7546\n",
      "Epoch 6/10\n",
      "4199/4200 [============================>.] - ETA: 0s - loss: 0.4562 - acc: 0.7888\n",
      "Epoch 00006: val_acc did not improve\n",
      "4200/4200 [==============================] - 427s 102ms/step - loss: 0.4561 - acc: 0.7888 - val_loss: 0.5220 - val_acc: 0.7398\n",
      "Epoch 7/10\n",
      "4199/4200 [============================>.] - ETA: 0s - loss: 0.4547 - acc: 0.7892\n",
      "Epoch 00007: val_acc did not improve\n",
      "4200/4200 [==============================] - 431s 103ms/step - loss: 0.4546 - acc: 0.7893 - val_loss: 0.5217 - val_acc: 0.7608\n",
      "Epoch 8/10\n",
      "4199/4200 [============================>.] - ETA: 0s - loss: 0.4524 - acc: 0.7923\n",
      "Epoch 00008: val_acc did not improve\n",
      "4200/4200 [==============================] - 426s 101ms/step - loss: 0.4523 - acc: 0.7924 - val_loss: 0.5278 - val_acc: 0.7522\n",
      "Epoch 9/10\n",
      "4199/4200 [============================>.] - ETA: 0s - loss: 0.4465 - acc: 0.7930\n",
      "Epoch 00009: val_acc did not improve\n",
      "4200/4200 [==============================] - 432s 103ms/step - loss: 0.4465 - acc: 0.7931 - val_loss: 0.5057 - val_acc: 0.7646\n",
      "Epoch 10/10\n",
      "4199/4200 [============================>.] - ETA: 0s - loss: 0.4513 - acc: 0.7935\n",
      "Epoch 00010: val_acc did not improve\n",
      "4200/4200 [==============================] - 431s 103ms/step - loss: 0.4513 - acc: 0.7936 - val_loss: 0.5249 - val_acc: 0.7546\n"
     ]
    }
   ],
   "source": [
    "line_number=0\n",
    "line_number_validation=0\n",
    "# training_file_name = '/home/jindal/notebooks/jindal/NER/language_model/germeval2018.training_simple_labels.txt'\n",
    "training_file_name = '/home/gwiedemann/notebooks/OffLang/sample_train.txt'\n",
    "dev_file_name = '/home/gwiedemann/notebooks/OffLang/sample_dev.txt'\n",
    "checkpoint = ModelCheckpoint('model_with_pretraining.h5', monitor='val_acc', verbose=1, save_best_only=True, mode='max')\n",
    "final_model.fit_generator(my_generator(training_file_name, 1)\n",
    "                         , epochs =10 , steps_per_epoch = file_len(training_file_name)//1, validation_data=validation_data_generator(dev_file_name, 1),\n",
    "                         validation_steps=807,callbacks=[checkpoint])\n",
    "final_model.save('model_with_pretraining.h5')"
   ]
  },
  {
   "cell_type": "code",
   "execution_count": 192,
   "metadata": {},
   "outputs": [],
   "source": [
    "idx2Label={}\n",
    "for key, value in label2Idx.items():\n",
    "    idx2Label[value]=key"
   ]
  },
  {
   "cell_type": "code",
   "execution_count": 193,
   "metadata": {},
   "outputs": [],
   "source": [
    "def return_predictions(filename, model):\n",
    "    gold_file = open('/home/jindal/notebooks/jindal/NER/language_model/gold_pred_simple.txt','w')\n",
    "    pred_file = open('/home/jindal/notebooks/jindal/NER/language_model/pred_simple.txt','w')\n",
    "    true_labels=[]\n",
    "    pred_labels=[]\n",
    "    with open(filename) as f:\n",
    "        for line in f:\n",
    "#             print(line.split('\\t')[0], end=' ')\n",
    "            word_embeddings=[]\n",
    "            case_embeddings=[]\n",
    "            char_embeddings=[]\n",
    "            if len(line.split('\\t'))!=3:\n",
    "                    continue\n",
    "            text, simple_label, complex_label = line.split('\\t')\n",
    "            to_write_gold = text+'\\t'+simple_label+'\\t'+simple_label+'\\n'\n",
    "            to_write_pred = text\n",
    "            temp_casing = []\n",
    "            temp_char=[]\n",
    "            temp_word=[]\n",
    "            for word in text.split():\n",
    "                casing =getCasing(word, case2Idx)\n",
    "                temp_casing.append(casing)\n",
    "                temp_char2=[]\n",
    "                for char in word:\n",
    "                    temp_char2.append(char2Idx[char])\n",
    "                temp_char2 = np.array(temp_char2)\n",
    "                temp_char.append(temp_char2)\n",
    "                word_vector = ft.get_word_vector(word.lower())\n",
    "                temp_word.append(word_vector)\n",
    "            temp_char = pad_sequences(temp_char, 52)\n",
    "            word_embeddings.append(temp_word)\n",
    "            case_embeddings.append(temp_casing)\n",
    "            char_embeddings.append(temp_char)\n",
    "    #         output_labels.append(label2Idx[label_simple])\n",
    "            inp= [np.array([temp_word]), np.array([temp_casing]), np.array([temp_char])]\n",
    "    #         yield ([np.array(word_embeddings), np.array(case_embeddings), np.array(char_embeddings)], to_categorical(output_labels, len(label2Idx)))\n",
    "    #         print(final_model.predict_classes(inp))\n",
    "            prediction = model.predict(inp,batch_size=1)[0].argmax(-1)\n",
    "            to_write_pred = to_write_pred + '\\t'+ idx2Label[prediction]+'\\t'+ idx2Label[prediction]+'\\n'\n",
    "            correct = label2Idx[simple_label]\n",
    "#             print(prediction,correct)\n",
    "            gold_file.write(to_write_gold)\n",
    "            pred_file.write(to_write_pred)\n",
    "            pred_labels.append(prediction)\n",
    "            true_labels.append(correct)\n",
    "#             print(idx2Label[final_model.predict(inp, batch_size=1)[0].argmax(-1)])\n",
    "    #         y_classes = y_prob.argmax(axis=-1)\n",
    "        gold_file.close()\n",
    "        pred_file.close()\n",
    "        return pred_labels, true_labels\n"
   ]
  },
  {
   "cell_type": "code",
   "execution_count": 194,
   "metadata": {},
   "outputs": [],
   "source": [
    "final_model.load_weights('model_with_pretraining.h5')"
   ]
  },
  {
   "cell_type": "code",
   "execution_count": 195,
   "metadata": {},
   "outputs": [
    {
     "data": {
      "text/plain": [
       "0.7266464364799474"
      ]
     },
     "execution_count": 195,
     "metadata": {},
     "output_type": "execute_result"
    }
   ],
   "source": [
    "pred , correct = return_predictions('/home/gwiedemann/notebooks/OffLang/sample_dev.txt',final_model)\n",
    "\n",
    "sklearn.metrics.f1_score(correct, pred, average='macro')"
   ]
  },
  {
   "cell_type": "code",
   "execution_count": null,
   "metadata": {},
   "outputs": [],
   "source": []
  },
  {
   "cell_type": "markdown",
   "metadata": {},
   "source": [
    "# Making model without pretraining to compare the results"
   ]
  },
  {
   "cell_type": "code",
   "execution_count": 196,
   "metadata": {},
   "outputs": [],
   "source": [
    "words_input = Input(shape=(None,300), dtype='float32',name='words_input')\n",
    "# words = Embedding(input_dim =50, output_dim=300, trainable=False)(words_input)\n",
    "casing_input = Input(shape=(None,), dtype='int32', name='casing_input')\n",
    "casing = Embedding(output_dim=caseEmbeddings.shape[1], input_dim=caseEmbeddings.shape[0], weights=[caseEmbeddings], trainable=False)(casing_input)\n",
    "character_input=Input(shape=(None,52,),name='char_input')\n",
    "embed_char_out=TimeDistributed(Embedding(len(char2Idx),30,embeddings_initializer=RandomUniform(minval=-0.5, maxval=0.5)), name='char_embedding')(character_input)\n",
    "dropout= Dropout(0.5, name='dropout1')(embed_char_out)\n",
    "conv1d_out= TimeDistributed(Conv1D(kernel_size=3, filters=30, padding='same',activation='tanh', strides=1, name='conv'))(dropout)\n",
    "maxpool_out=TimeDistributed(MaxPooling1D(52), name='maxpool')(conv1d_out)\n",
    "char = TimeDistributed(Flatten())(maxpool_out)\n",
    "char = Dropout(0.5)(char)\n",
    "output = concatenate([words_input, char])\n",
    "output = Bidirectional(LSTM(200, return_sequences=False, dropout=0.50, recurrent_dropout=0.5))(output)\n",
    "# output = TimeDistributed(Dense(vocab_size))(output)\n",
    "# crf = CRF(len(label2Idx))\n",
    "# output = crf(output)\n",
    "# output = Flatten()(output)\n",
    "output = Dense(len(label2Idx), activation = 'softmax')(output)\n",
    "# output = Flatten()(output)\n",
    "# output = Dense(vocab_size, activation='softmax')(output)\n",
    "# model.add(Dense(vocab_size, activation='softmax'))\n",
    "model_without_pre = Model(inputs=[words_input,casing_input, character_input], outputs=[output])\n",
    "model_without_pre.compile(loss='categorical_crossentropy', optimizer='nadam', metrics=['accuracy'])\n",
    "# model.summary()"
   ]
  },
  {
   "cell_type": "code",
   "execution_count": null,
   "metadata": {},
   "outputs": [
    {
     "name": "stdout",
     "output_type": "stream",
     "text": [
      "Epoch 1/30\n",
      "4199/4200 [============================>.] - ETA: 0s - loss: 0.6346 - acc: 0.6621\n",
      "Epoch 00001: val_acc improved from -inf to 0.71747, saving model to model_no_pretrain.h5\n",
      "4200/4200 [==============================] - 435s 104ms/step - loss: 0.6348 - acc: 0.6619 - val_loss: 0.5662 - val_acc: 0.7175\n",
      "Epoch 2/30\n",
      "4199/4200 [============================>.] - ETA: 0s - loss: 0.5695 - acc: 0.7123\n",
      "Epoch 00002: val_acc improved from 0.71747 to 0.73234, saving model to model_no_pretrain.h5\n",
      "4200/4200 [==============================] - 428s 102ms/step - loss: 0.5695 - acc: 0.7124 - val_loss: 0.5208 - val_acc: 0.7323\n",
      "Epoch 3/30\n",
      "4199/4200 [============================>.] - ETA: 0s - loss: 0.5247 - acc: 0.7440\n",
      "Epoch 00003: val_acc improved from 0.73234 to 0.76828, saving model to model_no_pretrain.h5\n",
      "4200/4200 [==============================] - 432s 103ms/step - loss: 0.5249 - acc: 0.7438 - val_loss: 0.4968 - val_acc: 0.7683\n",
      "Epoch 4/30\n",
      "4199/4200 [============================>.] - ETA: 0s - loss: 0.4927 - acc: 0.7633\n",
      "Epoch 00004: val_acc did not improve\n",
      "4200/4200 [==============================] - 428s 102ms/step - loss: 0.4927 - acc: 0.7633 - val_loss: 0.5105 - val_acc: 0.7596\n",
      "Epoch 5/30\n",
      "4199/4200 [============================>.] - ETA: 0s - loss: 0.5004 - acc: 0.7590\n",
      "Epoch 00005: val_acc did not improve\n",
      "4200/4200 [==============================] - 430s 102ms/step - loss: 0.5004 - acc: 0.7590 - val_loss: 0.5023 - val_acc: 0.7633\n",
      "Epoch 6/30\n",
      "4199/4200 [============================>.] - ETA: 0s - loss: 0.4959 - acc: 0.7647\n",
      "Epoch 00006: val_acc did not improve\n",
      "4200/4200 [==============================] - 427s 102ms/step - loss: 0.4959 - acc: 0.7648 - val_loss: 0.5208 - val_acc: 0.7323\n",
      "Epoch 7/30\n",
      "4199/4200 [============================>.] - ETA: 0s - loss: 0.4612 - acc: 0.7778\n",
      "Epoch 00007: val_acc improved from 0.76828 to 0.77323, saving model to model_no_pretrain.h5\n",
      "4200/4200 [==============================] - 430s 102ms/step - loss: 0.4612 - acc: 0.7779 - val_loss: 0.4878 - val_acc: 0.7732\n",
      "Epoch 8/30\n",
      "4199/4200 [============================>.] - ETA: 0s - loss: 0.4605 - acc: 0.7833\n",
      "Epoch 00008: val_acc did not improve\n",
      "4200/4200 [==============================] - 428s 102ms/step - loss: 0.4605 - acc: 0.7833 - val_loss: 0.4991 - val_acc: 0.7732\n",
      "Epoch 9/30\n",
      "4199/4200 [============================>.] - ETA: 0s - loss: 0.4595 - acc: 0.7799\n",
      "Epoch 00009: val_acc improved from 0.77323 to 0.77695, saving model to model_no_pretrain.h5\n",
      "4200/4200 [==============================] - 427s 102ms/step - loss: 0.4596 - acc: 0.7798 - val_loss: 0.4990 - val_acc: 0.7770\n",
      "Epoch 10/30\n",
      "4199/4200 [============================>.] - ETA: 0s - loss: 0.4523 - acc: 0.7890\n",
      "Epoch 00010: val_acc did not improve\n",
      "4200/4200 [==============================] - 429s 102ms/step - loss: 0.4523 - acc: 0.7890 - val_loss: 0.5093 - val_acc: 0.7670\n",
      "Epoch 11/30\n",
      "4199/4200 [============================>.] - ETA: 0s - loss: 0.4566 - acc: 0.7838\n",
      "Epoch 00011: val_acc did not improve\n",
      "4200/4200 [==============================] - 426s 101ms/step - loss: 0.4567 - acc: 0.7836 - val_loss: 0.5292 - val_acc: 0.7633\n",
      "Epoch 12/30\n",
      "4199/4200 [============================>.] - ETA: 0s - loss: 0.4329 - acc: 0.8033\n",
      "Epoch 00012: val_acc did not improve\n",
      "4200/4200 [==============================] - 429s 102ms/step - loss: 0.4328 - acc: 0.8033 - val_loss: 0.5721 - val_acc: 0.7683\n",
      "Epoch 13/30\n",
      "4199/4200 [============================>.] - ETA: 0s - loss: 0.4433 - acc: 0.7973\n",
      "Epoch 00013: val_acc did not improve\n",
      "4200/4200 [==============================] - 429s 102ms/step - loss: 0.4432 - acc: 0.7974 - val_loss: 0.5353 - val_acc: 0.7757\n",
      "Epoch 14/30\n",
      "  81/4200 [..............................] - ETA: 6:26 - loss: 0.4068 - acc: 0.8519"
     ]
    }
   ],
   "source": [
    "line_number=0\n",
    "line_number_validation=0\n",
    "# training_file_name = '/home/jindal/notebooks/jindal/NER/language_model/germeval2018.training_simple_labels.txt'\n",
    "training_file_name = '/home/gwiedemann/notebooks/OffLang/sample_train.txt'\n",
    "dev_file_name = '/home/gwiedemann/notebooks/OffLang/sample_dev.txt'\n",
    "checkpoint = ModelCheckpoint('model_no_pretrain.h5', monitor='val_acc', verbose=1, save_best_only=True, mode='max')\n",
    "model_without_pre.fit_generator(my_generator(training_file_name, 1)\n",
    "                         , epochs =30 , steps_per_epoch = file_len(training_file_name)//1, validation_data=validation_data_generator(dev_file_name, 1),\n",
    "                         validation_steps=807, callbacks=[checkpoint])"
   ]
  },
  {
   "cell_type": "code",
   "execution_count": 135,
   "metadata": {},
   "outputs": [
    {
     "data": {
      "text/plain": [
       "0.5683297180043385"
      ]
     },
     "execution_count": 135,
     "metadata": {},
     "output_type": "execute_result"
    }
   ],
   "source": [
    "pred , correct = return_predictions('/home/gwiedemann/notebooks/OffLang/sample_dev.txt',model_without_pre)\n",
    "\n",
    "sklearn.metrics.f1_score(correct, pred, average='binary')"
   ]
  },
  {
   "cell_type": "code",
   "execution_count": 124,
   "metadata": {},
   "outputs": [
    {
     "name": "stdout",
     "output_type": "stream",
     "text": [
      "{'OTHER': 0, 'OFFENSE': 1}\n"
     ]
    }
   ],
   "source": [
    "print(label2Idx)"
   ]
  },
  {
   "cell_type": "code",
   "execution_count": null,
   "metadata": {},
   "outputs": [],
   "source": []
  }
 ],
 "metadata": {
  "kernelspec": {
   "display_name": "Python 3",
   "language": "python",
   "name": "python3"
  },
  "language_info": {
   "codemirror_mode": {
    "name": "ipython",
    "version": 3
   },
   "file_extension": ".py",
   "mimetype": "text/x-python",
   "name": "python",
   "nbconvert_exporter": "python",
   "pygments_lexer": "ipython3",
   "version": "3.5.5"
  }
 },
 "nbformat": 4,
 "nbformat_minor": 2
}
