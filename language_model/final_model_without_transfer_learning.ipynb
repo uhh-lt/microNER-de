{
 "cells": [
  {
   "cell_type": "code",
   "execution_count": 1,
   "metadata": {
    "scrolled": true
   },
   "outputs": [
    {
     "name": "stderr",
     "output_type": "stream",
     "text": [
      "/home/jindal/miniconda3/envs/NER2/lib/python3.5/site-packages/h5py/__init__.py:36: FutureWarning: Conversion of the second argument of issubdtype from `float` to `np.floating` is deprecated. In future, it will be treated as `np.float64 == np.dtype(float).type`.\n",
      "  from ._conv import register_converters as _register_converters\n",
      "Using TensorFlow backend.\n"
     ]
    }
   ],
   "source": [
    "import fastText\n",
    "import math\n",
    "import linecache\n",
    "import numpy as np \n",
    "from numpy import random\n",
    "from random import sample\n",
    "from keras.models import Sequential, Model\n",
    "from keras.callbacks import ModelCheckpoint\n",
    "from keras.layers import *\n",
    "from keras import *\n",
    "from keras.utils import to_categorical\n",
    "from keras.preprocessing.sequence import pad_sequences\n",
    "from keras.initializers import RandomUniform\n",
    "import re\n",
    "from sklearn.metrics import f1_score, recall_score, precision_score, accuracy_score\n",
    "\n",
    "# from attention_utils import get_activations, get_data_recurrent\n"
   ]
  },
  {
   "cell_type": "code",
   "execution_count": 2,
   "metadata": {
    "scrolled": true
   },
   "outputs": [
    {
     "name": "stdout",
     "output_type": "stream",
     "text": [
      "env: CUDA_DEVICE_ORDER=PCI_BUS_ID\n",
      "env: CUDA_VISIBLE_DEVICES=2\n"
     ]
    }
   ],
   "source": [
    "%env CUDA_DEVICE_ORDER=PCI_BUS_ID\n",
    "%env CUDA_VISIBLE_DEVICES=2"
   ]
  },
  {
   "cell_type": "code",
   "execution_count": 3,
   "metadata": {
    "scrolled": true
   },
   "outputs": [],
   "source": [
    "ft = fastText.load_model(\"/home/jindal/notebooks/fastText/wiki.de.bin\")\n",
    "\n",
    "nb_embedding_dims = ft.get_dimension()\n",
    "nb_sequence_length = 75"
   ]
  },
  {
   "cell_type": "code",
   "execution_count": 4,
   "metadata": {
    "scrolled": true
   },
   "outputs": [],
   "source": [
    "def twitter_tokenizer(textline):\n",
    "    textLine = re.sub(r'http\\S+', 'URL', textline)\n",
    "    textline = re.sub('@[\\w_]+', 'USER_MENTION', textline)\n",
    "    textline = re.sub('\\|LBR\\|', '', textline)\n",
    "    textline = re.sub('\\.\\.\\.+', '...', textline)\n",
    "    textline = re.sub('!!+', '!!', textline)\n",
    "    textline = re.sub('\\?\\?+', '??', textline)\n",
    "    words = re.compile('[\\U00010000-\\U0010ffff]|[\\w-]+|[^ \\w\\U00010000-\\U0010ffff]+', re.UNICODE).findall(textline.strip())\n",
    "    words = [w.strip() for w in words if w.strip() != '']\n",
    "    # print(words)\n",
    "    return(words)"
   ]
  },
  {
   "cell_type": "code",
   "execution_count": 5,
   "metadata": {
    "scrolled": true
   },
   "outputs": [],
   "source": [
    "def sequential_generator(filename, batch_size):\n",
    "    \n",
    "    f = open(filename)\n",
    "    \n",
    "#     file_length = sum(1 for line in open(filename, encoding = 'UTF-8'))\n",
    "#     shuffled_indexes = range(1, file_length + 1)\n",
    "    # shuffled_indexes = sample(shuffled_indexes, len(shuffled_indexes))\n",
    "#     index_position = 0\n",
    "    \n",
    "    \n",
    "\n",
    "    while True:\n",
    "        batch_features_ft = np.zeros((batch_size, nb_sequence_length, nb_embedding_dims))\n",
    "#     batch_features_lg = np.zeros((batch_size, nb_sequence_length, nb_embedding2_dims))\n",
    "    # batch_features_idx = np.zeros((batch_size, nb_sequence_length))\n",
    "        batch_labels = np.zeros((batch_size, 2))\n",
    "        # print(len(features))\n",
    "        for i in range(batch_size):\n",
    "            line = f.readline()\n",
    "            if (\"\" == line):\n",
    "                f.seek(0)\n",
    "                line = f.readline()\n",
    "#             line = linecache.getline(filename, shuffled_indexes[index_position])\n",
    "            data = line.strip().split('\\t')\n",
    "            if len(data)!=2:\n",
    "                i-=1\n",
    "                continue\n",
    "            batch_features_ft[i] = process_features(data[0], nb_sequence_length, nb_embedding_dims)\n",
    "            # print(batch_features_ft[i])\n",
    "            # print(batch_features_ft[i].shape)\n",
    "            batch_labels[i] = to_categorical(0 if data[1] == 'OTHER' else 1, n_labels)\n",
    "#             index_position += 1\n",
    "#             if index_position == file_length:\n",
    "                # shuffle indexes again\n",
    "#                 shuffled_indexes = range(1, file_length + 1)\n",
    "                # shuffled_indexes = sample(shuffled_indexes, len(shuffled_indexes))\n",
    "#                 index_position = 0\n",
    "#                 break\n",
    "        # yield [batch_features_ft, batch_features_lg], batch_labels\n",
    "        yield ([batch_features_ft], batch_labels)"
   ]
  },
  {
   "cell_type": "code",
   "execution_count": 6,
   "metadata": {
    "scrolled": true
   },
   "outputs": [],
   "source": [
    "word_vectors_ft = {}\n",
    "def process_features(textline, nb_sequence_length, nb_embedding_dims):\n",
    "    words = twitter_tokenizer(textline)\n",
    "    features_ft = np.zeros((nb_sequence_length, nb_embedding_dims))\n",
    "    features_idx = np.zeros(nb_sequence_length)\n",
    "    max_words = min(len(words), nb_sequence_length)\n",
    "    idx = nb_sequence_length - len(words[:max_words])\n",
    "    for w in words[:max_words]:\n",
    "        if w in word_vectors_ft:\n",
    "            wv = word_vectors_ft[w]\n",
    "        else:\n",
    "            wv = ft.get_word_vector(w.lower())\n",
    "            word_vectors_ft[w] = wv\n",
    "        features_ft[idx] = wv\n",
    "        \n",
    "        idx = idx + 1\n",
    "    return features_ft"
   ]
  },
  {
   "cell_type": "code",
   "execution_count": 7,
   "metadata": {
    "scrolled": true
   },
   "outputs": [],
   "source": [
    "n_labels =2"
   ]
  },
  {
   "cell_type": "code",
   "execution_count": 14,
   "metadata": {
    "scrolled": true
   },
   "outputs": [],
   "source": [
    "train_lines = [line.strip().split(\"\\t\") for line in open('/home/gwiedemann/notebooks/OffLang/sample_train.txt')]\n",
    "dev_lines = [line.strip().split(\"\\t\") for line in open('/home/gwiedemann/notebooks/OffLang/sample_dev.txt')]"
   ]
  },
  {
   "cell_type": "code",
   "execution_count": 15,
   "metadata": {
    "scrolled": true
   },
   "outputs": [],
   "source": [
    "train_sentences = [x[0] for x in train_lines]\n",
    "train_labels = to_categorical([0 if x[1] == \"OTHER\" else 1 for x in train_lines])\n",
    "train_labels = [0 if x[1] == \"OTHER\" else 1 for x in train_lines]\n",
    "\n",
    "dev_sentences = [x[0] for x in dev_lines]\n",
    "dev_labels = to_categorical([0 if x[1] == \"OTHER\" else 1 for x in dev_lines])\n",
    "dev_labels = [0 if x[1] == \"OTHER\" else 1 for x in dev_lines]"
   ]
  },
  {
   "cell_type": "code",
   "execution_count": 16,
   "metadata": {
    "scrolled": true
   },
   "outputs": [],
   "source": [
    "def sequential_generator_germeval(filename, batch_size):\n",
    "    \n",
    "    f = open(filename)\n",
    "    \n",
    "#     file_length = sum(1 for line in open(filename, encoding = 'UTF-8'))\n",
    "#     shuffled_indexes = range(1, file_length + 1)\n",
    "    # shuffled_indexes = sample(shuffled_indexes, len(shuffled_indexes))\n",
    "#     index_position = 0\n",
    "    \n",
    "    \n",
    "\n",
    "    while True:\n",
    "        batch_features_ft = np.zeros((batch_size, nb_sequence_length, nb_embedding_dims))\n",
    "#     batch_features_lg = np.zeros((batch_size, nb_sequence_length, nb_embedding2_dims))\n",
    "    # batch_features_idx = np.zeros((batch_size, nb_sequence_length))\n",
    "        batch_labels = np.zeros((batch_size, 2))\n",
    "        # print(len(features))\n",
    "        for i in range(batch_size):\n",
    "            line = f.readline()\n",
    "            if (\"\" == line):\n",
    "                f.seek(0)\n",
    "                line = f.readline()\n",
    "#             line = linecache.getline(filename, shuffled_indexes[index_position])\n",
    "            data = line.strip().split('\\t')\n",
    "            if len(data)!=3:\n",
    "                i-=1\n",
    "                continue\n",
    "            batch_features_ft[i] = process_features(data[0], nb_sequence_length, nb_embedding_dims)\n",
    "            # print(batch_features_ft[i])\n",
    "            # print(batch_features_ft[i].shape)\n",
    "            batch_labels[i] = to_categorical(0 if data[1] == 'OTHER' else 1, n_labels)\n",
    "#             index_position += 1\n",
    "#             if index_position == file_length:\n",
    "                # shuffle indexes again\n",
    "#                 shuffled_indexes = range(1, file_length + 1)\n",
    "                # shuffled_indexes = sample(shuffled_indexes, len(shuffled_indexes))\n",
    "#                 index_position = 0\n",
    "#                 break\n",
    "        # yield [batch_features_ft, batch_features_lg], batch_labels\n",
    "        yield ([batch_features_ft], batch_labels)"
   ]
  },
  {
   "cell_type": "code",
   "execution_count": 12,
   "metadata": {
    "scrolled": true
   },
   "outputs": [],
   "source": [
    "samples_per_epoch = len(train_sentences)\n",
    "epochs = 50\n",
    "batch_size = 32\n",
    "steps_per_epoch = math.ceil(samples_per_epoch / batch_size)\n",
    "checkpoint = ModelCheckpoint('best_classification_model.h5', \n",
    "                             monitor='val_acc', \n",
    "                             verbose = 1, \n",
    "                             save_best_only = True, \n",
    "                             save_weights_only = True)"
   ]
  },
  {
   "cell_type": "code",
   "execution_count": 24,
   "metadata": {},
   "outputs": [],
   "source": [
    "no_of_tests = 5"
   ]
  },
  {
   "cell_type": "code",
   "execution_count": null,
   "metadata": {
    "scrolled": true
   },
   "outputs": [
    {
     "name": "stdout",
     "output_type": "stream",
     "text": [
      "test number: 1\n",
      "Epoch: 1\n",
      "Epoch 1/1\n",
      "132/132 [==============================] - 37s 281ms/step - loss: 0.6277 - acc: 0.6686\n",
      "model saved. F1 is 0.463007\n",
      "Test-Data: Prec: 0.638, Rec: 0.363, F1: 0.463, Acc: 0.722\n",
      "Epoch: 2\n",
      "Epoch 1/1\n",
      "132/132 [==============================] - 31s 237ms/step - loss: 0.5298 - acc: 0.7344\n",
      "model saved. F1 is 0.603306\n",
      "Test-Data: Prec: 0.673, Rec: 0.547, F1: 0.603, Acc: 0.762\n",
      "Epoch: 3\n",
      "Epoch 1/1\n",
      "132/132 [==============================] - 31s 238ms/step - loss: 0.4846 - acc: 0.7673\n",
      "model saved. F1 is 0.634731\n",
      "Test-Data: Prec: 0.679, Rec: 0.596, F1: 0.635, Acc: 0.774\n",
      "Epoch: 4\n",
      "Epoch 1/1\n",
      "132/132 [==============================] - 32s 239ms/step - loss: 0.4551 - acc: 0.7822\n",
      "model saved. F1 is 0.645291\n",
      "Test-Data: Prec: 0.694, Rec: 0.603, F1: 0.645, Acc: 0.781\n",
      "Epoch: 5\n",
      "Epoch 1/1\n",
      "132/132 [==============================] - 32s 243ms/step - loss: 0.4263 - acc: 0.7995\n",
      "model saved. F1 is 0.660118\n",
      "Test-Data: Prec: 0.694, Rec: 0.629, F1: 0.660, Acc: 0.786\n",
      "Epoch: 6\n",
      "Epoch 1/1\n",
      "132/132 [==============================] - 32s 242ms/step - loss: 0.3957 - acc: 0.8243\n",
      "Test-Data: Prec: 0.695, Rec: 0.581, F1: 0.633, Acc: 0.777\n",
      "Epoch: 7\n",
      "Epoch 1/1\n",
      "132/132 [==============================] - 32s 241ms/step - loss: 0.3669 - acc: 0.8340\n",
      "model saved. F1 is 0.660269\n",
      "Test-Data: Prec: 0.677, Rec: 0.644, F1: 0.660, Acc: 0.781\n",
      "Epoch: 8\n",
      "Epoch 1/1\n",
      "132/132 [==============================] - 32s 240ms/step - loss: 0.3500 - acc: 0.8404\n",
      "Test-Data: Prec: 0.686, Rec: 0.629, F1: 0.656, Acc: 0.782\n",
      "Epoch: 9\n",
      "Epoch 1/1\n",
      "132/132 [==============================] - 32s 243ms/step - loss: 0.3170 - acc: 0.8572\n",
      "Test-Data: Prec: 0.659, Rec: 0.659, F1: 0.659, Acc: 0.775\n",
      "Epoch: 10\n",
      "Epoch 1/1\n",
      "123/132 [==========================>...] - ETA: 2s - loss: 0.2894 - acc: 0.8709"
     ]
    }
   ],
   "source": [
    "f = open('/home/jindal/notebooks/jindal/NER/language_model/result_no_pretraining.txt','w')\n",
    "total_f1 = 0\n",
    "total_prec =0\n",
    "total_recall =0\n",
    "total_acc = 0\n",
    "for test_no in range(no_of_tests):\n",
    "    print(\"test number: %d\" %(test_no+1))\n",
    "    model_input_embedding = Input(shape = (nb_sequence_length, nb_embedding_dims))\n",
    "    lstm_block = Bidirectional(LSTM(100, dropout = 0.5, return_sequences=True))(model_input_embedding)\n",
    "    lstm_block = LeakyReLU()(lstm_block)\n",
    "\n",
    "    filter_sizes = (3, 4, 5)\n",
    "    conv_blocks = []\n",
    "    for sz in filter_sizes:\n",
    "        conv = Conv1D(\n",
    "            filters = 200,\n",
    "            kernel_size = sz,\n",
    "            padding = 'valid',\n",
    "            strides = 1\n",
    "        )(lstm_block)\n",
    "        conv = LeakyReLU()(conv)\n",
    "        conv = GlobalMaxPooling1D()(conv)\n",
    "        conv = Dropout(0.5)(conv)\n",
    "        conv_blocks.append(conv)\n",
    "    model_concatenated = concatenate([conv_blocks[0], conv_blocks[1], conv_blocks[2]])\n",
    "    # model_concatenated = Dropout(0.8)(model_concatenated)\n",
    "    model_concatenated = Dense(100)(model_concatenated)\n",
    "    model_concatenated = LeakyReLU()(model_concatenated)\n",
    "    model_output = Dense(n_labels, activation = \"softmax\")(model_concatenated)\n",
    "    model = Model(model_input_embedding, model_output)\n",
    "    model.compile(loss='categorical_crossentropy', optimizer='nadam', metrics = ['accuracy'])\n",
    "#     model.summary()\n",
    "\n",
    "    # model.reset_states()\n",
    "    max_f1 = 0\n",
    "    max_p=0\n",
    "    max_r=0\n",
    "    max_a=0\n",
    "    for epoch in range(epochs):\n",
    "        print(\"Epoch: %d\" %(epoch+1))\n",
    "        model.fit_generator(\n",
    "            sequential_generator_germeval('/home/gwiedemann/notebooks/OffLang/sample_train.txt', batch_size), \n",
    "            steps_per_epoch=steps_per_epoch, epochs=1,\n",
    "        )\n",
    "\n",
    "        testset_features = np.zeros((len(dev_sentences), nb_sequence_length, nb_embedding_dims))\n",
    "        for i in range(len(dev_sentences)):\n",
    "            testset_features[i] = process_features(dev_sentences[i], nb_sequence_length, nb_embedding_dims)\n",
    "        results = model.predict(testset_features)\n",
    "\n",
    "        idx2Label = {0 : \"OTHER\", 1 : \"OFFENSIVE\"}\n",
    "        predLabels = results.argmax(axis=-1)\n",
    "        devLabels = [0 if x[1] == \"OTHER\" else 1 for x in dev_lines]\n",
    "        # print(idx2Label)\n",
    "        # print(predLabels)\n",
    "        # print(devLabels)\n",
    "        f1 = f1_score(devLabels, predLabels, average='binary', pos_label=1)\n",
    "        r = recall_score(devLabels, predLabels, average='binary', pos_label=1)\n",
    "        p = precision_score(devLabels, predLabels, average='binary', pos_label=1)\n",
    "        a = accuracy_score(devLabels, predLabels)\n",
    "        if max_f1 < f1:\n",
    "            print(\"model saved. F1 is %f\" %(f1))\n",
    "            model.save('best_classification_model.h5')\n",
    "            max_f1 = f1\n",
    "            max_p = p\n",
    "            max_a = a\n",
    "            max_r =r\n",
    "        text = \"prec: \"+ str(p)+\" rec: \"+str(r) +\" f1: \"+str(f1) +\" acc: \"+str(a)+\" \\n\"\n",
    "        print(\"Test-Data: Prec: %.3f, Rec: %.3f, F1: %.3f, Acc: %.3f\" % (p, r, f1, a))\n",
    "    to_write = \"prec: \"+ str(max_p)+\" rec: \"+str(max_r) +\" f1: \"+str(max_f1) +\" acc: \"+str(max_a)+\" \\n\"\n",
    "    print(to_write)\n",
    "    print(\"*****************************************************************************\")\n",
    "    f.write(to_write)\n",
    "    total_f1+=max_f1\n",
    "    total_prec+=max_p\n",
    "    total_acc+=max_a\n",
    "    total_recall+=max_r\n",
    "final_text = \"avg_prec: \" +str(total_prec/no_of_tests)+\" total_rec: \"+str(total_recall/no_of_tests) +\" total_f1: \"+str(total_f1/no_of_tests) +\" total_acc: \"\n",
    "+str(total_acc/no_of_tests)+\" \\n\"\n",
    "f.write(final_text)\n",
    "f.close()"
   ]
  },
  {
   "cell_type": "code",
   "execution_count": null,
   "metadata": {},
   "outputs": [],
   "source": []
  },
  {
   "cell_type": "code",
   "execution_count": null,
   "metadata": {},
   "outputs": [],
   "source": []
  }
 ],
 "metadata": {
  "kernelspec": {
   "display_name": "Python 3",
   "language": "python",
   "name": "python3"
  },
  "language_info": {
   "codemirror_mode": {
    "name": "ipython",
    "version": 3
   },
   "file_extension": ".py",
   "mimetype": "text/x-python",
   "name": "python",
   "nbconvert_exporter": "python",
   "pygments_lexer": "ipython3",
   "version": "3.5.5"
  }
 },
 "nbformat": 4,
 "nbformat_minor": 2
}
