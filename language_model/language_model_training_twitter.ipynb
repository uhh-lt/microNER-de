{
 "cells": [
  {
   "cell_type": "code",
   "execution_count": 1,
   "metadata": {
    "scrolled": false
   },
   "outputs": [
    {
     "name": "stderr",
     "output_type": "stream",
     "text": [
      "/home/jindal/miniconda3/envs/NER2/lib/python3.5/site-packages/h5py/__init__.py:36: FutureWarning: Conversion of the second argument of issubdtype from `float` to `np.floating` is deprecated. In future, it will be treated as `np.float64 == np.dtype(float).type`.\n",
      "  from ._conv import register_converters as _register_converters\n",
      "Using TensorFlow backend.\n"
     ]
    }
   ],
   "source": [
    "import sys\n",
    "import os\n",
    "sys.path.insert(0, '/home/jindal/notebooks/jindal/NER')\n",
    "import fastText\n",
    "import numpy as np \n",
    "from validation import compute_f1\n",
    "from keras.models import Model\n",
    "from prepro import readfile,createBatches,createMatrices,iterate_minibatches,addCharInformatioin,padding\n",
    "from keras.utils import plot_model,Progbar\n",
    "from keras.preprocessing.sequence import pad_sequences\n",
    "from keras.initializers import RandomUniform\n",
    "from sklearn.metrics import precision_recall_fscore_support as score\n",
    "import sklearn\n",
    "from keras.layers import *\n",
    "import pickle, threading\n",
    "from keras.utils import to_categorical\n",
    "import linecache\n",
    "from keras.callbacks import Callback\n",
    "import re\n",
    "from keras.callbacks import ModelCheckpoint\n",
    "from collections import Counter, defaultdict\n",
    "\n",
    "\n",
    "epochs = 50\n",
    "trainable=True"
   ]
  },
  {
   "cell_type": "code",
   "execution_count": 2,
   "metadata": {},
   "outputs": [],
   "source": [
    "nb_sequence_length=50\n",
    "nb_embedding_dims=300"
   ]
  },
  {
   "cell_type": "code",
   "execution_count": 3,
   "metadata": {},
   "outputs": [
    {
     "data": {
      "text/plain": [
       "3"
      ]
     },
     "execution_count": 3,
     "metadata": {},
     "output_type": "execute_result"
    }
   ],
   "source": [
    "\n",
    "sys.version_info[0]"
   ]
  },
  {
   "cell_type": "code",
   "execution_count": 4,
   "metadata": {},
   "outputs": [],
   "source": [
    "class WeightsSaver(Callback):\n",
    "    def __init__(self, model, N):\n",
    "        self.model = model\n",
    "        self.N = N\n",
    "        self.batch = 0\n",
    "\n",
    "    def on_batch_end(self, batch, logs={}):\n",
    "        if self.batch % self.N == 0:\n",
    "            name = 'german_lm_twitter_20m.h5'\n",
    "            print(\"model saved %s\" %self.batch)\n",
    "            self.model.save_weights(name)\n",
    "        self.batch += 1"
   ]
  },
  {
   "cell_type": "code",
   "execution_count": 5,
   "metadata": {},
   "outputs": [],
   "source": [
    "ft = fastText.load_model(\"/home/jindal/notebooks/fastText/wiki.de.bin\")\n",
    "\n",
    "nb_embedding_dims = ft.get_dimension()"
   ]
  },
  {
   "cell_type": "code",
   "execution_count": null,
   "metadata": {},
   "outputs": [],
   "source": [
    "def createMatrices(sentences, word2Idx, case2Idx, char2Idx):\n",
    "    #{'numeric': 0, 'allLower': 1, 'contains_digit': 6, 'PADDING_TOKEN': 7, 'other': 4, 'allUpper': 2, 'mainly_numeric': 5, 'initialUpper': 3}\n",
    "    unknownIdx = word2Idx['UNKNOWN_TOKEN']\n",
    "    paddingIdx = word2Idx['PADDING_TOKEN']    \n",
    "        \n",
    "    dataset = []\n",
    "    \n",
    "    wordCount = 0\n",
    "    unknownWordCount = 0\n",
    "    \n",
    "    for sentence in sentences:\n",
    "        wordIndices = []    \n",
    "        caseIndices = []\n",
    "        charIndices = []\n",
    "#         labelIndices = []\n",
    "        \n",
    "        for word,char in sentence:  \n",
    "            wordCount += 1\n",
    "            if word in word2Idx:\n",
    "                wordIdx = word2Idx[word]\n",
    "            elif word.lower() in word2Idx:\n",
    "                wordIdx = word2Idx[word.lower()]                 \n",
    "            else:\n",
    "                wordIdx = unknownIdx\n",
    "                unknownWordCount += 1\n",
    "            charIdx = []\n",
    "            for x in char:\n",
    "                charIdx.append(char2Idx[x])\n",
    "            #Get the label and map to int            \n",
    "            wordIndices.append(wordIdx)\n",
    "            caseIndices.append(getCasing(word, case2Idx))\n",
    "            charIndices.append(charIdx)\n",
    "#             labelIndices.append(label2Idx[label])\n",
    "           \n",
    "        dataset.append([wordIndices,caseIndices, charIndices]) \n",
    "        \n",
    "    return dataset\n",
    "\n",
    "\n",
    "def getCasing(word, caseLookup):   \n",
    "    casing = 'other'\n",
    "    \n",
    "    numDigits = 0\n",
    "    for char in word:\n",
    "        if char.isdigit():\n",
    "            numDigits += 1\n",
    "            \n",
    "    digitFraction = numDigits / float(len(word))\n",
    "    \n",
    "    if word.isdigit(): #Is a digit\n",
    "        casing = 'numeric'\n",
    "    elif digitFraction > 0.5:\n",
    "        casing = 'mainly_numeric'\n",
    "    elif word.islower(): #All lower case\n",
    "        casing = 'allLower'\n",
    "    elif word.isupper(): #All upper case\n",
    "        casing = 'allUpper'\n",
    "    elif word[0].isupper(): #is a title, initial char upper, then all lower\n",
    "        casing = 'initialUpper'\n",
    "    elif numDigits > 0:\n",
    "        casing = 'contains_digit'\n",
    "    \n",
    "   \n",
    "    return caseLookup[casing]\n",
    "\n",
    "def padding(Sentences):\n",
    "    maxlen = 52\n",
    "    for sentence in Sentences:\n",
    "        char = sentence[2]\n",
    "        for x in char:\n",
    "            maxlen = max(maxlen,len(x))\n",
    "    for i,sentence in enumerate(Sentences):\n",
    "        Sentences[i][2] = pad_sequences(Sentences[i][2],52,padding='post')\n",
    "    return Sentences"
   ]
  },
  {
   "cell_type": "code",
   "execution_count": 6,
   "metadata": {},
   "outputs": [],
   "source": [
    "def twitter_tokenizer(textline:'takes line as an input'):\n",
    "    \n",
    "    textline = re.sub('@[\\\\w_]+', 'USER_MENTION', textline) # replaces @username with 'usermention'\n",
    "    textline = re.sub('\\\\|LBR\\\\|', '', textline) # to replace linebreak\n",
    "    textline = re.sub('\\\\.\\\\.\\\\.+', '...', textline) #????????\n",
    "    textline = re.sub('!!+', '!!', textline)#?????????\n",
    "    textline = re.sub('\\\\?\\\\?+', '??', textline)\n",
    "    words = re.compile('[\\\\U00010000-\\\\U0010ffff]|[\\\\w-]+|[^ \\\\w\\\\U00010000-\\\\U0010ffff]+', re.UNICODE).findall(textline.strip())\n",
    "    words = [w.strip() for w in words if w.strip() != '']\n",
    "    return(words)"
   ]
  },
  {
   "cell_type": "code",
   "execution_count": null,
   "metadata": {},
   "outputs": [],
   "source": [
    "# creating the first 1m sentences for use\n",
    "def create_train_data(filename:'name of original file', n_lines:'no of lines to use for training from the twitter data',\n",
    "                     new_file_name:'name of file to create'):\n",
    "    new_file = open(new_file_name,'wb')\n",
    "    n_lines_read=0\n",
    "    with open(filename,'rb') as f:\n",
    "        for line in f:\n",
    "            if n_lines_read == n_lines:\n",
    "                break\n",
    "            line = line.decode()\n",
    "            ids, text = line.split('\\t')\n",
    "            n_lines_read+=1\n",
    "            text = twitter_tokenizer(text)\n",
    "            to_write = ' '.join(text)\n",
    "            to_write+='\\n'\n",
    "#             print(to_write)\n",
    "            new_file.write(to_write.encode())\n",
    "            \n",
    "#             assert n_lines_read<=10\n",
    "    f.close()\n",
    "    \n",
    "            "
   ]
  },
  {
   "cell_type": "code",
   "execution_count": null,
   "metadata": {},
   "outputs": [],
   "source": [
    "create_train_data('/home/jindal/notebooks/twitter_data/twitter-2017_de', 20000000, \n",
    "                  '/home/jindal/notebooks/jindal/NER/language_model/training_lines_twitter_20m')"
   ]
  },
  {
   "cell_type": "code",
   "execution_count": 7,
   "metadata": {},
   "outputs": [],
   "source": [
    "window_size =51"
   ]
  },
  {
   "cell_type": "code",
   "execution_count": 8,
   "metadata": {},
   "outputs": [],
   "source": [
    "# converts the sentences to a fixed size of 51\n",
    "def generate_sequences(out_file, in_file ) -> None:\n",
    "    output = open(out_file,'wb')\n",
    "    with open(in_file,'rb') as f:\n",
    "        for line in f:\n",
    "            text = line.decode().split()\n",
    "            for i in range(len(text)):\n",
    "                if i+1 >= window_size:\n",
    "                    temp = text[i-window_size+1:i+1]\n",
    "                else:\n",
    "                    temp = ['0' for i in range(window_size - (i +1))] + text[:i+1]\n",
    "                string = ' '.join(temp)+' \\n'\n",
    "                output.write(string.encode())\n",
    "    output.close()"
   ]
  },
  {
   "cell_type": "code",
   "execution_count": null,
   "metadata": {},
   "outputs": [],
   "source": [
    "generate_sequences('/home/jindal/notebooks/jindal/NER/language_model/twitter_dataset_sequences_20m',\n",
    "                   '/home/jindal/notebooks/jindal/NER/language_model/training_lines_twitter_20m')"
   ]
  },
  {
   "cell_type": "code",
   "execution_count": null,
   "metadata": {},
   "outputs": [],
   "source": [
    "# assert\n",
    "with open('twitter_dataset_sequences_20m') as f:\n",
    "    for line in f:\n",
    "        assert len(line.split()) == 51"
   ]
  },
  {
   "cell_type": "code",
   "execution_count": null,
   "metadata": {},
   "outputs": [],
   "source": [
    "# :: Hard coded case lookup ::\n",
    "case2Idx = {'numeric': 0, 'allLower':1, 'allUpper':2, 'initialUpper':3, 'other':4, 'mainly_numeric':5, 'contains_digit': 6, 'PADDING_TOKEN':7}\n",
    "caseEmbeddings = np.identity(len(case2Idx), dtype='float32')"
   ]
  },
  {
   "cell_type": "code",
   "execution_count": null,
   "metadata": {},
   "outputs": [],
   "source": [
    "print(caseEmbeddings.shape)"
   ]
  },
  {
   "cell_type": "code",
   "execution_count": null,
   "metadata": {},
   "outputs": [],
   "source": [
    "characters={}\n",
    "\n",
    "with open ('/home/jindal/notebooks/jindal/NER/language_model/twitter_dataset_sequences_20m') as f:\n",
    "    for line in f:\n",
    "        for word in line:\n",
    "            word =str(word)\n",
    "            for char in word:\n",
    "#                 print(char)\n",
    "                characters[char]=True"
   ]
  },
  {
   "cell_type": "code",
   "execution_count": null,
   "metadata": {},
   "outputs": [],
   "source": [
    "print(characters)"
   ]
  },
  {
   "cell_type": "code",
   "execution_count": null,
   "metadata": {},
   "outputs": [],
   "source": [
    "char2Idx={}\n",
    "for char in characters:\n",
    "    char2Idx[char] = len(char2Idx)\n",
    "# print(char2Idx)"
   ]
  },
  {
   "cell_type": "code",
   "execution_count": null,
   "metadata": {},
   "outputs": [],
   "source": [
    "# returns the vocab of a file along with a counter of the vocab\n",
    "def get_vocab(infile:\"inputfile\"):\n",
    "    toy_vocab ={}\n",
    "    toy_vocab_counter = defaultdict(int)\n",
    "\n",
    "\n",
    "    with open(infile) as f:\n",
    "        for line in f:\n",
    "    #         print(line)\n",
    "            line = line.split()\n",
    "    #         print(len(line))\n",
    "            for word in line:\n",
    "    #             word = word\n",
    "    #             print(word)\n",
    "                toy_vocab[word]=True\n",
    "                toy_vocab_counter[word]+=1\n",
    "    return toy_vocab, toy_vocab_counter"
   ]
  },
  {
   "cell_type": "code",
   "execution_count": 9,
   "metadata": {},
   "outputs": [
    {
     "name": "stdout",
     "output_type": "stream",
     "text": [
      "0 0 0 0 0 0 0 0 0 0 0 0 0 0 0 0 0 0 0 0 0 0 0 0 0 0 0 0 0 0 0 0 0 0 0 0 0 0 0 0 0 0 0 0 Altere Rauchen Fetisch Sex Session https :// \n",
      "\n"
     ]
    }
   ],
   "source": [
    "line = linecache.getline('/home/jindal/notebooks/jindal/NER/language_model/twitter_dataset_sequences_20m', 19)\n",
    "\n",
    "print(line)"
   ]
  },
  {
   "cell_type": "code",
   "execution_count": null,
   "metadata": {},
   "outputs": [],
   "source": [
    "word2Idx={}\n",
    "for word in toy_vocab.keys():\n",
    "    word2Idx[word] = len(word2Idx)"
   ]
  },
  {
   "cell_type": "code",
   "execution_count": 10,
   "metadata": {},
   "outputs": [],
   "source": [
    "line_number=0\n",
    "# lock = threading.Lock()"
   ]
  },
  {
   "cell_type": "code",
   "execution_count": 11,
   "metadata": {},
   "outputs": [],
   "source": [
    "def file_len(fname):\n",
    "    with open(fname) as f:\n",
    "        for i, l in enumerate(f):\n",
    "            pass\n",
    "    return i + 1"
   ]
  },
  {
   "cell_type": "code",
   "execution_count": 12,
   "metadata": {},
   "outputs": [],
   "source": [
    "word_vectors_ft = {}\n",
    "def process_features(textline, nb_sequence_length, nb_embedding_dims):\n",
    "    words = twitter_tokenizer(textline)\n",
    "    features_ft = np.zeros((nb_sequence_length, nb_embedding_dims))\n",
    "    max_words = 50\n",
    "    idx = 0\n",
    "    for w in words[:max_words]:\n",
    "        if w in word_vectors_ft:\n",
    "            wv = word_vectors_ft[w]\n",
    "        else:\n",
    "            wv = ft.get_word_vector(w.lower())\n",
    "            word_vectors_ft[w] = wv\n",
    "        features_ft[idx] = wv\n",
    "        \n",
    "        idx = idx + 1\n",
    "    output_word = words[-1]\n",
    "    if output_word in word_vectors_ft:\n",
    "        output_wv = word_vectors_ft[output_word]\n",
    "    else:\n",
    "        output_wv = ft.get_word_vector(output_word.lower())\n",
    "    return features_ft, output_wv"
   ]
  },
  {
   "cell_type": "code",
   "execution_count": 13,
   "metadata": {},
   "outputs": [],
   "source": [
    "def sequential_generator(filename, batch_size):\n",
    "    \n",
    "    file_length = file_len(filename)\n",
    "    shuffled_indexes = range(1, file_length + 1) # start from 1 because linecache is 1 indexed\n",
    "    nb_sequence_length = 50\n",
    "    nb_embedding_dims = 300\n",
    "    \n",
    "    index_position = 0\n",
    "    \n",
    "    batch_features_ft = np.zeros((batch_size, nb_sequence_length, nb_embedding_dims))\n",
    "#     batch_features_lg = np.zeros((batch_size, nb_sequence_length, nb_embedding2_dims)) # levy goldberg: not needed\n",
    "    batch_labels = np.zeros((batch_size, 2)) # 2 because of simple task\n",
    "    while True:\n",
    "        # print(len(features))\n",
    "        output_labels = []\n",
    "        \n",
    "        for i in range(batch_size):\n",
    "            line = linecache.getline(filename, shuffled_indexes[index_position])\n",
    "            data = line.strip().split('\\t')\n",
    "            batch_features_ft[i], output_wv = process_features(data[0], nb_sequence_length, nb_embedding_dims)\n",
    "            # print(batch_features_ft[i])\n",
    "            # print(batch_features_ft[i].shape)\n",
    "#             batch_labels[i] = to_categorical(0 if data[1] == 'OTHER' else 1, n_labels)\n",
    "            output_labels.append(output_wv)\n",
    "            index_position += 1\n",
    "    \n",
    "            if index_position == file_length:\n",
    "                # shuffle indexes again\n",
    "                shuffled_indexes = range(1, file_length + 1)\n",
    "#                 shuffle(shuffled_indexes)\n",
    "                index_position = 0\n",
    "                break\n",
    "        yield ([batch_features_ft], np.array(output_labels))\n"
   ]
  },
  {
   "cell_type": "code",
   "execution_count": null,
   "metadata": {},
   "outputs": [],
   "source": [
    "def my_generator(file :\"input training file\", batch_size, total_lines):\n",
    "    \n",
    "    ft_dictionary={}\n",
    "    global line_number, lock\n",
    "        \n",
    "    while True:\n",
    "        word_embeddings = []\n",
    "        case_embeddings = []\n",
    "        char_embeddings = []\n",
    "        output_labels = []\n",
    "\n",
    "        for i in range(batch_size):\n",
    "\n",
    "            index = line_number%total_lines +1\n",
    "            line_number+=1\n",
    "            line = linecache.getline(file, index)\n",
    "            line = line.split()\n",
    "            temp_casing = []\n",
    "            temp_char=[]\n",
    "            temp_word=[]\n",
    "            if len(line)!=51:\n",
    "                print(index)\n",
    "                continue\n",
    "            for word in line[:-1]:\n",
    "                casing =getCasing(word, case2Idx)\n",
    "                temp_casing.append(casing)\n",
    "                temp_char2=[]\n",
    "                for char in word:\n",
    "                    temp_char2.append(char2Idx[char])\n",
    "                temp_char2 = np.array(temp_char2)\n",
    "                temp_char.append(temp_char2)\n",
    "                if word.lower() in ft_dictionary:\n",
    "                    word_vector = ft_dictionary[word.lower()]\n",
    "                else:\n",
    "                    wv = ft.get_word_vector(word.lower())\n",
    "                    ft_dictionary[word.lower()] = wv\n",
    "                word_vector = ft_dictionary[word.lower()]\n",
    "                temp_word.append(word_vector)\n",
    "            temp_char = pad_sequences(temp_char, 52)\n",
    "            word_embeddings.append(temp_word)\n",
    "            case_embeddings.append(temp_casing)\n",
    "            char_embeddings.append(temp_char)\n",
    "            output_labels.append(ft.get_word_vector(line[-1]))\n",
    "        yield ([np.array(word_embeddings), np.array(case_embeddings), np.array(char_embeddings)], np.array(output_labels))"
   ]
  },
  {
   "cell_type": "code",
   "execution_count": null,
   "metadata": {},
   "outputs": [],
   "source": [
    "for inp, output in my_generator('toy_dataset_sequences_shuffled',10):\n",
    "    continue"
   ]
  },
  {
   "cell_type": "code",
   "execution_count": 14,
   "metadata": {},
   "outputs": [
    {
     "name": "stdout",
     "output_type": "stream",
     "text": [
      "env: CUDA_DEVICE_ORDER=PCI_BUS_ID\n",
      "env: CUDA_VISIBLE_DEVICES=3\n"
     ]
    }
   ],
   "source": [
    "%env CUDA_DEVICE_ORDER=PCI_BUS_ID\n",
    "%env CUDA_VISIBLE_DEVICES=3"
   ]
  },
  {
   "cell_type": "code",
   "execution_count": 16,
   "metadata": {},
   "outputs": [
    {
     "name": "stdout",
     "output_type": "stream",
     "text": [
      "__________________________________________________________________________________________________\n",
      "Layer (type)                    Output Shape         Param #     Connected to                     \n",
      "==================================================================================================\n",
      "input_2 (InputLayer)            (None, 50, 300)      0                                            \n",
      "__________________________________________________________________________________________________\n",
      "bidirectional_2 (Bidirectional) (None, 50, 200)      320800      input_2[0][0]                    \n",
      "__________________________________________________________________________________________________\n",
      "leaky_re_lu_6 (LeakyReLU)       (None, 50, 200)      0           bidirectional_2[0][0]            \n",
      "__________________________________________________________________________________________________\n",
      "conv1d_4 (Conv1D)               (None, 48, 200)      120200      leaky_re_lu_6[0][0]              \n",
      "__________________________________________________________________________________________________\n",
      "conv1d_5 (Conv1D)               (None, 47, 200)      160200      leaky_re_lu_6[0][0]              \n",
      "__________________________________________________________________________________________________\n",
      "conv1d_6 (Conv1D)               (None, 46, 200)      200200      leaky_re_lu_6[0][0]              \n",
      "__________________________________________________________________________________________________\n",
      "leaky_re_lu_7 (LeakyReLU)       (None, 48, 200)      0           conv1d_4[0][0]                   \n",
      "__________________________________________________________________________________________________\n",
      "leaky_re_lu_8 (LeakyReLU)       (None, 47, 200)      0           conv1d_5[0][0]                   \n",
      "__________________________________________________________________________________________________\n",
      "leaky_re_lu_9 (LeakyReLU)       (None, 46, 200)      0           conv1d_6[0][0]                   \n",
      "__________________________________________________________________________________________________\n",
      "global_max_pooling1d_4 (GlobalM (None, 200)          0           leaky_re_lu_7[0][0]              \n",
      "__________________________________________________________________________________________________\n",
      "global_max_pooling1d_5 (GlobalM (None, 200)          0           leaky_re_lu_8[0][0]              \n",
      "__________________________________________________________________________________________________\n",
      "global_max_pooling1d_6 (GlobalM (None, 200)          0           leaky_re_lu_9[0][0]              \n",
      "__________________________________________________________________________________________________\n",
      "dropout_4 (Dropout)             (None, 200)          0           global_max_pooling1d_4[0][0]     \n",
      "__________________________________________________________________________________________________\n",
      "dropout_5 (Dropout)             (None, 200)          0           global_max_pooling1d_5[0][0]     \n",
      "__________________________________________________________________________________________________\n",
      "dropout_6 (Dropout)             (None, 200)          0           global_max_pooling1d_6[0][0]     \n",
      "__________________________________________________________________________________________________\n",
      "concatenate_2 (Concatenate)     (None, 600)          0           dropout_4[0][0]                  \n",
      "                                                                 dropout_5[0][0]                  \n",
      "                                                                 dropout_6[0][0]                  \n",
      "__________________________________________________________________________________________________\n",
      "dense_2 (Dense)                 (None, 100)          60100       concatenate_2[0][0]              \n",
      "__________________________________________________________________________________________________\n",
      "leaky_re_lu_10 (LeakyReLU)      (None, 100)          0           dense_2[0][0]                    \n",
      "__________________________________________________________________________________________________\n",
      "dense_3 (Dense)                 (None, 25)           2525        leaky_re_lu_10[0][0]             \n",
      "==================================================================================================\n",
      "Total params: 864,025\n",
      "Trainable params: 864,025\n",
      "Non-trainable params: 0\n",
      "__________________________________________________________________________________________________\n"
     ]
    }
   ],
   "source": [
    "model_input_embedding = Input(shape = (nb_sequence_length, nb_embedding_dims))\n",
    "lstm_block = Bidirectional(LSTM(100, dropout = 0.5, return_sequences=True))(model_input_embedding)\n",
    "lstm_block = LeakyReLU()(lstm_block)\n",
    "\n",
    "filter_sizes = (3, 4, 5)\n",
    "conv_blocks = []\n",
    "for sz in filter_sizes:\n",
    "    conv = Conv1D(\n",
    "        filters = 200,\n",
    "        kernel_size = sz,\n",
    "        padding = 'valid',\n",
    "        strides = 1\n",
    "    )(lstm_block)\n",
    "    conv = LeakyReLU()(conv)\n",
    "    conv = GlobalMaxPooling1D()(conv)\n",
    "    conv = Dropout(0.5)(conv)\n",
    "    conv_blocks.append(conv)\n",
    "model_concatenated = concatenate([conv_blocks[0], conv_blocks[1], conv_blocks[2]])\n",
    "# model_concatenated = Dropout(0.8)(model_concatenated)\n",
    "model_concatenated = Dense(100)(model_concatenated)\n",
    "model_concatenated = LeakyReLU()(model_concatenated)\n",
    "model_output = Dense(25, activation = \"softmax\")(model_concatenated)\n",
    "model = Model(model_input_embedding, model_output)\n",
    "model.compile(loss='categorical_crossentropy', optimizer='nadam', metrics = ['accuracy'])\n",
    "model.summary()"
   ]
  },
  {
   "cell_type": "code",
   "execution_count": null,
   "metadata": {},
   "outputs": [],
   "source": [
    "filter_sizes = (3, 4, 5)\n",
    "model_input_ft = Input(shape = (nb_sequence_length, nb_embedding_dims))\n",
    "conv_blocks = []\n",
    "for sz in filter_sizes:\n",
    "    conv = Conv1D(\n",
    "        filters = 200,\n",
    "        kernel_size = sz,\n",
    "        padding = 'valid',\n",
    "        strides = 1\n",
    "    )(model_input_ft)\n",
    "    conv = LeakyReLU()(conv)\n",
    "    conv = GlobalMaxPooling1D()(conv)\n",
    "    conv = Dropout(0.8)(conv)\n",
    "    conv_blocks.append(conv)\n",
    "lstm_block = LSTM(100)(model_input_ft) # , dropout = 0.5, recurrent_dropout = 0.5\n",
    "lstm_block = LeakyReLU()(lstm_block)\n",
    "model_concatenated = concatenate([lstm_block, conv_blocks[0], conv_blocks[1], conv_blocks[2]])\n",
    "model_concatenated = Dense(64)(model_concatenated)\n",
    "model_concatenated = LeakyReLU()(model_concatenated)\n",
    "model_output = Dense(300, activation = \"softmax\")(model_concatenated)\n",
    "model = Model([model_input_ft], model_output)\n",
    "model.compile(loss='cosine_proximity', optimizer='nadam', metrics = ['accuracy'])\n",
    "model.summary()"
   ]
  },
  {
   "cell_type": "code",
   "execution_count": 17,
   "metadata": {},
   "outputs": [],
   "source": [
    "samples_per_epoch = file_len(\"/home/jindal/notebooks/jindal/NER/language_model/twitter_dataset_sequences_20m\")\n",
    "epochs = 1\n",
    "batch_size = 64\n",
    "steps_per_epoch = samples_per_epoch // batch_size\n",
    "checkpoint = ModelCheckpoint('lm_twitter_20m.h5', \n",
    "                             monitor='val_acc', \n",
    "                             verbose = 1, \n",
    "                             save_best_only = True, \n",
    "                             save_weights_only = True)"
   ]
  },
  {
   "cell_type": "code",
   "execution_count": 18,
   "metadata": {},
   "outputs": [
    {
     "name": "stdout",
     "output_type": "stream",
     "text": [
      "Epoch 1/1\n"
     ]
    }
   ],
   "source": [
    "\n",
    "try:\n",
    "    model.fit_generator(\n",
    "        sequential_generator('/home/jindal/notebooks/jindal/NER/language_model/twitter_dataset_sequences_20m', batch_size), \n",
    "        steps_per_epoch=steps_per_epoch, epochs=epochs,callbacks=[WeightsSaver(model, 200)]\n",
    "        )\n",
    "except Exception as e:\n",
    "    model.save('german_lm_twitter_20m.h5')"
   ]
  },
  {
   "cell_type": "code",
   "execution_count": null,
   "metadata": {},
   "outputs": [],
   "source": [
    "words_input = Input(shape=(None, 300), dtype='float32',name='words_input')\n",
    "# words = Embedding(input_dim =50, output_dim=300, trainable=False)(words_input)\n",
    "casing_input = Input(shape=(None,), dtype='int32', name='casing_input')\n",
    "casing = Embedding(output_dim=caseEmbeddings.shape[1], input_dim=caseEmbeddings.shape[0], weights=[caseEmbeddings], trainable=False)(casing_input)\n",
    "character_input=Input(shape=(None,52,),name='char_input')\n",
    "embed_char_out=TimeDistributed(Embedding(len(char2Idx),30,embeddings_initializer=RandomUniform(minval=-0.5, maxval=0.5)), name='char_embedding')(character_input)\n",
    "dropout= Dropout(0.5, name='dropout1')(embed_char_out)\n",
    "conv1d_out= TimeDistributed(Conv1D(kernel_size=3, filters=30, padding='same',activation='tanh', strides=1, name='conv'))(dropout)\n",
    "maxpool_out=TimeDistributed(MaxPooling1D(52), name='maxpool')(conv1d_out)\n",
    "char = TimeDistributed(Flatten())(maxpool_out)\n",
    "char = Dropout(0.5)(char)\n",
    "output = concatenate([words_input, char])\n",
    "output = Bidirectional(LSTM(200, return_sequences=False, dropout=0.50, recurrent_dropout=0.5))(output)\n",
    "# output = TimeDistributed(Dense(vocab_size))(output)\n",
    "# crf = CRF(len(label2Idx))\n",
    "# output = crf(output)\n",
    "# output = Flatten()(output)\n",
    "output = Dense(300, activation='softmax')(output)\n",
    "# output = Flatten()(output)\n",
    "# output = Dense(vocab_size, activation='softmax')(output)\n",
    "# model.add(Dense(vocab_size, activation='softmax'))\n",
    "model = Model(inputs=[words_input,casing_input, character_input], outputs=[output])\n",
    "model.compile(loss='cosine_proximity', optimizer='nadam', metrics=['accuracy'])\n",
    "model.summary()\n",
    "# plot_model(model, to_file='model.png')"
   ]
  },
  {
   "cell_type": "code",
   "execution_count": null,
   "metadata": {},
   "outputs": [],
   "source": [
    "print(label2)"
   ]
  },
  {
   "cell_type": "code",
   "execution_count": null,
   "metadata": {},
   "outputs": [],
   "source": [
    "line_number=0\n",
    "file_name = '/home/jindal/notebooks/jindal/NER/language_model/twitter_dataset_sequences_one_million'\n",
    "try:\n",
    "    model.fit_generator(my_generator(file_name, 64, file_len(file_name)), epochs=1, \n",
    "                        steps_per_epoch=file_len(file_name)//64, callbacks=[WeightsSaver(model, 20000)])\n",
    "except Exception as e:\n",
    "    model.save('german_lm_twitter.h5')\n",
    "model.save('german_lm_twitter.h5')"
   ]
  },
  {
   "cell_type": "code",
   "execution_count": null,
   "metadata": {},
   "outputs": [],
   "source": []
  }
 ],
 "metadata": {
  "kernelspec": {
   "display_name": "Python 3",
   "language": "python",
   "name": "python3"
  },
  "language_info": {
   "codemirror_mode": {
    "name": "ipython",
    "version": 3
   },
   "file_extension": ".py",
   "mimetype": "text/x-python",
   "name": "python",
   "nbconvert_exporter": "python",
   "pygments_lexer": "ipython3",
   "version": "3.5.5"
  }
 },
 "nbformat": 4,
 "nbformat_minor": 2
}
