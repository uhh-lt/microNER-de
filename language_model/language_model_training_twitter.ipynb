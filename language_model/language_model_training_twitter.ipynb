{
 "cells": [
  {
   "cell_type": "code",
   "execution_count": 1,
   "metadata": {
    "scrolled": false
   },
   "outputs": [
    {
     "name": "stderr",
     "output_type": "stream",
     "text": [
      "/home/jindal/miniconda3/envs/NER2/lib/python3.5/site-packages/h5py/__init__.py:36: FutureWarning: Conversion of the second argument of issubdtype from `float` to `np.floating` is deprecated. In future, it will be treated as `np.float64 == np.dtype(float).type`.\n",
      "  from ._conv import register_converters as _register_converters\n",
      "Using TensorFlow backend.\n"
     ]
    }
   ],
   "source": [
    "import sys\n",
    "import os\n",
    "sys.path.insert(0, '/home/jindal/notebooks/jindal/NER')\n",
    "import fastText\n",
    "import numpy as np \n",
    "from validation import compute_f1\n",
    "from keras.models import Model\n",
    "from prepro import readfile,createBatches,createMatrices,iterate_minibatches,addCharInformatioin,padding\n",
    "from keras.preprocessing.sequence import pad_sequences\n",
    "from keras.initializers import RandomUniform\n",
    "from sklearn.metrics import precision_recall_fscore_support as score\n",
    "import sklearn\n",
    "from keras.layers import *\n",
    "import pickle, threading\n",
    "import linecache\n",
    "from keras.callbacks import Callback\n",
    "import re\n",
    "from keras.callbacks import ModelCheckpoint\n",
    "from collections import Counter, defaultdict\n",
    "from keras.utils import *\n",
    "import keras\n",
    "import tensorflow as tf\n",
    "\n",
    "epochs = 50\n",
    "trainable=True"
   ]
  },
  {
   "cell_type": "code",
   "execution_count": 2,
   "metadata": {},
   "outputs": [
    {
     "data": {
      "text/plain": [
       "'2.2.0'"
      ]
     },
     "execution_count": 2,
     "metadata": {},
     "output_type": "execute_result"
    }
   ],
   "source": [
    "keras.__version__\n"
   ]
  },
  {
   "cell_type": "code",
   "execution_count": 3,
   "metadata": {},
   "outputs": [],
   "source": [
    "nb_sequence_length=50\n",
    "nb_embedding_dims=300"
   ]
  },
  {
   "cell_type": "code",
   "execution_count": 4,
   "metadata": {},
   "outputs": [
    {
     "data": {
      "text/plain": [
       "3"
      ]
     },
     "execution_count": 4,
     "metadata": {},
     "output_type": "execute_result"
    }
   ],
   "source": [
    "\n",
    "sys.version_info[0]"
   ]
  },
  {
   "cell_type": "code",
   "execution_count": 5,
   "metadata": {},
   "outputs": [],
   "source": [
    "class WeightsSaver(Callback):\n",
    "    def __init__(self, model, N):\n",
    "        self.model = model\n",
    "        self.N = N\n",
    "        self.batch = 0\n",
    "\n",
    "    def on_batch_end(self, batch, logs={}):\n",
    "        if self.batch % self.N == 0:\n",
    "            name = 'german_lm_twitter_20m.h5'\n",
    "            print(\"model saved %s\" %self.batch)\n",
    "            self.model.save_weights(name)\n",
    "        self.batch += 1"
   ]
  },
  {
   "cell_type": "code",
   "execution_count": 6,
   "metadata": {},
   "outputs": [],
   "source": [
    "ft = fastText.load_model(\"/home/jindal/notebooks/fastText/wiki.de.bin\")\n",
    "\n",
    "nb_embedding_dims = ft.get_dimension()"
   ]
  },
  {
   "cell_type": "code",
   "execution_count": 7,
   "metadata": {},
   "outputs": [],
   "source": [
    "def twitter_tokenizer(textline:'takes line as an input'):\n",
    "    \n",
    "    textline = re.sub('@[\\\\w_]+', 'USER_MENTION', textline) # replaces @username with 'usermention'\n",
    "    textline = re.sub('\\\\|LBR\\\\|', '', textline) # to replace linebreak\n",
    "    textline = re.sub('\\\\.\\\\.\\\\.+', '...', textline) #????????\n",
    "    textline = re.sub('!!+', '!!', textline)#?????????\n",
    "    textline = re.sub('\\\\?\\\\?+', '??', textline)\n",
    "    words = re.compile('[\\\\U00010000-\\\\U0010ffff]|[\\\\w-]+|[^ \\\\w\\\\U00010000-\\\\U0010ffff]+', re.UNICODE).findall(textline.strip())\n",
    "    words = [w.strip() for w in words if w.strip() != '']\n",
    "    return(words)"
   ]
  },
  {
   "cell_type": "code",
   "execution_count": null,
   "metadata": {},
   "outputs": [],
   "source": [
    "# creating the first 1m sentences for use\n",
    "def create_train_data(filename:'name of original file', n_lines:'no of lines to use for training from the twitter data',\n",
    "                     new_file_name:'name of file to create'):\n",
    "    new_file = open(new_file_name,'wb')\n",
    "    n_lines_read=0\n",
    "    with open(filename,'rb') as f:\n",
    "        for line in f:\n",
    "            if n_lines_read == n_lines:\n",
    "                break\n",
    "            line = line.decode()\n",
    "            ids, text = line.split('\\t')\n",
    "            n_lines_read+=1\n",
    "            text = twitter_tokenizer(text)\n",
    "            to_write = ' '.join(text)\n",
    "            to_write+='\\n'\n",
    "#             print(to_write)\n",
    "            new_file.write(to_write.encode())\n",
    "            \n",
    "#             assert n_lines_read<=10\n",
    "    f.close()\n",
    "    \n",
    "            "
   ]
  },
  {
   "cell_type": "code",
   "execution_count": null,
   "metadata": {},
   "outputs": [],
   "source": [
    "create_train_data('/home/jindal/notebooks/twitter_data/twitter-2017_de', 20000000, \n",
    "                  '/home/jindal/notebooks/jindal/NER/language_model/training_lines_twitter_20m')"
   ]
  },
  {
   "cell_type": "code",
   "execution_count": 8,
   "metadata": {},
   "outputs": [],
   "source": [
    "window_size =51"
   ]
  },
  {
   "cell_type": "code",
   "execution_count": null,
   "metadata": {},
   "outputs": [],
   "source": [
    "# converts the sentences to a fixed size of 51\n",
    "def generate_sequences(out_file, in_file ) -> None:\n",
    "    output = open(out_file,'wb')\n",
    "    with open(in_file,'rb') as f:\n",
    "        for line in f:\n",
    "            text = line.decode().split()\n",
    "            for i in range(len(text)):\n",
    "                if i+1 >= window_size:\n",
    "                    temp = text[i-window_size+1:i+1]\n",
    "                else:\n",
    "                    temp = ['0' for i in range(window_size - (i +1))] + text[:i+1]\n",
    "                string = ' '.join(temp)+' \\n'\n",
    "                output.write(string.encode())\n",
    "    output.close()\n"
   ]
  },
  {
   "cell_type": "code",
   "execution_count": null,
   "metadata": {},
   "outputs": [],
   "source": [
    "generate_sequences('/home/jindal/notebooks/jindal/NER/language_model/twitter_dataset_sequences_20m',\n",
    "                   '/home/jindal/notebooks/jindal/NER/language_model/training_lines_twitter_20m')"
   ]
  },
  {
   "cell_type": "code",
   "execution_count": null,
   "metadata": {},
   "outputs": [],
   "source": [
    "# assert\n",
    "with open('twitter_dataset_sequences_20m') as f:\n",
    "    for line in f:\n",
    "        assert len(line.split()) == 51"
   ]
  },
  {
   "cell_type": "code",
   "execution_count": 9,
   "metadata": {},
   "outputs": [
    {
     "name": "stdout",
     "output_type": "stream",
     "text": [
      "0 0 0 0 0 0 0 0 0 0 0 0 0 0 0 0 0 0 0 0 0 0 0 0 0 0 0 0 0 0 0 0 0 0 0 0 0 0 0 0 0 0 0 0 Altere Rauchen Fetisch Sex Session https :// \n",
      "\n"
     ]
    }
   ],
   "source": [
    "line = linecache.getline('/home/jindal/notebooks/jindal/NER/language_model/twitter_dataset_sequences_20m', 19)\n",
    "\n",
    "print(line)"
   ]
  },
  {
   "cell_type": "code",
   "execution_count": 10,
   "metadata": {},
   "outputs": [],
   "source": [
    "line_number=0\n",
    "# lock = threading.Lock()"
   ]
  },
  {
   "cell_type": "code",
   "execution_count": 11,
   "metadata": {},
   "outputs": [],
   "source": [
    "def file_len(fname):\n",
    "    with open(fname) as f:\n",
    "        for i, l in enumerate(f):\n",
    "            pass\n",
    "    return i + 1"
   ]
  },
  {
   "cell_type": "code",
   "execution_count": 12,
   "metadata": {},
   "outputs": [],
   "source": [
    "word_vectors_ft = {}\n",
    "def process_features(textline, nb_sequence_length, nb_embedding_dims):\n",
    "    words = twitter_tokenizer(textline)\n",
    "    features_ft = np.zeros((nb_sequence_length, nb_embedding_dims))\n",
    "    max_words = 50\n",
    "    idx = 0\n",
    "    for w in words[:max_words]:\n",
    "        if w in word_vectors_ft:\n",
    "            wv = word_vectors_ft[w]\n",
    "        else:\n",
    "            wv = ft.get_word_vector(w.lower())\n",
    "            word_vectors_ft[w] = wv\n",
    "        features_ft[idx] = wv\n",
    "        \n",
    "        idx = idx + 1\n",
    "    output_word = words[-1]\n",
    "    if output_word in word_vectors_ft:\n",
    "        output_wv = word_vectors_ft[output_word]\n",
    "    else:\n",
    "        output_wv = ft.get_word_vector(output_word.lower())\n",
    "    return features_ft, output_wv"
   ]
  },
  {
   "cell_type": "code",
   "execution_count": 13,
   "metadata": {},
   "outputs": [],
   "source": [
    "def sequential_generator(filename, batch_size, total_lines:'total lines in the file'):\n",
    "    \n",
    "    file_length = total_lines\n",
    "    shuffled_indexes = range(1, file_length + 1) # start from 1 because linecache is 1 indexed\n",
    "    nb_sequence_length = 50\n",
    "    nb_embedding_dims = 300\n",
    "    \n",
    "    index_position = 0\n",
    "    \n",
    "    batch_features_ft = np.zeros((batch_size, nb_sequence_length, nb_embedding_dims))\n",
    "#     batch_features_lg = np.zeros((batch_size, nb_sequence_length, nb_embedding2_dims)) # levy goldberg: not needed\n",
    "    batch_labels = np.zeros((batch_size, 2)) # 2 because of simple task\n",
    "    while True:\n",
    "        # print(len(features))\n",
    "        output_labels = []\n",
    "        \n",
    "        for i in range(batch_size):\n",
    "            line = linecache.getline(filename, shuffled_indexes[index_position])\n",
    "            data = line.strip().split('\\t')\n",
    "            batch_features_ft[i], output_wv = process_features(data[0], nb_sequence_length, nb_embedding_dims)\n",
    "            \n",
    "#             print(batch_features_ft[i])\n",
    "            # print(batch_features_ft[i].shape)\n",
    "#             batch_labels[i] = to_categorical(0 if data[1] == 'OTHER' else 1, n_labels)\n",
    "            output_labels.append(output_wv)\n",
    "            index_position += 1\n",
    "    \n",
    "            if index_position == file_length:\n",
    "                # shuffle indexes again\n",
    "                shuffled_indexes = range(1, file_length + 1)\n",
    "#                 shuffle(shuffled_indexes)\n",
    "                index_position = 0\n",
    "                break\n",
    "        yield ([batch_features_ft], np.array(output_labels))\n"
   ]
  },
  {
   "cell_type": "code",
   "execution_count": 14,
   "metadata": {},
   "outputs": [
    {
     "name": "stdout",
     "output_type": "stream",
     "text": [
      "env: CUDA_DEVICE_ORDER=PCI_BUS_ID\n",
      "env: CUDA_VISIBLE_DEVICES=3\n"
     ]
    }
   ],
   "source": [
    "%env CUDA_DEVICE_ORDER=PCI_BUS_ID\n",
    "%env CUDA_VISIBLE_DEVICES= 3"
   ]
  },
  {
   "cell_type": "code",
   "execution_count": 15,
   "metadata": {},
   "outputs": [
    {
     "name": "stdout",
     "output_type": "stream",
     "text": [
      "__________________________________________________________________________________________________\n",
      "Layer (type)                    Output Shape         Param #     Connected to                     \n",
      "==================================================================================================\n",
      "input_1 (InputLayer)            (None, 50, 300)      0                                            \n",
      "__________________________________________________________________________________________________\n",
      "bidirectional_1 (Bidirectional) (None, 50, 200)      320800      input_1[0][0]                    \n",
      "__________________________________________________________________________________________________\n",
      "leaky_re_lu_1 (LeakyReLU)       (None, 50, 200)      0           bidirectional_1[0][0]            \n",
      "__________________________________________________________________________________________________\n",
      "conv1d_1 (Conv1D)               (None, 48, 200)      120200      leaky_re_lu_1[0][0]              \n",
      "__________________________________________________________________________________________________\n",
      "conv1d_2 (Conv1D)               (None, 47, 200)      160200      leaky_re_lu_1[0][0]              \n",
      "__________________________________________________________________________________________________\n",
      "conv1d_3 (Conv1D)               (None, 46, 200)      200200      leaky_re_lu_1[0][0]              \n",
      "__________________________________________________________________________________________________\n",
      "leaky_re_lu_2 (LeakyReLU)       (None, 48, 200)      0           conv1d_1[0][0]                   \n",
      "__________________________________________________________________________________________________\n",
      "leaky_re_lu_3 (LeakyReLU)       (None, 47, 200)      0           conv1d_2[0][0]                   \n",
      "__________________________________________________________________________________________________\n",
      "leaky_re_lu_4 (LeakyReLU)       (None, 46, 200)      0           conv1d_3[0][0]                   \n",
      "__________________________________________________________________________________________________\n",
      "global_max_pooling1d_1 (GlobalM (None, 200)          0           leaky_re_lu_2[0][0]              \n",
      "__________________________________________________________________________________________________\n",
      "global_max_pooling1d_2 (GlobalM (None, 200)          0           leaky_re_lu_3[0][0]              \n",
      "__________________________________________________________________________________________________\n",
      "global_max_pooling1d_3 (GlobalM (None, 200)          0           leaky_re_lu_4[0][0]              \n",
      "__________________________________________________________________________________________________\n",
      "dropout_1 (Dropout)             (None, 200)          0           global_max_pooling1d_1[0][0]     \n",
      "__________________________________________________________________________________________________\n",
      "dropout_2 (Dropout)             (None, 200)          0           global_max_pooling1d_2[0][0]     \n",
      "__________________________________________________________________________________________________\n",
      "dropout_3 (Dropout)             (None, 200)          0           global_max_pooling1d_3[0][0]     \n",
      "__________________________________________________________________________________________________\n",
      "concatenate_1 (Concatenate)     (None, 600)          0           dropout_1[0][0]                  \n",
      "                                                                 dropout_2[0][0]                  \n",
      "                                                                 dropout_3[0][0]                  \n",
      "__________________________________________________________________________________________________\n",
      "dense_1 (Dense)                 (None, 100)          60100       concatenate_1[0][0]              \n",
      "__________________________________________________________________________________________________\n",
      "leaky_re_lu_5 (LeakyReLU)       (None, 100)          0           dense_1[0][0]                    \n",
      "__________________________________________________________________________________________________\n",
      "dense_2 (Dense)                 (None, 300)          30300       leaky_re_lu_5[0][0]              \n",
      "==================================================================================================\n",
      "Total params: 891,800\n",
      "Trainable params: 891,800\n",
      "Non-trainable params: 0\n",
      "__________________________________________________________________________________________________\n"
     ]
    }
   ],
   "source": [
    "\n",
    "model_input_embedding = Input(shape = (nb_sequence_length, nb_embedding_dims))\n",
    "lstm_block = Bidirectional(LSTM(100, dropout = 0.5, return_sequences=True))(model_input_embedding)\n",
    "lstm_block = LeakyReLU()(lstm_block)\n",
    "\n",
    "filter_sizes = (3, 4, 5)\n",
    "conv_blocks = []\n",
    "for sz in filter_sizes:\n",
    "    conv = Conv1D(\n",
    "        filters = 200,\n",
    "        kernel_size = sz,\n",
    "        padding = 'valid',\n",
    "        strides = 1\n",
    "    )(lstm_block)\n",
    "    conv = LeakyReLU()(conv)\n",
    "    conv = GlobalMaxPooling1D()(conv)\n",
    "    conv = Dropout(0.5)(conv)\n",
    "    conv_blocks.append(conv)\n",
    "model_concatenated = concatenate([conv_blocks[0], conv_blocks[1], conv_blocks[2]])\n",
    "# model_concatenated = Dropout(0.8)(model_concatenated)\n",
    "model_concatenated = Dense(100)(model_concatenated)\n",
    "model_concatenated = LeakyReLU()(model_concatenated)\n",
    "model_output = Dense(300, activation = \"softmax\")(model_concatenated)\n",
    "model = Model(model_input_embedding, model_output)\n",
    "model.compile(loss='cosine_proximity', optimizer='nadam', metrics = ['accuracy'])\n",
    "model.summary()"
   ]
  },
  {
   "cell_type": "code",
   "execution_count": 16,
   "metadata": {},
   "outputs": [],
   "source": [
    "total_lines = file_len('/home/jindal/notebooks/jindal/NER/language_model/twitter_dataset_sequences_20m')"
   ]
  },
  {
   "cell_type": "code",
   "execution_count": 17,
   "metadata": {},
   "outputs": [],
   "source": [
    "samples_per_epoch = total_lines\n",
    "epochs = 1\n",
    "batch_size = 64*2\n",
    "steps_per_epoch = samples_per_epoch // batch_size\n",
    "# checkpoint = ModelCheckpoint('lm_twitter_20m.h5', \n",
    "#                              monitor='val_acc', \n",
    "#                              verbose = 1, \n",
    "#                              save_best_only = True, \n",
    "#                              save_weights_only = True)"
   ]
  },
  {
   "cell_type": "code",
   "execution_count": null,
   "metadata": {
    "scrolled": true
   },
   "outputs": [],
   "source": [
    "multi_gpu_model = keras.utils.multi_gpu_model(model, gpus=2, cpu_relocation=True )"
   ]
  },
  {
   "cell_type": "code",
   "execution_count": null,
   "metadata": {},
   "outputs": [],
   "source": [
    "print(keras.__version__\n",
    "     )"
   ]
  },
  {
   "cell_type": "code",
   "execution_count": null,
   "metadata": {},
   "outputs": [],
   "source": [
    "multi_gpu_model.compile(loss='cosine_proximity', optimizer='nadam', metrics = ['accuracy'])"
   ]
  },
  {
   "cell_type": "code",
   "execution_count": null,
   "metadata": {},
   "outputs": [
    {
     "name": "stdout",
     "output_type": "stream",
     "text": [
      "Epoch 1/1\n",
      "      1/1014705 [..............................] - ETA: 2675:45:08 - loss: -0.0249 - acc: 0.0000e+00model saved 0\n",
      "  20001/1014705 [..............................] - ETA: 48:40:58 - loss: -0.3311 - acc: 0.0405model saved 20000\n",
      "  29501/1014705 [..............................] - ETA: 48:17:23 - loss: -0.3320 - acc: 0.0402"
     ]
    }
   ],
   "source": [
    "\n",
    "try:\n",
    "    model.fit_generator(\n",
    "        sequential_generator('/home/jindal/notebooks/jindal/NER/language_model/twitter_dataset_sequences_20m', batch_size, total_lines), \n",
    "        steps_per_epoch=steps_per_epoch, epochs=epochs,callbacks=[WeightsSaver(model, 20000)]\n",
    "        )\n",
    "except Exception as e:\n",
    "    print(e)\n",
    "    model.save('german_lm_twitter_20m.h5')"
   ]
  },
  {
   "cell_type": "code",
   "execution_count": null,
   "metadata": {},
   "outputs": [],
   "source": []
  }
 ],
 "metadata": {
  "kernelspec": {
   "display_name": "Python 3",
   "language": "python",
   "name": "python3"
  },
  "language_info": {
   "codemirror_mode": {
    "name": "ipython",
    "version": 3
   },
   "file_extension": ".py",
   "mimetype": "text/x-python",
   "name": "python",
   "nbconvert_exporter": "python",
   "pygments_lexer": "ipython3",
   "version": "3.5.5"
  }
 },
 "nbformat": 4,
 "nbformat_minor": 2
}
