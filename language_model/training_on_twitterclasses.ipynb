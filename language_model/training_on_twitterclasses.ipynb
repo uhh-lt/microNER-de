{
 "cells": [
  {
   "cell_type": "code",
   "execution_count": 17,
   "metadata": {},
   "outputs": [],
   "source": [
    "import fastText\n",
    "import math\n",
    "import linecache\n",
    "import numpy as np \n",
    "from numpy import random\n",
    "from random import sample\n",
    "from keras.models import Sequential, Model\n",
    "from keras.callbacks import ModelCheckpoint\n",
    "from keras.layers import *\n",
    "from keras import *\n",
    "from keras.utils import to_categorical\n",
    "from keras.preprocessing.sequence import pad_sequences\n",
    "from keras.initializers import RandomUniform\n",
    "import re\n",
    "from sklearn.metrics import f1_score, recall_score, precision_score, accuracy_score\n",
    "\n",
    "# from attention_utils import get_activations, get_data_recurrent\n"
   ]
  },
  {
   "cell_type": "code",
   "execution_count": 18,
   "metadata": {},
   "outputs": [
    {
     "name": "stdout",
     "output_type": "stream",
     "text": [
      "env: CUDA_DEVICE_ORDER=PCI_BUS_ID\n",
      "env: CUDA_VISIBLE_DEVICES=0\n"
     ]
    }
   ],
   "source": [
    "%env CUDA_DEVICE_ORDER=PCI_BUS_ID\n",
    "%env CUDA_VISIBLE_DEVICES=0"
   ]
  },
  {
   "cell_type": "code",
   "execution_count": 19,
   "metadata": {},
   "outputs": [],
   "source": [
    "ft = fastText.load_model(\"/home/jindal/notebooks/fastText/wiki.de.bin\")\n",
    "\n",
    "nb_embedding_dims = ft.get_dimension()\n",
    "nb_sequence_length = 75"
   ]
  },
  {
   "cell_type": "code",
   "execution_count": 20,
   "metadata": {},
   "outputs": [],
   "source": [
    "def twitter_tokenizer(textline):\n",
    "    textLine = re.sub(r'http\\S+', 'URL', textline)\n",
    "    textline = re.sub('@[\\w_]+', 'USER_MENTION', textline)\n",
    "    textline = re.sub('\\|LBR\\|', '', textline)\n",
    "    textline = re.sub('\\.\\.\\.+', '...', textline)\n",
    "    textline = re.sub('!!+', '!!', textline)\n",
    "    textline = re.sub('\\?\\?+', '??', textline)\n",
    "    words = re.compile('[\\U00010000-\\U0010ffff]|[\\w-]+|[^ \\w\\U00010000-\\U0010ffff]+', re.UNICODE).findall(textline.strip())\n",
    "    words = [w.strip() for w in words if w.strip() != '']\n",
    "    # print(words)\n",
    "    return(words)"
   ]
  },
  {
   "cell_type": "code",
   "execution_count": 21,
   "metadata": {},
   "outputs": [],
   "source": [
    "word_vectors_ft = {}\n",
    "def process_features(textline, nb_sequence_length, nb_embedding_dims, tokenize=True):\n",
    "    if not tokenize:\n",
    "        words = textline.split()\n",
    "    else:\n",
    "        words = twitter_tokenizer(textline)\n",
    "    features_ft = np.zeros((nb_sequence_length, nb_embedding_dims))\n",
    "    features_idx = np.zeros(nb_sequence_length)\n",
    "    max_words = min(len(words), nb_sequence_length)\n",
    "    idx = nb_sequence_length - len(words[:max_words])\n",
    "    for w in words[:max_words]:\n",
    "        if w in word_vectors_ft:\n",
    "            wv = word_vectors_ft[w]\n",
    "        else:\n",
    "            wv = ft.get_word_vector(w.lower())\n",
    "            word_vectors_ft[w] = wv\n",
    "        features_ft[idx] = wv\n",
    "        \n",
    "        idx = idx + 1\n",
    "    return features_ft"
   ]
  },
  {
   "cell_type": "code",
   "execution_count": 92,
   "metadata": {},
   "outputs": [],
   "source": [
    "def sequential_generator(filename, \n",
    "                         batch_size, \n",
    "                         labels2Idx:'dict to make output labels',\n",
    "                         check:'to check if all lines in file are of same length.To check enter the len of line after splitting it by tabs' = None,\n",
    "                         tokenize:'specify if using twitter tokenzor to preprocess lines'=False, \n",
    "                        ):    \n",
    "    \n",
    "    f = open(filename)\n",
    "    n_labels = len(labels2Idx)\n",
    "    while True:\n",
    "        batch_features_ft = np.zeros((batch_size, nb_sequence_length, nb_embedding_dims))\n",
    "        batch_labels = np.zeros((batch_size, len(labels2Idx)))\n",
    "        for i in range(batch_size):\n",
    "            line = f.readline()\n",
    "            if (\"\" == line):\n",
    "                f.seek(0)\n",
    "                line = f.readline()\n",
    "            data = line.strip().split('\\t')\n",
    "            if check:\n",
    "                if len(data)!=check:\n",
    "                    i-=1\n",
    "                    continue\n",
    "            batch_features_ft[i] = process_features(data[0], nb_sequence_length, nb_embedding_dims, tokenize= tokenize)\n",
    "            if len(labels2Idx)==2:\n",
    "                batch_labels[i] = to_categorical(0 if data[2] == 'OTHER' else 1, n_labels)\n",
    "            else:\n",
    "                batch_labels[i] = to_categorical(labels2Idx[data[2]], n_labels)\n",
    "        yield ([batch_features_ft], batch_labels)"
   ]
  },
  {
   "cell_type": "code",
   "execution_count": 97,
   "metadata": {},
   "outputs": [],
   "source": [
    "def train_dev_sentences(filetrain,filedev, check:'to check if lines of file are all same lenght after separating by tab'):\n",
    "    labels2Idx = {}\n",
    "    train_lines = [line.strip().split(\"\\t\") for line in open(filetrain) if len(line.strip().split('\\t'))==check]\n",
    "    dev_lines = [line.strip().split(\"\\t\") for line in open(filedev) if len(line.strip().split('\\t'))==check]\n",
    "\n",
    "    train_sentences = [x[0] for x in train_lines]\n",
    "    for dataset in [train_lines, dev_lines]:\n",
    "        for line in dataset:\n",
    "            label = line[2]\n",
    "            if label not in labels2Idx.keys():\n",
    "                labels2Idx[label]= len(labels2Idx)\n",
    "                \n",
    "#     train_labels = [0 if x[1] == \"OTHER\" else 1 for x in train_lines]\n",
    "    train_labels = [labels2Idx[x[2]] for x in train_lines]\n",
    "    dev_sentences = [x[0] for x in dev_lines]\n",
    "#     dev_labels = [0 if x[1] == \"OTHER\" else 1 for x in dev_lines]\n",
    "    dev_labels = [labels2Idx[x[2]] for x in dev_lines]\n",
    "    return (train_sentences, train_labels, dev_sentences, dev_labels, labels2Idx)\n"
   ]
  },
  {
   "cell_type": "code",
   "execution_count": 43,
   "metadata": {},
   "outputs": [],
   "source": [
    "file_train = '/home/jindal/notebooks/twitter_data/twitter_classes_500k_train.csv'\n",
    "file_dev = '/home/jindal/notebooks/twitter_data/twitter_classes_500k_dev.csv'\n",
    "train_sentences, train_labels, dev_sentences, dev_labels, labels2Id = train_dev_sentences(filetrain=file_train,filedev=file_dev, check=2)"
   ]
  },
  {
   "cell_type": "code",
   "execution_count": 44,
   "metadata": {},
   "outputs": [
    {
     "name": "stdout",
     "output_type": "stream",
     "text": [
      "100000\n"
     ]
    }
   ],
   "source": [
    "print(len(dev_sentences))"
   ]
  },
  {
   "cell_type": "code",
   "execution_count": 45,
   "metadata": {},
   "outputs": [
    {
     "data": {
      "text/plain": [
       "[421, 10, 274, 329, 134, 462, 369, 91, 273, 362]"
      ]
     },
     "execution_count": 45,
     "metadata": {},
     "output_type": "execute_result"
    }
   ],
   "source": [
    "dev_labels[:10]"
   ]
  },
  {
   "cell_type": "code",
   "execution_count": 46,
   "metadata": {},
   "outputs": [
    {
     "name": "stdout",
     "output_type": "stream",
     "text": [
      "100000\n"
     ]
    }
   ],
   "source": [
    "print(len(dev_labels))"
   ]
  },
  {
   "cell_type": "code",
   "execution_count": 47,
   "metadata": {},
   "outputs": [],
   "source": [
    "n_labels = 500"
   ]
  },
  {
   "cell_type": "code",
   "execution_count": 94,
   "metadata": {},
   "outputs": [],
   "source": [
    "def compile_model(no_labels:'total labels for classification'):\n",
    "    model_input_embedding = Input(shape = (nb_sequence_length, nb_embedding_dims))\n",
    "    lstm_block = Bidirectional(LSTM(100, dropout = 0.5, return_sequences=True))(model_input_embedding)\n",
    "    lstm_block = LeakyReLU()(lstm_block)\n",
    "\n",
    "    filter_sizes = (3, 4, 5)\n",
    "    conv_blocks = []\n",
    "    for sz in filter_sizes:\n",
    "        conv = Conv1D(\n",
    "            filters = 200,\n",
    "            kernel_size = sz,\n",
    "            padding = 'valid',\n",
    "            strides = 1\n",
    "        )(lstm_block)\n",
    "        conv = LeakyReLU()(conv)\n",
    "        conv = GlobalMaxPooling1D()(conv)\n",
    "        conv = Dropout(0.5)(conv)\n",
    "        conv_blocks.append(conv)\n",
    "    model_concatenated = concatenate([conv_blocks[0], conv_blocks[1], conv_blocks[2]])\n",
    "    # model_concatenated = Dropout(0.8)(model_concatenated)\n",
    "    model_concatenated = Dense(100)(model_concatenated)\n",
    "    model_concatenated = LeakyReLU()(model_concatenated)\n",
    "    model_output = Dense(no_labels, activation = \"softmax\")(model_concatenated)\n",
    "    new_model = Model(model_input_embedding, model_output)\n",
    "    new_model.compile(loss='categorical_crossentropy', optimizer='nadam', metrics = ['accuracy'])\n",
    "#     new_model.summary()\n",
    "    return new_model"
   ]
  },
  {
   "cell_type": "code",
   "execution_count": 71,
   "metadata": {},
   "outputs": [
    {
     "name": "stdout",
     "output_type": "stream",
     "text": [
      "RT USER_MENTION : URL / i2a32rRGUt\n"
     ]
    }
   ],
   "source": [
    "print(dev_sentences[1])"
   ]
  },
  {
   "cell_type": "code",
   "execution_count": 8,
   "metadata": {},
   "outputs": [
    {
     "ename": "SyntaxError",
     "evalue": "invalid syntax (<ipython-input-8-108820a7d5bd>, line 8)",
     "output_type": "error",
     "traceback": [
      "\u001b[0;36m  File \u001b[0;32m\"<ipython-input-8-108820a7d5bd>\"\u001b[0;36m, line \u001b[0;32m8\u001b[0m\n\u001b[0;31m    filename_to_save_weigths,\u001b[0m\n\u001b[0m                           ^\u001b[0m\n\u001b[0;31mSyntaxError\u001b[0m\u001b[0;31m:\u001b[0m invalid syntax\n"
     ]
    }
   ],
   "source": [
    "def test_model(generator, \n",
    "               train_sentences, \n",
    "               devLabels, \n",
    "               number_of_tests,\n",
    "               number_of_epochs,\n",
    "               filename_to_log, \n",
    "               labels_earlier:'number of original labels if loading a pretrained model',\n",
    "               filename_to_save_weigths,\n",
    "               batch_size, \n",
    "               train_file:'filepath for traininig',\n",
    "               f1_measure:'binary/macro etc', \n",
    "               pos_label:'only if binary f1',\n",
    "               labels2Idx,\n",
    "               load_model_weights=False,\n",
    "               model_weights_file:'give filepath as str'=None, \n",
    "               tokenize=True,\n",
    "               nb_sequence_length = nb_sequence_length,\n",
    "               nb_embedding_dims= nb_embedding_dims, \n",
    "               check_for_generator=None,\n",
    "                ):\n",
    "    \n",
    "#     f = open(filename_to_log,\"w\")\n",
    "    \n",
    "    max_f1=0\n",
    "    max_p=0\n",
    "    max_r=0\n",
    "    max_a=0\n",
    "    total_f1=0\n",
    "    total_prec=0\n",
    "    total_acc=0\n",
    "    total_recall=0\n",
    "    \n",
    "    for test_number in range(number_of_tests):\n",
    "        print(\"Test %d/%d\" %(test_number+1, number_of_tests))\n",
    "        model = compile_model(labels_earlier)\n",
    "\n",
    "        # transfer learning\n",
    "        if load_model_weights and model_weights_file:\n",
    "                model.load_weights(model_weights_file)\n",
    "\n",
    "        samples_per_epoch = len(train_sentences)\n",
    "        epochs = number_of_epochs\n",
    "        batch_size = batch_size\n",
    "        steps_per_epoch = math.ceil(samples_per_epoch / batch_size)\n",
    "        checkpoint = ModelCheckpoint(filename_to_save_weigths, monitor='val_acc',save_best_only = True, \n",
    "                                     save_weights_only = True)\n",
    "\n",
    "        for epoch in range(epochs):\n",
    "            print(\"Epoch: %d\" %(epoch+1))\n",
    "            model.fit_generator(\n",
    "                generator(filename = train_file, batch_size = batch_size, check = check_for_generator, \n",
    "                          labels2Idx= labels2Idx,tokenize= tokenize), \n",
    "                steps_per_epoch= steps_per_epoch, epochs=1,\n",
    "                validation_data = generator(filename ='/home/jindal/notebooks/twitter_data/twitter_classes_500k_dev.csv', \n",
    "                                            batch_size = batch_size, check = check_for_generator, \n",
    "                                           labels2Idx = labels2Idx, tokenize = tokenize),\n",
    "                validation_steps = math.ceil(len(dev_labels) / batch_size),\n",
    "                callbacks = [checkpoint]\n",
    "            )\n",
    "\n",
    "#             testset_features = np.zeros((len(dev_sentences), nb_sequence_length, nb_embedding_dims))\n",
    "#             for i in range(len(dev_sentences)):\n",
    "#                 testset_features[i] = process_features(dev_sentences[i], nb_sequence_length, nb_embedding_dims)\n",
    "#             results = model.predict(testset_features)\n",
    "\n",
    "\n",
    "# #             idx2Label = {0 : \"OTHER\", 1 : \"OFFENSIVE\"}\n",
    "#             predLabels = results.argmax(axis=-1)\n",
    "#             devLabels = devLabels\n",
    "#             f1 = f1_score(devLabels, predLabels, average=f1_measure, pos_label=pos_label) # offensive is the major class. So other is minor\n",
    "#             r = recall_score(devLabels, predLabels, average=f1_measure, pos_label=pos_label)\n",
    "#             p = precision_score(devLabels, predLabels, average=f1_measure, pos_label=pos_label)\n",
    "#             a = accuracy_score(devLabels, predLabels)\n",
    "#             if max_f1 < f1:\n",
    "#                 print(\"model saved. F1 is %f\" %(f1))\n",
    "#                 model.save(filename_to_save_weigths)\n",
    "#                 max_f1 = f1\n",
    "#                 max_p = p\n",
    "#                 max_r = r\n",
    "#                 max_a = a\n",
    "#             text = \"prec: \"+ str(p)+\" rec: \"+str(r) +\" f1: \"+str(f1) +\" acc: \"+str(a)+\" \\n\"\n",
    "#             print(\"Test-Data: Prec: %.3f, Rec: %.3f, F1: %.3f, Acc: %.3f\" % (p, r, f1, a))\n",
    "#         to_write= \"prec: \"+ str(max_p)+\" rec: \"+str(max_r) +\" f1: \"+str(max_f1) +\" acc: \"+str(max_a)+\" \\n\"\n",
    "#         print(to_write)\n",
    "#         f.write(to_write)\n",
    "#         total_f1+=max_f1\n",
    "#         total_prec+=max_p\n",
    "#         total_acc+=max_a\n",
    "#         total_recall+=max_r    \n",
    "#         print(\"*****************************************************************************\")\n",
    "#     final_text = \"avg_prec: \" +str(total_prec/number_of_tests)+\" total_rec: \"+str(total_recall/number_of_tests) +\" total_f1: \"+str(total_f1/number_of_tests) +\" total_acc: \"+str(total_acc/number_of_tests)+\" \\n\"\n",
    "#     print(final_text)\n",
    "#     f.write(final_text)\n",
    "#     f.close()\n",
    "\n",
    "\n"
   ]
  },
  {
   "cell_type": "code",
   "execution_count": 86,
   "metadata": {},
   "outputs": [],
   "source": [
    "generator = sequential_generator\n",
    "train_sentences = train_sentences\n",
    "devLabels = dev_labels\n",
    "number_of_tests = 1\n",
    "number_of_epochs = 10\n",
    "twitterclasses_pretraining_log = '/home/jindal/notebooks/jindal/NER/language_model/results_pretraining_twitterclasses.txt' \n",
    "twitterclasses_pretraining_save_weigths='/home/jindal/notebooks/jindal/NER/language_model/model_pretrained_twitterclasses.h5'\n",
    "batch_size=32*4\n",
    "twitterclasses_train_file='/home/jindal/notebooks/twitter_data/twitter_classes_500k_train.csv'\n",
    "tokenize = False\n",
    "labels2Idx = labels2Id\n",
    "f1_measure='macro'\n",
    "pos_label=0\n",
    "load_model_weights=False\n",
    "# model_weights_file:'give filepath as str'=None, \n",
    "nb_sequence_length = nb_sequence_length\n",
    "nb_embedding_dims= nb_embedding_dims\n",
    "check_for_generator=2\n",
    "\n"
   ]
  },
  {
   "cell_type": "code",
   "execution_count": 87,
   "metadata": {},
   "outputs": [
    {
     "data": {
      "text/plain": [
       "500"
      ]
     },
     "execution_count": 87,
     "metadata": {},
     "output_type": "execute_result"
    }
   ],
   "source": [
    "len(labels2Idx)"
   ]
  },
  {
   "cell_type": "code",
   "execution_count": 88,
   "metadata": {
    "scrolled": true
   },
   "outputs": [
    {
     "name": "stdout",
     "output_type": "stream",
     "text": [
      "Test 1/1\n",
      "Epoch: 1\n",
      "Epoch 1/1\n",
      "3125/3125 [==============================] - 780s 250ms/step - loss: 4.1036 - acc: 0.2424 - val_loss: 3.8253 - val_acc: 0.2802\n",
      "Epoch: 2\n",
      "Epoch 1/1\n",
      "3125/3125 [==============================] - 810s 259ms/step - loss: 3.7542 - acc: 0.2989 - val_loss: 3.6883 - val_acc: 0.3025\n",
      "Epoch: 3\n",
      "Epoch 1/1\n",
      "3125/3125 [==============================] - 815s 261ms/step - loss: 3.6423 - acc: 0.3167 - val_loss: 3.6047 - val_acc: 0.3182\n",
      "Epoch: 4\n",
      "Epoch 1/1\n",
      "3125/3125 [==============================] - 811s 260ms/step - loss: 3.5797 - acc: 0.3264 - val_loss: 3.5725 - val_acc: 0.3198\n",
      "Epoch: 5\n",
      "Epoch 1/1\n",
      "3125/3125 [==============================] - 821s 263ms/step - loss: 3.5343 - acc: 0.3336 - val_loss: 3.5454 - val_acc: 0.3239\n",
      "Epoch: 6\n",
      "Epoch 1/1\n",
      "3125/3125 [==============================] - 793s 254ms/step - loss: 3.4973 - acc: 0.3394 - val_loss: 3.5259 - val_acc: 0.3284\n",
      "Epoch: 7\n",
      "Epoch 1/1\n",
      "3125/3125 [==============================] - 785s 251ms/step - loss: 3.4718 - acc: 0.3430 - val_loss: 3.5019 - val_acc: 0.3308\n",
      "Epoch: 8\n",
      "Epoch 1/1\n",
      "3125/3125 [==============================] - 787s 252ms/step - loss: 3.4486 - acc: 0.3471 - val_loss: 3.4964 - val_acc: 0.3350\n",
      "Epoch: 9\n",
      "Epoch 1/1\n",
      "3125/3125 [==============================] - 837s 268ms/step - loss: 3.4289 - acc: 0.3495 - val_loss: 3.4797 - val_acc: 0.3385\n",
      "Epoch: 10\n",
      "Epoch 1/1\n",
      "3125/3125 [==============================] - 787s 252ms/step - loss: 3.4131 - acc: 0.3522 - val_loss: 3.4777 - val_acc: 0.3382\n"
     ]
    }
   ],
   "source": [
    "test_model(generator=generator, \n",
    "           train_sentences=train_sentences, \n",
    "           devLabels=devLabels,\n",
    "           number_of_tests= number_of_tests,\n",
    "          number_of_epochs=number_of_epochs,\n",
    "           filename_to_log=twitterclasses_pretraining_log, \n",
    "           filename_to_save_weigths=twitterclasses_pretraining_save_weigths,\n",
    "           tokenize= tokenize, \n",
    "           labels2Idx= labels2Idx,\n",
    "          batch_size=batch_size,\n",
    "           train_file=twitterclasses_train_file, \n",
    "           f1_measure=f1_measure, \n",
    "           pos_label=pos_label, \n",
    "           load_model_weights=load_model_weights,\n",
    "          nb_sequence_length=nb_sequence_length,\n",
    "           nb_embedding_dims=nb_embedding_dims, \n",
    "           check_for_generator= check_for_generator)"
   ]
  },
  {
   "cell_type": "markdown",
   "metadata": {},
   "source": [
    "# TRANSFER LEARNING HERE\n"
   ]
  },
  {
   "cell_type": "markdown",
   "metadata": {},
   "source": [
    "# gradual unfreezing\n"
   ]
  },
  {
   "cell_type": "code",
   "execution_count": 98,
   "metadata": {},
   "outputs": [],
   "source": [
    "train_sentences, train_labels, dev_sentences, dev_labels, labels2Idx = train_dev_sentences(filetrain='/home/gwiedemann/notebooks/OffLang/sample_train.txt',\n",
    "                   filedev='/home/gwiedemann/notebooks/OffLang/sample_dev.txt', check=3)"
   ]
  },
  {
   "cell_type": "code",
   "execution_count": 99,
   "metadata": {},
   "outputs": [
    {
     "name": "stdout",
     "output_type": "stream",
     "text": [
      "@FilmElf_yt Diese ganzen leute die du angesprochen hast sind untermenschen ja aber das alte Deutschland und deutsche volk waren ehrenwerte leute und ein stolzes Land\n",
      "808\n",
      "808\n",
      "{'ABUSE': 3, 'PROFANITY': 2, 'OTHER': 0, 'INSULT': 1}\n"
     ]
    }
   ],
   "source": [
    "print(dev_sentences[0])\n",
    "print(len(dev_sentences))\n",
    "print(len(dev_labels))\n",
    "print(labels2Idx)"
   ]
  },
  {
   "cell_type": "code",
   "execution_count": 100,
   "metadata": {},
   "outputs": [],
   "source": [
    "# list of tuples. Every tuple contains range of layers which need to be unfrozen. Rest all are frozen\n",
    "single_unfreeze_bottom_up = [(18, 18), (17, 16), (15, 3), (2, 1), (18,1)] \n",
    "single_unfreeze_top_down = [(18, 18),   (2, 1),(15, 3), (17, 16), (18,1)]\n",
    "all_unfreeze = [(18,1)]\n",
    "gradual_unfreezing = [(18,18), (18,16), (18,3), (18,1)]\n",
    "\n",
    "strings =['suf_bu', 'suf_td','all_unfreeze','gradual_unfreeze']\n",
    "# strings=['gradual_unfreeze']\n",
    "unfreeze_strategy = [single_unfreeze_bottom_up, single_unfreeze_top_down, all_unfreeze, gradual_unfreezing]\n",
    "# unfreeze_strategy = [gradual_unfreezing]"
   ]
  },
  {
   "cell_type": "code",
   "execution_count": 101,
   "metadata": {},
   "outputs": [],
   "source": [
    "def test_model_tl_unfreezing(generator, \n",
    "               train_sentences, \n",
    "               devLabels, \n",
    "               number_of_tests,\n",
    "               number_of_epochs,\n",
    "               filename_to_log, \n",
    "               labels2Idx,\n",
    "               filename_to_save_weigths,\n",
    "               batch_size, \n",
    "               unfreezing_strategy: 'list containing a tuple of indices to unfreeze at each step',\n",
    "               train_file:'filepath for traininig',\n",
    "               f1_measure:'binary/macro etc', \n",
    "               pos_label:'only if binary f1',\n",
    "               load_model_weights=False,\n",
    "               model_weights_file:'give filepath as str'=None, \n",
    "               tokenize=True,\n",
    "               nb_sequence_length = nb_sequence_length,\n",
    "               nb_embedding_dims= nb_embedding_dims, \n",
    "               check_for_generator=None):\n",
    "    \n",
    "    f = open(filename_to_log, 'w', encoding='utf-8')\n",
    "    f.close()\n",
    "   \n",
    "    total_f1=0\n",
    "    total_prec=0\n",
    "    total_acc=0\n",
    "    total_recall=0\n",
    "    \n",
    "    for test_number in range(number_of_tests):\n",
    "        print(\"Test %d/%d\" %(test_number+1, number_of_tests))\n",
    "        model = compile_model(1000)\n",
    "\n",
    "        # transfer learning\n",
    "        if load_model_weights and model_weights_file:\n",
    "                model.load_weights(model_weights_file)\n",
    "                print(\"removing top layer\")\n",
    "                model.layers.pop()\n",
    "                output = Dense(len(labels2Idx), activation = 'softmax')(model.layers[-1].output)\n",
    "                final_model = Model(inputs=model.input, outputs=[output])\n",
    "\n",
    "        samples_per_epoch = len(train_sentences)\n",
    "        epochs = number_of_epochs\n",
    "        batch_size = batch_size\n",
    "        steps_per_epoch = math.ceil(samples_per_epoch / batch_size)\n",
    "#         checkpoint = ModelCheckpoint(filename_to_save_weigths, monitor='val_acc',save_best_only = True, \n",
    "#                                      save_weights_only = True)\n",
    "\n",
    "\n",
    "        max_f1=0\n",
    "        max_p=0\n",
    "        max_r=0\n",
    "        max_a=0\n",
    "        \n",
    "        # load pretrained weights\n",
    "        # model.compile\n",
    "        # save tmp weights\n",
    "        # iterate over layers\n",
    "        #    load tmp weights\n",
    "        #    iterate over epochs\n",
    "        #        unfreeze top frozen layer\n",
    "        #        save best model as tmp weights\n",
    "        \n",
    "        \n",
    "        final_model.save(filename_to_save_weigths)\n",
    "        \n",
    "        # layers_to_unfreeze = [18, 16, 3, 1]\n",
    "        \n",
    "        for ulayer in unfreezing_strategy:\n",
    "            print(\"unfreezing \" + final_model.layers[ulayer[0]].name)\n",
    "            print(\"---------------------------------------\")\n",
    "            final_model.load_weights(filename_to_save_weigths)            \n",
    "            for i, layer in enumerate(final_model.layers):\n",
    "                \n",
    "                # TF strategy: gradual unfreezing\n",
    "                #if i >= ulayer:\n",
    "                #    layer.trainable = True\n",
    "                #else:\n",
    "                #    layer.trainable = False\n",
    "                # \n",
    "                ## TF strategy: single\n",
    "                \n",
    "                if i >= ulayer[1] and i <= ulayer[0]:\n",
    "                    layer.trainable = True\n",
    "                else:\n",
    "                    layer.trainable = False\n",
    "                    \n",
    "                print(str(i) + ' ' + layer.name + ' ' + str(layer.trainable))\n",
    "            final_model.compile(loss='categorical_crossentropy', optimizer='nadam', metrics=['accuracy'])\n",
    "        \n",
    "            for epoch in range(epochs):\n",
    "                print(\"Epoch: %d/%d\" %(epoch+1, epochs))\n",
    "                final_model.fit_generator(\n",
    "                    generator(filename = train_file, batch_size = batch_size, check = check_for_generator, \n",
    "                              labels2Idx= labels2Idx,tokenize= tokenize), \n",
    "                    steps_per_epoch= steps_per_epoch, epochs=1\n",
    "                )\n",
    "\n",
    "                testset_features = np.zeros((len(dev_sentences), nb_sequence_length, nb_embedding_dims))\n",
    "                for i in range(len(dev_sentences)):\n",
    "                    testset_features[i] = process_features(dev_sentences[i], nb_sequence_length, nb_embedding_dims)\n",
    "                results = final_model.predict(testset_features)\n",
    "\n",
    "                predLabels = results.argmax(axis=-1)\n",
    "                devLabels = devLabels\n",
    "                f1 = f1_score(devLabels, predLabels, average=f1_measure, pos_label=pos_label) # offensive is the major class. So other is minor\n",
    "                r = recall_score(devLabels, predLabels, average=f1_measure, pos_label=pos_label)\n",
    "                p = precision_score(devLabels, predLabels, average=f1_measure, pos_label=pos_label)\n",
    "                a = accuracy_score(devLabels, predLabels)\n",
    "                if max_f1 < f1:\n",
    "                    print(\"model saved. F1 is %f\" %(f1))\n",
    "                    final_model.save(filename_to_save_weigths)\n",
    "                    max_f1 = f1\n",
    "                    max_p = p\n",
    "                    max_r = r\n",
    "                    max_a = a\n",
    "                text = \"prec: \"+ str(p)+\" rec: \"+str(r) +\" f1: \"+str(f1) +\" acc: \"+str(a)+\" \\n\"\n",
    "                print(\"Test-Data: Prec: %.3f, Rec: %.3f, F1: %.3f, Acc: %.3f\" % (p, r, f1, a))\n",
    "        to_write= \"prec: \"+ str(max_p)+\" rec: \"+str(max_r) +\" f1: \"+str(max_f1) +\" acc: \"+str(max_a)+\" \\n\"\n",
    "        print(to_write)\n",
    "        with open(filename_to_log,'a') as f:\n",
    "            f.write(to_write)\n",
    "#         f.close()\n",
    "#         f = open(filename_to_log, 'a', encoding='utf-8')\n",
    "        total_f1+=max_f1\n",
    "        total_prec+=max_p\n",
    "        total_acc+=max_a\n",
    "        total_recall+=max_r    \n",
    "        print(\"*****************************************************************************\")\n",
    "    final_text = \"avg_prec: \" +str(total_prec/number_of_tests)+\" total_rec: \"+str(total_recall/number_of_tests) +\" total_f1: \"+str(total_f1/number_of_tests) +\" total_acc: \"+str(total_acc/number_of_tests)+\" \\n\"\n",
    "    print(final_text)\n",
    "    with open(filename_to_log,'a') as f:\n",
    "        f.write(final_text)\n",
    "#     f.close()"
   ]
  },
  {
   "cell_type": "code",
   "execution_count": null,
   "metadata": {},
   "outputs": [],
   "source": []
  },
  {
   "cell_type": "code",
   "execution_count": 102,
   "metadata": {},
   "outputs": [],
   "source": [
    "# list of tuples. Every tuple contains range of layers which need to be unfrozen. Rest all are frozen\n",
    "single_unfreeze_bottom_up = [(18, 18), (17, 16), (15, 3), (2, 1), (18,1)] \n",
    "single_unfreeze_top_down = [(18, 18),   (2, 1),(15, 3), (17, 16), (18,1)]\n",
    "all_unfreeze = [(18,1)]\n",
    "gradual_unfreezing = [(18,18), (18,16), (18,3), (18,1)]\n",
    "\n",
    "strings =['suf_bu', 'suf_td','all_unfreeze','gradual_unfreeze']\n",
    "# strings=['gradual_unfreeze']\n",
    "unfreeze_strategy = [single_unfreeze_bottom_up, single_unfreeze_top_down, all_unfreeze, gradual_unfreezing]\n",
    "# unfreeze_strategy = [gradual_unfreezing]"
   ]
  },
  {
   "cell_type": "code",
   "execution_count": null,
   "metadata": {
    "scrolled": true
   },
   "outputs": [
    {
     "name": "stdout",
     "output_type": "stream",
     "text": [
      "approach: suf_bu\n",
      "log file: /home/jindal/notebooks/jindal/NER/language_model/results_tl_twitterclasses7m_1000_t2_suf_bu.txt\n",
      "save weights file: /home/jindal/notebooks/jindal/NER/language_model/classification_model_tl_twitterclasses7m_1000_t2_suf_bu.h5\n",
      "[(18, 18), (17, 16), (15, 3), (2, 1), (18, 1)]\n",
      "Test 1/5\n",
      "removing top layer\n",
      "unfreezing dense_220\n",
      "---------------------------------------\n",
      "0 input_75 False\n",
      "1 bidirectional_75 False\n",
      "2 leaky_re_lu_371 False\n",
      "3 conv1d_223 False\n",
      "4 conv1d_224 False\n",
      "5 conv1d_225 False\n",
      "6 leaky_re_lu_372 False\n",
      "7 leaky_re_lu_373 False\n",
      "8 leaky_re_lu_374 False\n",
      "9 global_max_pooling1d_223 False\n",
      "10 global_max_pooling1d_224 False\n",
      "11 global_max_pooling1d_225 False\n",
      "12 dropout_223 False\n",
      "13 dropout_224 False\n",
      "14 dropout_225 False\n",
      "15 concatenate_75 False\n",
      "16 dense_218 False\n",
      "17 leaky_re_lu_375 False\n",
      "18 dense_220 True\n",
      "Epoch: 1/50\n",
      "Epoch 1/1\n",
      "132/132 [==============================] - 31s 233ms/step - loss: 1.0718 - acc: 0.5836\n"
     ]
    },
    {
     "name": "stderr",
     "output_type": "stream",
     "text": [
      "/home/jindal/miniconda3/envs/NER2/lib/python3.5/site-packages/sklearn/metrics/classification.py:1135: UndefinedMetricWarning: F-score is ill-defined and being set to 0.0 in labels with no predicted samples.\n",
      "  'precision', 'predicted', average, warn_for)\n",
      "/home/jindal/miniconda3/envs/NER2/lib/python3.5/site-packages/sklearn/metrics/classification.py:1135: UndefinedMetricWarning: Precision is ill-defined and being set to 0.0 in labels with no predicted samples.\n",
      "  'precision', 'predicted', average, warn_for)\n"
     ]
    },
    {
     "name": "stdout",
     "output_type": "stream",
     "text": [
      "model saved. F1 is 0.314584\n",
      "Test-Data: Prec: 0.415, Rec: 0.312, F1: 0.315, Acc: 0.677\n",
      "Epoch: 2/50\n",
      "Epoch 1/1\n",
      "132/132 [==============================] - 9s 72ms/step - loss: 0.8780 - acc: 0.6529\n",
      "model saved. F1 is 0.338137\n",
      "Test-Data: Prec: 0.439, Rec: 0.331, F1: 0.338, Acc: 0.687\n",
      "Epoch: 3/50\n",
      "Epoch 1/1\n",
      "132/132 [==============================] - 9s 72ms/step - loss: 0.8348 - acc: 0.6652\n",
      "model saved. F1 is 0.368172\n",
      "Test-Data: Prec: 0.471, Rec: 0.353, F1: 0.368, Acc: 0.699\n",
      "Epoch: 4/50\n",
      "Epoch 1/1\n",
      "132/132 [==============================] - 10s 73ms/step - loss: 0.8162 - acc: 0.6690\n",
      "model saved. F1 is 0.373943\n",
      "Test-Data: Prec: 0.480, Rec: 0.356, F1: 0.374, Acc: 0.703\n",
      "Epoch: 5/50\n",
      "Epoch 1/1\n",
      "132/132 [==============================] - 10s 72ms/step - loss: 0.8040 - acc: 0.6768\n",
      "Test-Data: Prec: 0.471, Rec: 0.354, F1: 0.371, Acc: 0.702\n",
      "Epoch: 6/50\n",
      "Epoch 1/1\n",
      "132/132 [==============================] - 10s 72ms/step - loss: 0.7957 - acc: 0.6723\n",
      "Test-Data: Prec: 0.480, Rec: 0.350, F1: 0.365, Acc: 0.700\n",
      "Epoch: 7/50\n",
      "Epoch 1/1\n",
      " 36/132 [=======>......................] - ETA: 7s - loss: 0.8272 - acc: 0.6649"
     ]
    }
   ],
   "source": [
    "for i in range(len(strings)):\n",
    "    string = strings[i]\n",
    "    print(\"approach: %s\" %(string))\n",
    "    \n",
    "    generator = sequential_generator\n",
    "    train_sentences = train_sentences\n",
    "    devLabels = dev_labels\n",
    "    number_of_tests = 5\n",
    "    number_of_epochs = 50\n",
    "    labels2Id = labels2Idx\n",
    "    twitterclasses_tl_log = '/home/jindal/notebooks/jindal/NER/language_model/results_tl_twitterclasses7m_1000_t2_' +string+'.txt' \n",
    "    print(\"log file: %s\" %(twitterclasses_tl_log))\n",
    "    twitterclasses_tl_save_weigths='/home/jindal/notebooks/jindal/NER/language_model/classification_model_tl_twitterclasses7m_1000_t2_'+string+'.h5'\n",
    "    print(\"save weights file: %s\" %(twitterclasses_tl_save_weigths))\n",
    "    batch_size=32\n",
    "    twitterclasses_tl_train_file='/home/gwiedemann/notebooks/OffLang/sample_train.txt'\n",
    "    f1_measure='macro'\n",
    "    pos_label=1\n",
    "    strategy = unfreeze_strategy[i]\n",
    "    print(strategy)\n",
    "    load_model_weights=True\n",
    "    model_weights_file = '/home/jindal/notebooks/jindal/NER/language_model/model_pretrained_twitterclasses7m_1000.h5'\n",
    "    nb_sequence_length = nb_sequence_length\n",
    "    nb_embedding_dims= nb_embedding_dims\n",
    "    check_for_generator=3\n",
    "    \n",
    "    test_model_tl_unfreezing(generator=generator, \n",
    "           train_sentences=train_sentences, \n",
    "           devLabels=devLabels, \n",
    "           number_of_tests= number_of_tests,\n",
    "           number_of_epochs=number_of_epochs, \n",
    "           filename_to_log=twitterclasses_tl_log, \n",
    "           labels2Idx = labels2Id,\n",
    "           filename_to_save_weigths=twitterclasses_tl_save_weigths,\n",
    "           batch_size=batch_size,\n",
    "           unfreezing_strategy = strategy,       \n",
    "           train_file=twitterclasses_tl_train_file, \n",
    "           f1_measure=f1_measure, \n",
    "           pos_label=pos_label, \n",
    "           load_model_weights=load_model_weights,\n",
    "           model_weights_file = model_weights_file, \n",
    "           nb_sequence_length=nb_sequence_length, \n",
    "           nb_embedding_dims=nb_embedding_dims, \n",
    "           check_for_generator= check_for_generator)"
   ]
  },
  {
   "cell_type": "code",
   "execution_count": null,
   "metadata": {},
   "outputs": [],
   "source": []
  }
 ],
 "metadata": {
  "kernelspec": {
   "display_name": "Python 3",
   "language": "python",
   "name": "python3"
  },
  "language_info": {
   "codemirror_mode": {
    "name": "ipython",
    "version": 3
   },
   "file_extension": ".py",
   "mimetype": "text/x-python",
   "name": "python",
   "nbconvert_exporter": "python",
   "pygments_lexer": "ipython3",
   "version": "3.5.5"
  }
 },
 "nbformat": 4,
 "nbformat_minor": 2
}
