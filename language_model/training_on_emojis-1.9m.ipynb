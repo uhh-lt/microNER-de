{
 "cells": [
  {
   "cell_type": "code",
   "execution_count": 1,
   "metadata": {},
   "outputs": [
    {
     "name": "stderr",
     "output_type": "stream",
     "text": [
      "/home/jindal/miniconda3/envs/NER2/lib/python3.5/site-packages/h5py/__init__.py:36: FutureWarning: Conversion of the second argument of issubdtype from `float` to `np.floating` is deprecated. In future, it will be treated as `np.float64 == np.dtype(float).type`.\n",
      "  from ._conv import register_converters as _register_converters\n",
      "Using TensorFlow backend.\n"
     ]
    }
   ],
   "source": [
    "import fastText\n",
    "import math\n",
    "import linecache\n",
    "import numpy as np \n",
    "from numpy import random\n",
    "from random import sample\n",
    "from keras.models import Sequential, Model\n",
    "from keras.callbacks import ModelCheckpoint\n",
    "from keras.layers import *\n",
    "from keras import *\n",
    "from keras.utils import to_categorical\n",
    "from keras.preprocessing.sequence import pad_sequences\n",
    "from keras.initializers import RandomUniform\n",
    "import re\n",
    "from sklearn.metrics import f1_score, recall_score, precision_score, accuracy_score\n",
    "\n",
    "# from attention_utils import get_activations, get_data_recurrent\n"
   ]
  },
  {
   "cell_type": "code",
   "execution_count": 2,
   "metadata": {},
   "outputs": [
    {
     "name": "stdout",
     "output_type": "stream",
     "text": [
      "env: CUDA_DEVICE_ORDER=PCI_BUS_ID\n",
      "env: CUDA_VISIBLE_DEVICES=1\n"
     ]
    }
   ],
   "source": [
    "%env CUDA_DEVICE_ORDER=PCI_BUS_ID\n",
    "%env CUDA_VISIBLE_DEVICES=1"
   ]
  },
  {
   "cell_type": "code",
   "execution_count": 3,
   "metadata": {},
   "outputs": [],
   "source": [
    "ft = fastText.load_model(\"/home/jindal/notebooks/fastText/wiki.de.bin\")\n",
    "\n",
    "nb_embedding_dims = ft.get_dimension()\n",
    "nb_sequence_length = 75"
   ]
  },
  {
   "cell_type": "code",
   "execution_count": 4,
   "metadata": {},
   "outputs": [],
   "source": [
    "def twitter_tokenizer(textline):\n",
    "    textLine = re.sub(r'http\\S+', 'URL', textline)\n",
    "    textline = re.sub('@[\\w_]+', 'USER_MENTION', textline)\n",
    "    textline = re.sub('\\|LBR\\|', '', textline)\n",
    "    textline = re.sub('\\.\\.\\.+', '...', textline)\n",
    "    textline = re.sub('!!+', '!!', textline)\n",
    "    textline = re.sub('\\?\\?+', '??', textline)\n",
    "    words = re.compile('[\\U00010000-\\U0010ffff]|[\\w-]+|[^ \\w\\U00010000-\\U0010ffff]+', re.UNICODE).findall(textline.strip())\n",
    "    words = [w.strip() for w in words if w.strip() != '']\n",
    "    # print(words)\n",
    "    return(words)"
   ]
  },
  {
   "cell_type": "code",
   "execution_count": 5,
   "metadata": {},
   "outputs": [],
   "source": [
    "word_vectors_ft = {}\n",
    "def process_features(textline, nb_sequence_length, nb_embedding_dims, tokenize=True):\n",
    "    if not tokenize:\n",
    "        words = textline.split()\n",
    "    else:\n",
    "        words = twitter_tokenizer(textline)\n",
    "    features_ft = np.zeros((nb_sequence_length, nb_embedding_dims))\n",
    "    features_idx = np.zeros(nb_sequence_length)\n",
    "    max_words = min(len(words), nb_sequence_length)\n",
    "    idx = nb_sequence_length - len(words[:max_words])\n",
    "    for w in words[:max_words]:\n",
    "        if w in word_vectors_ft:\n",
    "            wv = word_vectors_ft[w]\n",
    "        else:\n",
    "            wv = ft.get_word_vector(w.lower())\n",
    "            word_vectors_ft[w] = wv\n",
    "        features_ft[idx] = wv\n",
    "        \n",
    "        idx = idx + 1\n",
    "    return features_ft"
   ]
  },
  {
   "cell_type": "code",
   "execution_count": 6,
   "metadata": {},
   "outputs": [],
   "source": [
    "def sequential_generator(filename, \n",
    "                         batch_size, \n",
    "                         labels2Idx:'dict to make output labels',\n",
    "                         check:'to check if all lines in file are of same length.To check enter the len of line after splitting it by tabs' = None,\n",
    "                         tokenize:'specify if using twitter tokenzor to preprocess lines'=False, \n",
    "                        ):    \n",
    "    \n",
    "    f = open(filename)\n",
    "    while True:\n",
    "        batch_features_ft = np.zeros((batch_size, nb_sequence_length, nb_embedding_dims))\n",
    "#         print(type(labels2Idx))\n",
    "        batch_labels = np.zeros((batch_size, len(labels2Idx)))\n",
    "        for i in range(batch_size):\n",
    "            line = f.readline()\n",
    "            if (\"\" == line):\n",
    "                f.seek(0)\n",
    "                line = f.readline()\n",
    "            data = line.strip().split('\\t')\n",
    "            if check:\n",
    "                if len(data)!=check:\n",
    "                    i-=1\n",
    "                    continue\n",
    "            batch_features_ft[i] = process_features(data[0], nb_sequence_length, nb_embedding_dims, tokenize= tokenize)\n",
    "            if len(labels2Idx)==2:\n",
    "                batch_labels[i] = to_categorical(0 if data[1] == 'OTHER' else 1, n_labels)\n",
    "            else:\n",
    "                batch_labels[i] = to_categorical(labels2Idx[data[1]], n_labels)\n",
    "        yield ([batch_features_ft], batch_labels)"
   ]
  },
  {
   "cell_type": "code",
   "execution_count": 7,
   "metadata": {},
   "outputs": [],
   "source": [
    "def train_dev_sentences(filetrain,filedev, check:'to check if lines of file are all same lenght after separating by tab'):\n",
    "    labels2Idx = {}\n",
    "    train_lines = [line.strip().split(\"\\t\") for line in open(filetrain) if len(line.strip().split('\\t'))==check]\n",
    "    dev_lines = [line.strip().split(\"\\t\") for line in open(filedev) if len(line.strip().split('\\t'))==check]\n",
    "\n",
    "    train_sentences = [x[0] for x in train_lines]\n",
    "    for dataset in [train_lines, dev_lines]:\n",
    "        for line in dataset:\n",
    "            label = line[1]\n",
    "            if label not in labels2Idx.keys():\n",
    "                labels2Idx[label]= len(labels2Idx)\n",
    "                \n",
    "#     train_labels = [0 if x[1] == \"OTHER\" else 1 for x in train_lines]\n",
    "    train_labels = [labels2Idx[x[1]] for x in train_lines]\n",
    "    dev_sentences = [x[0] for x in dev_lines]\n",
    "#     dev_labels = [0 if x[1] == \"OTHER\" else 1 for x in dev_lines]\n",
    "    dev_labels = [labels2Idx[x[1]] for x in dev_lines]\n",
    "    return (train_sentences, train_labels, dev_sentences, dev_labels, labels2Idx)\n"
   ]
  },
  {
   "cell_type": "code",
   "execution_count": 8,
   "metadata": {},
   "outputs": [],
   "source": [
    "file_train = '/home/jindal/notebooks/jindal/NER/language_model/twitter_17-13_train.txt'\n",
    "file_dev = '/home/jindal/notebooks/jindal/NER/language_model/twitter_17-13_dev.txt'\n",
    "train_sentences, train_labels, dev_sentences, dev_labels, labels2Id = train_dev_sentences(filetrain=file_train,filedev=file_dev, check=2)"
   ]
  },
  {
   "cell_type": "code",
   "execution_count": 9,
   "metadata": {},
   "outputs": [
    {
     "name": "stdout",
     "output_type": "stream",
     "text": [
      "40000\n"
     ]
    }
   ],
   "source": [
    "print(len(dev_sentences))"
   ]
  },
  {
   "cell_type": "code",
   "execution_count": 10,
   "metadata": {},
   "outputs": [
    {
     "data": {
      "text/plain": [
       "[2, 10, 10, 130, 55, 49, 4, 7, 32, 2]"
      ]
     },
     "execution_count": 10,
     "metadata": {},
     "output_type": "execute_result"
    }
   ],
   "source": [
    "dev_labels[:10]"
   ]
  },
  {
   "cell_type": "code",
   "execution_count": 11,
   "metadata": {},
   "outputs": [
    {
     "name": "stdout",
     "output_type": "stream",
     "text": [
      "40000\n"
     ]
    }
   ],
   "source": [
    "print(len(dev_labels))"
   ]
  },
  {
   "cell_type": "code",
   "execution_count": 12,
   "metadata": {},
   "outputs": [
    {
     "name": "stdout",
     "output_type": "stream",
     "text": [
      "1297\n"
     ]
    }
   ],
   "source": [
    "n_labels = len(labels2Id)\n",
    "print(n_labels)"
   ]
  },
  {
   "cell_type": "code",
   "execution_count": 14,
   "metadata": {},
   "outputs": [],
   "source": [
    "def compile_model(no_labels:'total labels for classification'):\n",
    "    model_input_embedding = Input(shape = (nb_sequence_length, nb_embedding_dims))\n",
    "    lstm_block = Bidirectional(LSTM(100, dropout = 0.5, return_sequences=True))(model_input_embedding)\n",
    "    lstm_block = LeakyReLU()(lstm_block)\n",
    "\n",
    "    filter_sizes = (3, 4, 5)\n",
    "    conv_blocks = []\n",
    "    for sz in filter_sizes:\n",
    "        conv = Conv1D(\n",
    "            filters = 200,\n",
    "            kernel_size = sz,\n",
    "            padding = 'valid',\n",
    "            strides = 1\n",
    "        )(lstm_block)\n",
    "        conv = LeakyReLU()(conv)\n",
    "        conv = GlobalMaxPooling1D()(conv)\n",
    "        conv = Dropout(0.5)(conv)\n",
    "        conv_blocks.append(conv)\n",
    "    model_concatenated = concatenate([conv_blocks[0], conv_blocks[1], conv_blocks[2]])\n",
    "    # model_concatenated = Dropout(0.8)(model_concatenated)\n",
    "    model_concatenated = Dense(100)(model_concatenated)\n",
    "    model_concatenated = LeakyReLU()(model_concatenated)\n",
    "    model_output = Dense(no_labels, activation = \"softmax\")(model_concatenated)\n",
    "    new_model = Model(model_input_embedding, model_output)\n",
    "    new_model.compile(loss='categorical_crossentropy', optimizer='nadam', metrics = ['accuracy'])\n",
    "#     new_model.summary()\n",
    "    return new_model"
   ]
  },
  {
   "cell_type": "code",
   "execution_count": 15,
   "metadata": {},
   "outputs": [
    {
     "name": "stdout",
     "output_type": "stream",
     "text": [
      "USERMENTION Oh wie lieb ... ich wünsche dir einen guten Rutsch und ein wunderschönes neues Jahr\n"
     ]
    }
   ],
   "source": [
    "print(dev_sentences[1])"
   ]
  },
  {
   "cell_type": "code",
   "execution_count": 16,
   "metadata": {},
   "outputs": [],
   "source": [
    "def test_model(generator, \n",
    "               train_sentences, \n",
    "               devLabels, \n",
    "               number_of_tests,\n",
    "               number_of_epochs,\n",
    "               filename_to_log, \n",
    "               labels_earlier:'number of original labels if loading a pretrained model',\n",
    "               filename_to_save_weigths,\n",
    "               batch_size, \n",
    "               train_file:'filepath for traininig',\n",
    "               f1_measure:'binary/macro etc', \n",
    "               pos_label:'only if binary f1',\n",
    "               labels2Idx,\n",
    "               load_model_weights=False,\n",
    "               model_weights_file:'give filepath as str'=None, \n",
    "               tokenize=True,\n",
    "               nb_sequence_length = nb_sequence_length,\n",
    "               nb_embedding_dims= nb_embedding_dims, \n",
    "               check_for_generator=None,\n",
    "                ):\n",
    "    \n",
    "#     f = open(filename_to_log,\"w\")\n",
    "    \n",
    "    max_f1=0\n",
    "    max_p=0\n",
    "    max_r=0\n",
    "    max_a=0\n",
    "    total_f1=0\n",
    "    total_prec=0\n",
    "    total_acc=0\n",
    "    total_recall=0\n",
    "    \n",
    "    for test_number in range(number_of_tests):\n",
    "        print(\"Test %d/%d\" %(test_number+1, number_of_tests))\n",
    "        model = compile_model(labels_earlier)\n",
    "\n",
    "        # transfer learning\n",
    "        if load_model_weights and model_weights_file:\n",
    "                model.load_weights(model_weights_file)\n",
    "\n",
    "        samples_per_epoch = len(train_sentences)\n",
    "        epochs = number_of_epochs\n",
    "        batch_size = batch_size\n",
    "        steps_per_epoch = math.ceil(samples_per_epoch / batch_size)\n",
    "        checkpoint = ModelCheckpoint(filename_to_save_weigths, monitor='val_acc',save_best_only = True, \n",
    "                                     save_weights_only = True)\n",
    "\n",
    "        for epoch in range(epochs):\n",
    "            print(\"Epoch: %d\" %(epoch+1))\n",
    "            model.fit_generator(\n",
    "                generator(filename = train_file, batch_size = batch_size, check = check_for_generator, \n",
    "                          labels2Idx= labels2Idx,tokenize= tokenize), \n",
    "                steps_per_epoch= steps_per_epoch, epochs=1,\n",
    "                validation_data = generator(filename ='/home/jindal/notebooks/jindal/NER/language_model/twitter_emoji_dev.csv', \n",
    "                                            batch_size = batch_size, check = check_for_generator, \n",
    "                                           labels2Idx = labels2Idx, tokenize = tokenize),\n",
    "                validation_steps = math.ceil(len(dev_labels) / batch_size),\n",
    "                callbacks = [checkpoint]\n",
    "            )\n",
    "\n",
    "            \n",
    "#             testset_features = np.zeros((len(dev_sentences), nb_sequence_length, nb_embedding_dims))\n",
    "#             for i in range(len(dev_sentences)):\n",
    "#                 testset_features[i] = process_features(dev_sentences[i], nb_sequence_length, nb_embedding_dims)\n",
    "#             results = model.predict(testset_features)\n",
    "\n",
    "\n",
    "# #             idx2Label = {0 : \"OTHER\", 1 : \"OFFENSIVE\"}\n",
    "#             predLabels = results.argmax(axis=-1)\n",
    "#             devLabels = devLabels\n",
    "#             f1 = f1_score(devLabels, predLabels, average=f1_measure, pos_label=pos_label) # offensive is the major class. So other is minor\n",
    "#             r = recall_score(devLabels, predLabels, average=f1_measure, pos_label=pos_label)\n",
    "#             p = precision_score(devLabels, predLabels, average=f1_measure, pos_label=pos_label)\n",
    "#             a = accuracy_score(devLabels, predLabels)\n",
    "#             if max_f1 < f1:\n",
    "#                 print(\"model saved. F1 is %f\" %(f1))\n",
    "#                 model.save(filename_to_save_weigths)\n",
    "#                 max_f1 = f1\n",
    "#                 max_p = p\n",
    "#                 max_r = r\n",
    "#                 max_a = a\n",
    "#             text = \"prec: \"+ str(p)+\" rec: \"+str(r) +\" f1: \"+str(f1) +\" acc: \"+str(a)+\" \\n\"\n",
    "#             print(\"Test-Data: Prec: %.3f, Rec: %.3f, F1: %.3f, Acc: %.3f\" % (p, r, f1, a))\n",
    "#         to_write= \"prec: \"+ str(max_p)+\" rec: \"+str(max_r) +\" f1: \"+str(max_f1) +\" acc: \"+str(max_a)+\" \\n\"\n",
    "#         print(to_write)\n",
    "#         f.write(to_write)\n",
    "#         total_f1+=max_f1\n",
    "#         total_prec+=max_p\n",
    "#         total_acc+=max_a\n",
    "#         total_recall+=max_r    \n",
    "#         print(\"*****************************************************************************\")\n",
    "#     final_text = \"avg_prec: \" +str(total_prec/number_of_tests)+\" total_rec: \"+str(total_recall/number_of_tests) +\" total_f1: \"+str(total_f1/number_of_tests) +\" total_acc: \"+str(total_acc/number_of_tests)+\" \\n\"\n",
    "#     print(final_text)\n",
    "#     f.write(final_text)\n",
    "#     f.close()\n",
    "\n",
    "\n"
   ]
  },
  {
   "cell_type": "code",
   "execution_count": 17,
   "metadata": {},
   "outputs": [],
   "source": [
    "generator = sequential_generator\n",
    "train_sentences = train_sentences\n",
    "devLabels = dev_labels\n",
    "number_of_tests = 1\n",
    "number_of_epochs = 10\n",
    "twitteremojis_pretraining_log = '/home/jindal/notebooks/jindal/NER/language_model/results_pretraining_twitteremojis_1.9m.txt' \n",
    "twitteremojis_pretraining_save_weigths='/home/jindal/notebooks/jindal/NER/language_model/model_pretrained_twitteremojis_1.9m.h5'\n",
    "batch_size=32*4\n",
    "twitteremojis_train_file='/home/jindal/notebooks/jindal/NER/language_model/twitter_17-13_train.txt'\n",
    "tokenize = False\n",
    "labels2Idx = labels2Id\n",
    "f1_measure='macro'\n",
    "pos_label=0\n",
    "load_model_weights=False\n",
    "# model_weights_file:'give filepath as str'=None, \n",
    "nb_sequence_length = nb_sequence_length\n",
    "nb_embedding_dims= nb_embedding_dims\n",
    "check_for_generator=2\n",
    "\n"
   ]
  },
  {
   "cell_type": "code",
   "execution_count": 18,
   "metadata": {},
   "outputs": [
    {
     "data": {
      "text/plain": [
       "1297"
      ]
     },
     "execution_count": 18,
     "metadata": {},
     "output_type": "execute_result"
    }
   ],
   "source": [
    "len(labels2Idx)"
   ]
  },
  {
   "cell_type": "code",
   "execution_count": null,
   "metadata": {
    "scrolled": true
   },
   "outputs": [
    {
     "name": "stdout",
     "output_type": "stream",
     "text": [
      "Test 1/1\n",
      "Epoch: 1\n",
      "Epoch 1/1\n",
      "14566/14566 [==============================] - 3632s 249ms/step - loss: 4.0229 - acc: 0.2136 - val_loss: 10.9412 - val_acc: 3.2448e-04\n",
      "Epoch: 2\n",
      "Epoch 1/1\n",
      "10528/14566 [====================>.........] - ETA: 16:59 - loss: 3.9485 - acc: 0.2185"
     ]
    }
   ],
   "source": [
    "test_model(generator=generator, \n",
    "           train_sentences=train_sentences, \n",
    "           devLabels=devLabels,\n",
    "           number_of_tests= number_of_tests,\n",
    "          number_of_epochs=number_of_epochs,\n",
    "           filename_to_log=twitteremojis_pretraining_log, \n",
    "           labels_earlier = len(labels2Idx),\n",
    "           filename_to_save_weigths=twitteremojis_pretraining_save_weigths,\n",
    "           tokenize= tokenize, \n",
    "           labels2Idx= labels2Idx,\n",
    "          batch_size=batch_size,\n",
    "           train_file=twitteremojis_train_file, \n",
    "           f1_measure=f1_measure, \n",
    "           pos_label=pos_label, \n",
    "           load_model_weights=load_model_weights,\n",
    "          nb_sequence_length=nb_sequence_length,\n",
    "           nb_embedding_dims=nb_embedding_dims, \n",
    "           check_for_generator= check_for_generator)"
   ]
  },
  {
   "cell_type": "markdown",
   "metadata": {},
   "source": [
    "# TRANSFER LEARNING HERE\n"
   ]
  },
  {
   "cell_type": "code",
   "execution_count": 20,
   "metadata": {},
   "outputs": [],
   "source": [
    "def test_model_tl(generator, \n",
    "               train_sentences, \n",
    "               devLabels, \n",
    "               number_of_tests,\n",
    "               number_of_epochs,\n",
    "               filename_to_log, \n",
    "               labels2Idx,\n",
    "               filename_to_save_weigths,\n",
    "               batch_size, \n",
    "               train_file:'filepath for traininig',\n",
    "               f1_measure:'binary/macro etc', \n",
    "               pos_label:'only if binary f1',\n",
    "               load_model_weights=False,\n",
    "               model_weights_file:'give filepath as str'=None, \n",
    "               tokenize=True,\n",
    "               nb_sequence_length = nb_sequence_length,\n",
    "               nb_embedding_dims= nb_embedding_dims, \n",
    "               check_for_generator=None,\n",
    "                ):\n",
    "    \n",
    "    f = open(filename_to_log,\"w\")\n",
    "    \n",
    "   \n",
    "    total_f1=0\n",
    "    total_prec=0\n",
    "    total_acc=0\n",
    "    total_recall=0\n",
    "    \n",
    "    for test_number in range(number_of_tests):\n",
    "        print(\"Test %d/%d\" %(test_number+1, number_of_tests))\n",
    "        model = compile_model(1297)\n",
    "\n",
    "        # transfer learning\n",
    "        if load_model_weights and model_weights_file:\n",
    "                model.load_weights(model_weights_file)\n",
    "                print(\"removing top layer\")\n",
    "                model.layers.pop()\n",
    "                output = Dense(2, activation = 'softmax')(model.layers[-1].output)\n",
    "                final_model = Model(inputs=model.input, outputs=[output])\n",
    "                final_model.compile(loss='categorical_crossentropy', optimizer='nadam', metrics=['accuracy'])\n",
    "#                 for layer in final_model.layers:\n",
    "#                     print(layer.name)\n",
    "\n",
    "        samples_per_epoch = len(train_sentences)\n",
    "        epochs = number_of_epochs\n",
    "        batch_size = batch_size\n",
    "        steps_per_epoch = math.ceil(samples_per_epoch / batch_size)\n",
    "#         checkpoint = ModelCheckpoint(filename_to_save_weigths, monitor='val_acc',save_best_only = True, \n",
    "#                                      save_weights_only = True)\n",
    "\n",
    "\n",
    "        max_f1=0\n",
    "        max_p=0\n",
    "        max_r=0\n",
    "        max_a=0\n",
    "        for epoch in range(epochs):\n",
    "            print(\"Epoch: %d\" %(epoch+1))\n",
    "            final_model.fit_generator(\n",
    "                generator(filename = train_file, batch_size = batch_size, check = check_for_generator, \n",
    "                          labels2Idx= labels2Idx,tokenize= tokenize), \n",
    "                steps_per_epoch= steps_per_epoch, epochs=1,\n",
    "#                 validation_data = generator(filename ='/home/jindal/notebooks/twitter_data/twitter_classes_500k_dev.csv', \n",
    "#                                             batch_size = batch_size, check = check_for_generator, \n",
    "#                                            labels2Idx = labels2Idx, tokenize = tokenize),\n",
    "#                 validation_steps = math.ceil(len(dev_labels) / batch_size),\n",
    "#                 callbacks = [checkpoint]\n",
    "            )\n",
    "\n",
    "            testset_features = np.zeros((len(dev_sentences), nb_sequence_length, nb_embedding_dims))\n",
    "            for i in range(len(dev_sentences)):\n",
    "                testset_features[i] = process_features(dev_sentences[i], nb_sequence_length, nb_embedding_dims)\n",
    "            results = final_model.predict(testset_features)\n",
    "\n",
    "\n",
    "#             idx2Label = {0 : \"OTHER\", 1 : \"OFFENSIVE\"}\n",
    "            predLabels = results.argmax(axis=-1)\n",
    "            devLabels = devLabels\n",
    "            f1 = f1_score(devLabels, predLabels, average=f1_measure, pos_label=pos_label) # offensive is the major class. So other is minor\n",
    "            r = recall_score(devLabels, predLabels, average=f1_measure, pos_label=pos_label)\n",
    "            p = precision_score(devLabels, predLabels, average=f1_measure, pos_label=pos_label)\n",
    "            a = accuracy_score(devLabels, predLabels)\n",
    "            if max_f1 < f1:\n",
    "                print(\"model saved. F1 is %f\" %(f1))\n",
    "                final_model.save(filename_to_save_weigths)\n",
    "                max_f1 = f1\n",
    "                max_p = p\n",
    "                max_r = r\n",
    "                max_a = a\n",
    "            text = \"prec: \"+ str(p)+\" rec: \"+str(r) +\" f1: \"+str(f1) +\" acc: \"+str(a)+\" \\n\"\n",
    "            print(\"Test-Data: Prec: %.3f, Rec: %.3f, F1: %.3f, Acc: %.3f\" % (p, r, f1, a))\n",
    "        to_write= \"prec: \"+ str(max_p)+\" rec: \"+str(max_r) +\" f1: \"+str(max_f1) +\" acc: \"+str(max_a)+\" \\n\"\n",
    "        print(to_write)\n",
    "        f.write(to_write)\n",
    "        total_f1+=max_f1\n",
    "        total_prec+=max_p\n",
    "        total_acc+=max_a\n",
    "        total_recall+=max_r    \n",
    "        print(\"*****************************************************************************\")\n",
    "    final_text = \"avg_prec: \" +str(total_prec/number_of_tests)+\" total_rec: \"+str(total_recall/number_of_tests) +\" total_f1: \"+str(total_f1/number_of_tests) +\" total_acc: \"+str(total_acc/number_of_tests)+\" \\n\"\n",
    "    print(final_text)\n",
    "    f.write(final_text)\n",
    "    f.close()\n",
    "\n",
    "\n"
   ]
  },
  {
   "cell_type": "code",
   "execution_count": 21,
   "metadata": {},
   "outputs": [],
   "source": [
    "n_labels =2"
   ]
  },
  {
   "cell_type": "code",
   "execution_count": 22,
   "metadata": {},
   "outputs": [],
   "source": [
    "train_sentences, train_labels, dev_sentences, dev_labels, labels2Idx = train_dev_sentences(filetrain='/home/gwiedemann/notebooks/OffLang/sample_train.txt',\n",
    "                   filedev='/home/gwiedemann/notebooks/OffLang/sample_dev.txt', check=3)"
   ]
  },
  {
   "cell_type": "code",
   "execution_count": 23,
   "metadata": {},
   "outputs": [
    {
     "name": "stdout",
     "output_type": "stream",
     "text": [
      "@FilmElf_yt Diese ganzen leute die du angesprochen hast sind untermenschen ja aber das alte Deutschland und deutsche volk waren ehrenwerte leute und ein stolzes Land\n",
      "[1, 1, 1, 0, 0, 0, 0, 0, 0, 0, 0, 0, 0, 1, 0, 1, 0, 0, 0, 1]\n"
     ]
    }
   ],
   "source": [
    "print(dev_sentences[0])\n",
    "print(dev_labels[:20])"
   ]
  },
  {
   "cell_type": "code",
   "execution_count": 24,
   "metadata": {},
   "outputs": [],
   "source": [
    "generator = sequential_generator\n",
    "train_sentences = train_sentences\n",
    "devLabels = dev_labels\n",
    "number_of_tests = 5\n",
    "number_of_epochs = 50\n",
    "twitteremojis_tl_log = '/home/jindal/notebooks/jindal/NER/language_model/results_tl_emojis_1.9m.txt' \n",
    "twitteremojis_tl_save_weigths='/home/jindal/notebooks/jindal/NER/language_model/classification_model_tl_emojis_1.9m.h5'\n",
    "batch_size=32\n",
    "twitteremojis_tl_train_file='/home/gwiedemann/notebooks/OffLang/sample_train.txt'\n",
    "f1_measure='binary'\n",
    "pos_label=1\n",
    "load_model_weights=True\n",
    "model_weights_file = '/home/jindal/notebooks/jindal/NER/language_model/model_pretrained_twitteremojis_1.9m.h5'\n",
    "nb_sequence_length = nb_sequence_length\n",
    "nb_embedding_dims= nb_embedding_dims\n",
    "labels2Idx = labels2Idx\n",
    "check_for_generator=3"
   ]
  },
  {
   "cell_type": "code",
   "execution_count": null,
   "metadata": {
    "scrolled": true
   },
   "outputs": [
    {
     "name": "stdout",
     "output_type": "stream",
     "text": [
      "Test 1/5\n",
      "removing top layer\n",
      "Epoch: 1\n",
      "Epoch 1/1\n",
      "132/132 [==============================] - 37s 281ms/step - loss: 0.5741 - acc: 0.7034\n",
      "model saved. F1 is 0.560870\n",
      "Test-Data: Prec: 0.668, Rec: 0.483, F1: 0.561, Acc: 0.750\n",
      "Epoch: 2\n",
      "Epoch 1/1\n",
      "132/132 [==============================] - 35s 265ms/step - loss: 0.5242 - acc: 0.7367\n",
      "model saved. F1 is 0.588235\n",
      "Test-Data: Prec: 0.703, Rec: 0.506, F1: 0.588, Acc: 0.766\n",
      "Epoch: 3\n",
      "Epoch 1/1\n",
      "132/132 [==============================] - 35s 261ms/step - loss: 0.5054 - acc: 0.7429\n",
      "Test-Data: Prec: 0.667, Rec: 0.524, F1: 0.587, Acc: 0.756\n",
      "Epoch: 4\n",
      "Epoch 1/1\n",
      "132/132 [==============================] - 36s 269ms/step - loss: 0.4803 - acc: 0.7654\n",
      "model saved. F1 is 0.592751\n",
      "Test-Data: Prec: 0.688, Rec: 0.521, F1: 0.593, Acc: 0.764\n",
      "Epoch: 5\n",
      "Epoch 1/1\n",
      "132/132 [==============================] - 34s 261ms/step - loss: 0.4752 - acc: 0.7680\n",
      "model saved. F1 is 0.599156\n",
      "Test-Data: Prec: 0.686, Rec: 0.532, F1: 0.599, Acc: 0.765\n",
      "Epoch: 6\n",
      "Epoch 1/1\n",
      "132/132 [==============================] - 35s 263ms/step - loss: 0.4505 - acc: 0.7862\n",
      "model saved. F1 is 0.616327\n",
      "Test-Data: Prec: 0.677, Rec: 0.566, F1: 0.616, Acc: 0.767\n",
      "Epoch: 7\n",
      "Epoch 1/1\n",
      "132/132 [==============================] - 34s 258ms/step - loss: 0.4399 - acc: 0.7910\n",
      "model saved. F1 is 0.652174\n",
      "Test-Data: Prec: 0.690, Rec: 0.618, F1: 0.652, Acc: 0.782\n",
      "Epoch: 8\n",
      "Epoch 1/1\n",
      "132/132 [==============================] - 35s 268ms/step - loss: 0.4266 - acc: 0.7988\n",
      "model saved. F1 is 0.664107\n",
      "Test-Data: Prec: 0.681, Rec: 0.648, F1: 0.664, Acc: 0.783\n",
      "Epoch: 9\n",
      "Epoch 1/1\n",
      "132/132 [==============================] - 35s 265ms/step - loss: 0.4093 - acc: 0.8118\n",
      "Test-Data: Prec: 0.678, Rec: 0.622, F1: 0.648, Acc: 0.777\n",
      "Epoch: 10\n",
      "Epoch 1/1\n",
      "132/132 [==============================] - 35s 268ms/step - loss: 0.3991 - acc: 0.8092\n",
      "Test-Data: Prec: 0.676, Rec: 0.640, F1: 0.658, Acc: 0.780\n",
      "Epoch: 11\n",
      "Epoch 1/1\n",
      "132/132 [==============================] - 35s 268ms/step - loss: 0.3868 - acc: 0.8220\n",
      "model saved. F1 is 0.692161\n",
      "Test-Data: Prec: 0.707, Rec: 0.678, F1: 0.692, Acc: 0.801\n",
      "Epoch: 12\n",
      "Epoch 1/1\n",
      "132/132 [==============================] - 35s 265ms/step - loss: 0.3771 - acc: 0.8286\n",
      "Test-Data: Prec: 0.714, Rec: 0.655, F1: 0.684, Acc: 0.800\n",
      "Epoch: 13\n",
      "Epoch 1/1\n",
      "132/132 [==============================] - 35s 264ms/step - loss: 0.3668 - acc: 0.8345\n",
      "Test-Data: Prec: 0.728, Rec: 0.633, F1: 0.677, Acc: 0.801\n",
      "Epoch: 14\n",
      "Epoch 1/1\n",
      "132/132 [==============================] - 35s 263ms/step - loss: 0.3592 - acc: 0.8390\n",
      "model saved. F1 is 0.713514\n",
      "Test-Data: Prec: 0.688, Rec: 0.742, F1: 0.714, Acc: 0.803\n",
      "Epoch: 15\n",
      "Epoch 1/1\n",
      "132/132 [==============================] - 35s 263ms/step - loss: 0.3469 - acc: 0.8393\n",
      "Test-Data: Prec: 0.725, Rec: 0.682, F1: 0.703, Acc: 0.809\n",
      "Epoch: 16\n",
      "Epoch 1/1\n",
      "132/132 [==============================] - 35s 266ms/step - loss: 0.3301 - acc: 0.8506\n",
      "Test-Data: Prec: 0.720, Rec: 0.637, F1: 0.676, Acc: 0.798\n",
      "Epoch: 17\n",
      "Epoch 1/1\n",
      "132/132 [==============================] - 35s 266ms/step - loss: 0.3194 - acc: 0.8587\n",
      "Test-Data: Prec: 0.688, Rec: 0.693, F1: 0.690, Acc: 0.795\n",
      "Epoch: 18\n",
      "Epoch 1/1\n",
      "132/132 [==============================] - 34s 257ms/step - loss: 0.3000 - acc: 0.8712\n",
      "Test-Data: Prec: 0.743, Rec: 0.618, F1: 0.675, Acc: 0.803\n",
      "Epoch: 19\n",
      "Epoch 1/1\n",
      "132/132 [==============================] - 35s 262ms/step - loss: 0.3022 - acc: 0.8667\n",
      "Test-Data: Prec: 0.698, Rec: 0.693, F1: 0.695, Acc: 0.800\n",
      "Epoch: 20\n",
      "Epoch 1/1\n",
      "132/132 [==============================] - 33s 253ms/step - loss: 0.2936 - acc: 0.8729\n",
      "Test-Data: Prec: 0.733, Rec: 0.648, F1: 0.688, Acc: 0.806\n",
      "Epoch: 21\n",
      "Epoch 1/1\n",
      " 49/132 [==========>...................] - ETA: 21s - loss: 0.2776 - acc: 0.8718"
     ]
    }
   ],
   "source": [
    "test_model_tl(generator=generator, \n",
    "           train_sentences=train_sentences, \n",
    "           devLabels=devLabels, \n",
    "           number_of_tests= number_of_tests,\n",
    "           number_of_epochs=number_of_epochs, \n",
    "           filename_to_log=twitteremojis_tl_log,\n",
    "           labels2Idx = labels2Idx,\n",
    "           filename_to_save_weigths=twitteremojis_tl_save_weigths,\n",
    "           batch_size=batch_size,\n",
    "           train_file=twitteremojis_tl_train_file, \n",
    "           f1_measure=f1_measure, \n",
    "           pos_label=pos_label, \n",
    "           load_model_weights=load_model_weights,\n",
    "           model_weights_file = model_weights_file, \n",
    "           nb_sequence_length=nb_sequence_length, \n",
    "           nb_embedding_dims=nb_embedding_dims, \n",
    "           check_for_generator= check_for_generator)"
   ]
  },
  {
   "cell_type": "code",
   "execution_count": null,
   "metadata": {},
   "outputs": [],
   "source": []
  }
 ],
 "metadata": {
  "kernelspec": {
   "display_name": "Python 3",
   "language": "python",
   "name": "python3"
  },
  "language_info": {
   "codemirror_mode": {
    "name": "ipython",
    "version": 3
   },
   "file_extension": ".py",
   "mimetype": "text/x-python",
   "name": "python",
   "nbconvert_exporter": "python",
   "pygments_lexer": "ipython3",
   "version": "3.5.5"
  }
 },
 "nbformat": 4,
 "nbformat_minor": 2
}
