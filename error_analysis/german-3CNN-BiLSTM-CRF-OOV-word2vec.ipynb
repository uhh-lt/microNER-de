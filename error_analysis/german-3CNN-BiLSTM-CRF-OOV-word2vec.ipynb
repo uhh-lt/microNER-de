{
 "cells": [
  {
   "cell_type": "code",
   "execution_count": 42,
   "metadata": {},
   "outputs": [],
   "source": [
    "import sys\n",
    "import os\n",
    "import numpy as np \n",
    "import re\n",
    "from validation import compute_f1\n",
    "from keras.models import Model\n",
    "from keras.layers import TimeDistributed,Conv1D,Dense,Embedding,Input,Dropout,LSTM,Bidirectional,MaxPooling1D,Flatten,concatenate\n",
    "from prepro import readfile,createBatches,createMatrices,iterate_minibatches,addCharInformatioin,padding\n",
    "from keras.utils import plot_model,Progbar\n",
    "from keras.preprocessing.sequence import pad_sequences\n",
    "from keras.initializers import RandomUniform\n",
    "from keras.optimizers import Adam\n",
    "from sklearn.metrics import precision_recall_fscore_support as score\n",
    "import sklearn\n",
    "import subprocess"
   ]
  },
  {
   "cell_type": "code",
   "execution_count": 43,
   "metadata": {},
   "outputs": [],
   "source": [
    "epochs = 80\n",
    "trainable = True"
   ]
  },
  {
   "cell_type": "code",
   "execution_count": 44,
   "metadata": {},
   "outputs": [],
   "source": [
    "from keras_contrib.layers import CRF\n"
   ]
  },
  {
   "cell_type": "code",
   "execution_count": 45,
   "metadata": {},
   "outputs": [],
   "source": [
    "def tag_dataset(dataset):\n",
    "    correctLabels = []\n",
    "    predLabels = []\n",
    "    b = Progbar(len(dataset))\n",
    "    for i,data in enumerate(dataset):    \n",
    "        tokens, casing,char, labels = data\n",
    "        tokens = np.asarray([tokens])     \n",
    "        casing = np.asarray([casing])\n",
    "        char = np.asarray([char])\n",
    "        pred = model.predict([tokens, casing,char], verbose=False)[0]   \n",
    "        pred = pred.argmax(axis=-1) #Predict the classes            \n",
    "        correctLabels.append(labels)\n",
    "        predLabels.append(pred)\n",
    "        b.update(i)\n",
    "    return predLabels, correctLabels"
   ]
  },
  {
   "cell_type": "code",
   "execution_count": 46,
   "metadata": {},
   "outputs": [],
   "source": [
    "# changing all deriv and part to misc. with BIO\n",
    "def modify_labels(dataset):\n",
    "    bad_labels = ['I-PERderiv','I-OTHpart','B-ORGderiv', 'I-OTH','B-OTHpart','B-LOCderiv','I-LOCderiv','I-OTHderiv','B-PERderiv','B-OTHderiv','B-PERpart','I-PERpart','I-LOCpart','B-LOCpart','I-ORGpart','I-ORGderiv','B-ORGpart','B-OTH']\n",
    "    for sentence in dataset:\n",
    "        for word in sentence:\n",
    "            label = word[1]\n",
    "            if label in bad_labels:\n",
    "                first_char = label[0]\n",
    "                if first_char == 'B' :\n",
    "                    word[1] = 'B-MISC'\n",
    "                else:\n",
    "                    word[1] = 'I-MISC'\n",
    "    return dataset\n",
    "                "
   ]
  },
  {
   "cell_type": "code",
   "execution_count": 47,
   "metadata": {},
   "outputs": [],
   "source": [
    "\n",
    "# preproecessing data from GermEval\n",
    "def get_sentences(path):\n",
    "    sentences=[]\n",
    "    with open(path,'rb') as f:\n",
    "    #     lines = f.readlines()\n",
    "        sentence=[]\n",
    "        for line in f:\n",
    "            try:\n",
    "                splits = [x.decode() for x in line.split()]\n",
    "            except Exception as e:\n",
    "                continue\n",
    "            try:\n",
    "                if splits[0]!='#':\n",
    "                    temp = [splits[1],splits[2]]\n",
    "                    sentence.append(temp)\n",
    "                else:\n",
    "                    if len(sentence):\n",
    "                        sentences.append(sentence)\n",
    "                    sentence=[]\n",
    "            except Exception as e:\n",
    "                continue\n",
    "    return sentences\n",
    "\n"
   ]
  },
  {
   "cell_type": "code",
   "execution_count": 48,
   "metadata": {},
   "outputs": [
    {
     "name": "stdout",
     "output_type": "stream",
     "text": [
      "23999\n",
      "2199\n",
      "5099\n"
     ]
    }
   ],
   "source": [
    "train_sentences = get_sentences('/home/jindal/notebooks/Resources/GermEVAL/NER-de-train.tsv')\n",
    "dev_sentences = get_sentences('/home/jindal/notebooks/Resources/GermEVAL/NER-de-dev.tsv')\n",
    "test_sentences = get_sentences('/home/jindal/notebooks/Resources/GermEVAL/NER-de-test.tsv')\n",
    "\n",
    "print(len(train_sentences))\n",
    "print(len(dev_sentences))\n",
    "print(len(test_sentences))\n"
   ]
  },
  {
   "cell_type": "code",
   "execution_count": 49,
   "metadata": {},
   "outputs": [
    {
     "name": "stdout",
     "output_type": "stream",
     "text": [
      "[['Schartau', 'B-PER'], ['sagte', 'O'], ['dem', 'O'], ['\"', 'O'], ['Tagesspiegel', 'B-ORG'], ['\"', 'O'], ['vom', 'O'], ['Freitag', 'O'], [',', 'O'], ['Fischer', 'B-PER'], ['sei', 'O'], ['\"', 'O'], ['in', 'O'], ['einer', 'O'], ['Weise', 'O'], ['aufgetreten', 'O'], [',', 'O'], ['die', 'O'], ['alles', 'O'], ['andere', 'O'], ['als', 'O'], ['überzeugend', 'O'], ['war', 'O'], ['\"', 'O'], ['.', 'O']]\n"
     ]
    }
   ],
   "source": [
    "print(train_sentences[0])"
   ]
  },
  {
   "cell_type": "code",
   "execution_count": 50,
   "metadata": {},
   "outputs": [],
   "source": [
    "word2vec_words=[]\n",
    "\n",
    "with open('/home/jindal/notebooks/embeddings/embeddings/model_word2vec.embeddings','rb') as f:\n",
    "    for line in f:\n",
    "        splits = line.split()\n",
    "        word = splits[0].decode()\n",
    "        word2vec_words.append(word)"
   ]
  },
  {
   "cell_type": "code",
   "execution_count": 51,
   "metadata": {},
   "outputs": [
    {
     "name": "stdout",
     "output_type": "stream",
     "text": [
      ".\n"
     ]
    }
   ],
   "source": [
    "print(word2vec_words[0])"
   ]
  },
  {
   "cell_type": "code",
   "execution_count": 52,
   "metadata": {},
   "outputs": [
    {
     "name": "stdout",
     "output_type": "stream",
     "text": [
      "[['Der', 'O'], ['Meteoritensucher', 'O'], ['hatte', 'O'], ['im', 'O'], ['Frühjahr', 'O'], ['auf', 'O'], ['der', 'O'], ['dänischen', 'B-LOCderiv'], ['Insel', 'O'], ['Lolland', 'B-LOC'], ['30', 'O'], ['Gramm', 'O'], ['eines', 'O'], ['Meteoriten', 'O'], ['aufgespürt', 'O'], [',', 'O'], ['der', 'O'], ['Mitte', 'O'], ['Januar', 'O'], ['über', 'O'], ['Nordeuropa', 'B-LOC'], ['beobachtet', 'O'], ['worden', 'O'], ['war', 'O'], ['.', 'O']]\n"
     ]
    }
   ],
   "source": [
    "print(train_sentences[100])"
   ]
  },
  {
   "cell_type": "code",
   "execution_count": 53,
   "metadata": {},
   "outputs": [],
   "source": [
    "# train_sentences = modify_labels(train_sentences)\n",
    "# dev_sentences = modify_labels(dev_sentences)\n",
    "# test_sentences = modify_labels(test_sentences)"
   ]
  },
  {
   "cell_type": "code",
   "execution_count": 54,
   "metadata": {},
   "outputs": [],
   "source": [
    "trainSentences = addCharInformatioin(train_sentences)\n",
    "devSentences = addCharInformatioin(dev_sentences)\n",
    "testSentences = addCharInformatioin(test_sentences)\n"
   ]
  },
  {
   "cell_type": "code",
   "execution_count": 55,
   "metadata": {},
   "outputs": [
    {
     "name": "stdout",
     "output_type": "stream",
     "text": [
      "['.', ',', 'der', 'und', '####', 'die', 'in', '\"', '-', '##']\n"
     ]
    }
   ],
   "source": [
    "print(word2vec_words[:10])"
   ]
  },
  {
   "cell_type": "code",
   "execution_count": 56,
   "metadata": {},
   "outputs": [
    {
     "name": "stdout",
     "output_type": "stream",
     "text": [
      "373860\n"
     ]
    }
   ],
   "source": [
    "print(len(word2vec_words))"
   ]
  },
  {
   "cell_type": "code",
   "execution_count": 57,
   "metadata": {},
   "outputs": [
    {
     "data": {
      "text/plain": [
       "False"
      ]
     },
     "execution_count": 57,
     "metadata": {},
     "output_type": "execute_result"
    }
   ],
   "source": [
    "'1' in word2vec_words"
   ]
  },
  {
   "cell_type": "code",
   "execution_count": 59,
   "metadata": {},
   "outputs": [],
   "source": [
    "test_sentences_iv=[]\n",
    "test_sentences_oov=[]\n",
    "\n",
    "total_no=0\n",
    "dot_no=0\n",
    "for sentence in testSentences:\n",
    "#     print()\n",
    "    flag=False\n",
    "    for word in sentence:\n",
    "        token=word[0]\n",
    "        token = re.sub('\\d','#',token)\n",
    "#         print(token)\n",
    "        if token not in word2vec_words:\n",
    "#             print('no: %s' %token)\n",
    "            flag=True\n",
    "            break\n",
    "#         else:\n",
    "#             print('yes: %s' %token)\n",
    "    if flag:\n",
    "        test_sentences_oov.append(sentence)\n",
    "    else:\n",
    "        test_sentences_iv.append(sentence)"
   ]
  },
  {
   "cell_type": "code",
   "execution_count": 60,
   "metadata": {},
   "outputs": [
    {
     "name": "stdout",
     "output_type": "stream",
     "text": [
      "2037\n",
      "3062\n",
      "5099\n"
     ]
    }
   ],
   "source": [
    "print(len(test_sentences_iv))\n",
    "print(len(test_sentences_oov))\n",
    "print(len(test_sentences))"
   ]
  },
  {
   "cell_type": "code",
   "execution_count": 61,
   "metadata": {},
   "outputs": [],
   "source": [
    "labelSet = set()\n",
    "words = {}\n",
    "characters= set()\n",
    "\n",
    "for dataset in [trainSentences, devSentences, testSentences]:\n",
    "    for sentence in dataset:\n",
    "        for token, char, label in sentence:\n",
    "            for c in char:\n",
    "                characters.add(c)\n",
    "            labelSet.add(label)\n",
    "#             words[token.lower()] = True\n",
    "#             words[token] = True\n",
    "            words[re.sub('\\d','#',token)] = True"
   ]
  },
  {
   "cell_type": "code",
   "execution_count": 62,
   "metadata": {},
   "outputs": [
    {
     "name": "stdout",
     "output_type": "stream",
     "text": [
      "{'I-LOCpart', 'I-ORG', 'I-PERpart', 'I-PER', 'B-LOCderiv', 'B-ORGpart', 'B-OTH', 'I-ORGderiv', 'B-LOCpart', 'I-LOC', 'B-PER', 'I-ORGpart', 'I-OTHderiv', 'I-LOCderiv', 'B-PERpart', 'O', 'I-PERderiv', 'B-ORGderiv', 'B-ORG', 'B-LOC', 'B-OTHderiv', 'I-OTH', 'I-OTHpart', 'B-OTHpart', 'B-PERderiv'}\n"
     ]
    }
   ],
   "source": [
    "print(labelSet)"
   ]
  },
  {
   "cell_type": "code",
   "execution_count": 63,
   "metadata": {},
   "outputs": [],
   "source": [
    "# :: Create a mapping for the labels ::\n",
    "label2Idx = {}\n",
    "for label in labelSet:\n",
    "    label2Idx[label] = len(label2Idx)"
   ]
  },
  {
   "cell_type": "code",
   "execution_count": 64,
   "metadata": {},
   "outputs": [
    {
     "name": "stdout",
     "output_type": "stream",
     "text": [
      "{'I-LOCpart': 0, 'I-ORGderiv': 7, 'I-OTHpart': 22, 'B-LOCpart': 8, 'B-PERpart': 14, 'I-ORG': 1, 'B-LOCderiv': 4, 'I-PERderiv': 16, 'B-ORGderiv': 17, 'B-ORGpart': 5, 'B-OTH': 6, 'B-ORG': 18, 'B-LOC': 19, 'B-OTHderiv': 20, 'I-PER': 3, 'B-PER': 10, 'I-LOC': 9, 'I-OTHderiv': 12, 'B-OTHpart': 23, 'I-LOCderiv': 13, 'I-OTH': 21, 'O': 15, 'I-ORGpart': 11, 'I-PERpart': 2, 'B-PERderiv': 24}\n"
     ]
    }
   ],
   "source": [
    "print(label2Idx)"
   ]
  },
  {
   "cell_type": "code",
   "execution_count": 65,
   "metadata": {},
   "outputs": [],
   "source": [
    "# :: Hard coded case lookup ::\n",
    "case2Idx = {'numeric': 0, 'allLower':1, 'allUpper':2, 'initialUpper':3, 'other':4, 'mainly_numeric':5, 'contains_digit': 6, 'PADDING_TOKEN':7}\n",
    "caseEmbeddings = np.identity(len(case2Idx), dtype='float32')"
   ]
  },
  {
   "cell_type": "code",
   "execution_count": 25,
   "metadata": {},
   "outputs": [],
   "source": [
    "string_words = ' '.join(words.keys())\n",
    "# print(string_words)\n",
    "f = open('/home/jindal/notebooks/fastText/german_words.txt','wb')\n",
    "f.write(string_words.encode())\n",
    "f.close()"
   ]
  },
  {
   "cell_type": "code",
   "execution_count": 66,
   "metadata": {},
   "outputs": [
    {
     "name": "stdout",
     "output_type": "stream",
     "text": [
      "[[1. 0. 0. 0. 0. 0. 0. 0.]\n",
      " [0. 1. 0. 0. 0. 0. 0. 0.]\n",
      " [0. 0. 1. 0. 0. 0. 0. 0.]\n",
      " [0. 0. 0. 1. 0. 0. 0. 0.]\n",
      " [0. 0. 0. 0. 1. 0. 0. 0.]\n",
      " [0. 0. 0. 0. 0. 1. 0. 0.]\n",
      " [0. 0. 0. 0. 0. 0. 1. 0.]\n",
      " [0. 0. 0. 0. 0. 0. 0. 1.]]\n",
      "{'PADDING_TOKEN': 7, 'numeric': 0, 'contains_digit': 6, 'allLower': 1, 'other': 4, 'initialUpper': 3, 'allUpper': 2, 'mainly_numeric': 5}\n"
     ]
    }
   ],
   "source": [
    "print(caseEmbeddings)\n",
    "print(case2Idx)"
   ]
  },
  {
   "cell_type": "code",
   "execution_count": 67,
   "metadata": {},
   "outputs": [],
   "source": [
    "word2Idx={}\n",
    "wordEmbeddings=[]\n",
    "\n",
    "fEmbeddings = open(\"/home/jindal/notebooks/embeddings/embeddings/model_word2vec.embeddings\", 'rb')\n",
    "\n",
    "for line in fEmbeddings:\n",
    "    split = line.strip().split()\n",
    "    word = split[0].decode()\n",
    "#     print(word)\n",
    "    \n",
    "    if len(word2Idx) == 0: #Add padding+unknown\n",
    "        word2Idx[\"PADDING_TOKEN\"] = len(word2Idx)\n",
    "        vector = np.zeros(300) #Zero vector vor 'PADDING' word\n",
    "        wordEmbeddings.append(vector)\n",
    "        \n",
    "        word2Idx[\"UNKNOWN_TOKEN\"] = len(word2Idx)\n",
    "        vector = np.random.uniform(-0.25, 0.25, 300)\n",
    "        wordEmbeddings.append(vector)\n",
    "\n",
    "    if word in words:\n",
    "        \n",
    "#         for num in split[1:]:\n",
    "#             print(float(num))\n",
    "        vector = np.array([float(num.decode()) for num in split[1:]])\n",
    "        wordEmbeddings.append(vector)\n",
    "        word2Idx[word] = len(word2Idx)\n",
    "wordEmbeddings=np.array(wordEmbeddings)"
   ]
  },
  {
   "cell_type": "code",
   "execution_count": 69,
   "metadata": {},
   "outputs": [
    {
     "name": "stdout",
     "output_type": "stream",
     "text": [
      "60615\n",
      "300\n"
     ]
    }
   ],
   "source": [
    "# print(wordEmbeddings[2])\n",
    "print(len(wordEmbeddings))\n",
    "print(len(wordEmbeddings[2]))"
   ]
  },
  {
   "cell_type": "code",
   "execution_count": 70,
   "metadata": {
    "scrolled": true
   },
   "outputs": [
    {
     "name": "stdout",
     "output_type": "stream",
     "text": [
      "{',': 0, ')': 1, 'ę': 2, 'ő': 4, '_': 5, '§': 6, 'Ş': 10, 'ă': 8, 'ć': 11, 'š': 12, 'È': 13, ']': 237, 'Ġ': 14, 'Æ': 15, '佐': 16, 'п': 17, 'c': 18, 'q': 19, 'u': 20, 'М': 23, 'р': 216, 'φ': 24, '7': 3, 'µ': 26, 'н': 60, 'õ': 28, 'ı': 29, 'ы': 248, '章': 30, 'ñ': 168, 'ن': 32, 'м': 34, 'Þ': 166, '\\xad': 35, '}': 36, '台': 152, '별': 38, '`': 279, '−': 39, '算': 7, 'ž': 41, 'オ': 42, '妃': 43, 'Š': 44, 'ß': 45, 'O': 47, '›': 51, 'w': 49, 'κ': 52, '†': 53, 'ą': 55, 'ż': 59, '守': 58, '\\x99': 178, 'η': 62, 'π': 61, 'α': 9, 'j': 63, '€': 64, 'ế': 284, 'S': 65, 'Т': 66, 'U': 67, 'E': 68, '±': 283, 'ъ': 71, 'ř': 69, 'W': 215, 'k': 72, 'ю': 73, '°': 118, 'H': 224, '\\x96': 74, 'т': 76, 'ã': 77, '학': 79, 'è': 78, '<': 185, 'أ': 80, '—': 81, 'á': 119, 'ν': 83, '3': 227, '“': 84, 'l': 181, 'n': 86, '-': 88, 'ό': 235, 'υ': 95, 'm': 90, 'M': 91, 'i': 92, 'p': 93, '樓': 98, '→': 222, 'K': 96, '=': 232, 'ж': 99, 'v': 100, 'ē': 101, 'ʻ': 238, '?': 102, 'r': 104, 'д': 105, '×': 107, 'İ': 219, '«': 108, 'å': 109, '懿': 297, '¤': 236, '’': 111, '©': 273, 'G': 112, '5': 21, '…': 113, 'ť': 114, \"'\": 75, 'Ш': 115, 'γ': 116, '柯': 117, 'ğ': 128, 'Œ': 169, 'ņ': 121, '≘': 120, 'и': 122, 'Π': 123, 'Ø': 124, 'ś': 125, 'Î': 126, 'ê': 130, 'œ': 131, '>': 129, '東': 133, '(': 132, 'ά': 134, '9': 135, '0': 136, 'С': 289, 'ū': 138, 'є': 139, 'ɨ': 25, 'Ä': 140, 'Á': 143, ';': 142, 'ǒ': 144, '&': 145, 'ý': 137, 'Л': 147, '\\u200e': 311, '\\x92': 148, 'ħ': 151, 'û': 296, '8': 153, '冲': 27, '„': 154, 'И': 155, '³': 156, 'ú': 194, '寝': 157, 'Å': 158, '太': 318, 'Ł': 254, 'î': 159, '\\x94': 160, 'C': 161, '傳': 319, 'ń': 291, 'ε': 162, '⊃': 163, '貴': 164, 'X': 165, 'ō': 167, 'ψ': 170, 'æ': 171, 'ç': 82, 'ῦ': 172, 'а': 173, '‘': 174, 'L': 175, '*': 177, 'h': 179, 'a': 180, 'ـ': 184, 'ë': 85, 'ي': 183, 'λ': 186, '¸': 187, 'П': 188, '″': 189, '南': 190, 'ø': 191, 'ä': 192, 'ö': 141, 'N': 195, 'ラ': 196, '루': 301, 'à': 31, 'b': 197, '%': 22, '»': 198, 'x': 278, '2': 89, 'й': 247, 'Ü': 33, '.': 290, 'ð': 97, 'ó': 202, 'F': 203, '£': 204, 'ĩ': 307, 'J': 182, 'A': 206, 'D': 146, 'P': 211, '6': 94, '–': 212, 'σ': 213, 's': 214, '\\x9a': 210, 'τ': 217, '·': 218, '\\x95': 314, 'έ': 220, 'Ö': 221, '\\x80': 230, 'ا': 223, 'í': 57, 'č': 225, '[': 149, '@': 228, 'Q': 229, 'ī': 176, 'х': 231, 'ş': 233, '½': 234, 'À': 280, '公': 37, 'Č': 239, 'V': 240, 'ḫ': 241, 'o': 242, 'ρ': 244, 'ā': 246, 'É': 87, '鶴': 249, 'Ż': 294, '▪': 250, '~': 251, 'ι': 300, 'е': 275, '1': 253, 'ŏ': 255, '李': 243, 'ب': 256, 'о': 193, 'Е': 258, 'e': 200, 'ệ': 259, '\"': 260, '+': 127, '4': 261, '殿': 263, '!': 48, 'У': 40, '九': 266, '別': 267, 'В': 262, 'T': 268, '동': 46, 'ї': 209, 'л': 271, '/': 272, '‐': 201, 'з': 274, 'y': 322, 'б': 103, '術': 277, 'ο': 245, 'Λ': 264, 'я': 305, 'ض': 281, 'ḳ': 321, '#': 282, 'ô': 276, 'г': 285, 'é': 286, '‚': 287, '²': 205, 'у': 288, 'Â': 252, ':': 207, 'ь': 208, 'd': 320, '”': 292, '대': 54, '≤': 315, 'Ž': 295, '士': 293, '造': 199, 'f': 56, 'β': 269, '´': 50, 'z': 257, 'g': 298, 'ü': 299, 'I': 106, '⋅': 302, 'с': 303, 'ċ': 270, '$': 304, 'ς': 306, 'Z': 324, 'ł': 308, 'к': 309, 'в': 310, 't': 312, 'R': 313, 'ě': 316, 'B': 317, '‹': 110, 'ź': 226, '鷹': 150, '¹': 323, 'Ц': 70, 'ň': 265, '博': 325, 'â': 326, 'Y': 327}\n"
     ]
    }
   ],
   "source": [
    "char2Idx={}\n",
    "for char in characters:\n",
    "    char2Idx[char] = len(char2Idx)\n",
    "print(char2Idx)"
   ]
  },
  {
   "cell_type": "code",
   "execution_count": 71,
   "metadata": {
    "scrolled": true
   },
   "outputs": [
    {
     "name": "stdout",
     "output_type": "stream",
     "text": [
      "[['Schartau', ['S', 'c', 'h', 'a', 'r', 't', 'a', 'u'], 'B-PER'], ['sagte', ['s', 'a', 'g', 't', 'e'], 'O'], ['dem', ['d', 'e', 'm'], 'O'], ['\"', ['\"'], 'O'], ['Tagesspiegel', ['T', 'a', 'g', 'e', 's', 's', 'p', 'i', 'e', 'g', 'e', 'l'], 'B-ORG'], ['\"', ['\"'], 'O'], ['vom', ['v', 'o', 'm'], 'O'], ['Freitag', ['F', 'r', 'e', 'i', 't', 'a', 'g'], 'O'], [',', [','], 'O'], ['Fischer', ['F', 'i', 's', 'c', 'h', 'e', 'r'], 'B-PER'], ['sei', ['s', 'e', 'i'], 'O'], ['\"', ['\"'], 'O'], ['in', ['i', 'n'], 'O'], ['einer', ['e', 'i', 'n', 'e', 'r'], 'O'], ['Weise', ['W', 'e', 'i', 's', 'e'], 'O'], ['aufgetreten', ['a', 'u', 'f', 'g', 'e', 't', 'r', 'e', 't', 'e', 'n'], 'O'], [',', [','], 'O'], ['die', ['d', 'i', 'e'], 'O'], ['alles', ['a', 'l', 'l', 'e', 's'], 'O'], ['andere', ['a', 'n', 'd', 'e', 'r', 'e'], 'O'], ['als', ['a', 'l', 's'], 'O'], ['überzeugend', ['ü', 'b', 'e', 'r', 'z', 'e', 'u', 'g', 'e', 'n', 'd'], 'O'], ['war', ['w', 'a', 'r'], 'O'], ['\"', ['\"'], 'O'], ['.', ['.'], 'O']]\n"
     ]
    }
   ],
   "source": [
    "print(trainSentences[0]) "
   ]
  },
  {
   "cell_type": "code",
   "execution_count": 72,
   "metadata": {},
   "outputs": [],
   "source": [
    "# createMatrices: for every sentence, changes its words, cases,characters, labels to its corresponding id in their embeddings\n",
    "# padding is used to pad the character indices to a fixed size=52\n",
    "train_set = padding(createMatrices(trainSentences, word2Idx,  label2Idx, case2Idx, char2Idx))\n",
    "dev_set = padding(createMatrices(devSentences, word2Idx, label2Idx, case2Idx, char2Idx))\n",
    "test_set = padding(createMatrices(testSentences, word2Idx, label2Idx, case2Idx, char2Idx))\n",
    "test_set_iv= padding(createMatrices(test_sentences_iv, word2Idx, label2Idx, case2Idx, char2Idx))\n",
    "test_set_oov = padding(createMatrices(test_sentences_oov, word2Idx, label2Idx, case2Idx, char2Idx))"
   ]
  },
  {
   "cell_type": "code",
   "execution_count": 73,
   "metadata": {},
   "outputs": [
    {
     "name": "stdout",
     "output_type": "stream",
     "text": [
      "[[56272, 2573, 25, 9, 21310, 9, 79, 6779, 3, 2272, 275, 9, 8, 47, 1053, 10800, 3, 7, 872, 234, 28, 16151, 35, 9, 2], [3, 1, 1, 4, 3, 4, 1, 3, 4, 3, 1, 4, 1, 1, 3, 1, 4, 1, 1, 1, 1, 1, 1, 4, 4], array([[ 65,  18, 179, ...,   0,   0,   0],\n",
      "       [214, 180, 298, ...,   0,   0,   0],\n",
      "       [320, 200,  90, ...,   0,   0,   0],\n",
      "       ...,\n",
      "       [ 49, 180, 104, ...,   0,   0,   0],\n",
      "       [260,   0,   0, ...,   0,   0,   0],\n",
      "       [290,   0,   0, ...,   0,   0,   0]], dtype=int32), [10, 15, 15, 15, 18, 15, 15, 15, 15, 10, 15, 15, 15, 15, 15, 15, 15, 15, 15, 15, 15, 15, 15, 15, 15]]\n",
      "25\n",
      "[[ 65  18 179 ...   0   0   0]\n",
      " [214 180 298 ...   0   0   0]\n",
      " [320 200  90 ...   0   0   0]\n",
      " ...\n",
      " [ 49 180 104 ...   0   0   0]\n",
      " [260   0   0 ...   0   0   0]\n",
      " [290   0   0 ...   0   0   0]]\n"
     ]
    }
   ],
   "source": [
    "# train-set[][0]: corresponds to the ids of the words in the sentence\n",
    "# train_set[][1]: corresponds to the ids of the cases of the words\n",
    "# train_set[][2]: contains numpy arrays, one corresponding to every word, each containing the indices of the characters of that word\n",
    "# the numpy arrays have a fixed size (padding or truncation) to 52\n",
    "# train_set[][3]: corresponds to the ids of the labels of every word\n",
    "\n",
    "print(train_set[0])\n",
    "print(len(train_set[0][0])) # gives the number of words in the sentence\n",
    "print((train_set[0][2]))"
   ]
  },
  {
   "cell_type": "code",
   "execution_count": 74,
   "metadata": {},
   "outputs": [],
   "source": [
    "idx2Label = {v: k for k, v in label2Idx.items()}\n",
    "\n",
    "train_batch,train_batch_len = createBatches(train_set)\n",
    "dev_batch,dev_batch_len = createBatches(dev_set)\n",
    "test_batch,test_batch_len = createBatches(test_set)"
   ]
  },
  {
   "cell_type": "code",
   "execution_count": 75,
   "metadata": {},
   "outputs": [
    {
     "name": "stdout",
     "output_type": "stream",
     "text": [
      "env: CUDA_DEVICE_ORDER=PCI_BUS_ID\n",
      "env: CUDA_VISIBLE_DEVICES=0\n"
     ]
    }
   ],
   "source": [
    "%env CUDA_DEVICE_ORDER=PCI_BUS_ID\n",
    "%env CUDA_VISIBLE_DEVICES=0"
   ]
  },
  {
   "cell_type": "code",
   "execution_count": 76,
   "metadata": {},
   "outputs": [
    {
     "name": "stdout",
     "output_type": "stream",
     "text": [
      "[['1951', ['1', '9', '5', '1'], 'O'], ['bis', ['b', 'i', 's'], 'O'], ['1953', ['1', '9', '5', '3'], 'O'], ['wurde', ['w', 'u', 'r', 'd', 'e'], 'O'], ['der', ['d', 'e', 'r'], 'O'], ['nördliche', ['n', 'ö', 'r', 'd', 'l', 'i', 'c', 'h', 'e'], 'O'], ['Teil', ['T', 'e', 'i', 'l'], 'O'], ['als', ['a', 'l', 's'], 'O'], ['Jugendburg', ['J', 'u', 'g', 'e', 'n', 'd', 'b', 'u', 'r', 'g'], 'O'], ['des', ['d', 'e', 's'], 'O'], ['Kolpingwerkes', ['K', 'o', 'l', 'p', 'i', 'n', 'g', 'w', 'e', 'r', 'k', 'e', 's'], 'B-OTH'], ['gebaut', ['g', 'e', 'b', 'a', 'u', 't'], 'O'], ['.', ['.'], 'O']]\n"
     ]
    }
   ],
   "source": [
    "print(test_sentences_iv[0])"
   ]
  },
  {
   "cell_type": "code",
   "execution_count": 77,
   "metadata": {
    "scrolled": true
   },
   "outputs": [
    {
     "name": "stdout",
     "output_type": "stream",
     "text": [
      "__________________________________________________________________________________________________\n",
      "Layer (type)                    Output Shape         Param #     Connected to                     \n",
      "==================================================================================================\n",
      "char_input (InputLayer)         (None, None, 52)     0                                            \n",
      "__________________________________________________________________________________________________\n",
      "char_embedding (TimeDistributed (None, None, 52, 32) 10496       char_input[0][0]                 \n",
      "__________________________________________________________________________________________________\n",
      "time_distributed_11 (TimeDistri (None, None, 52, 32) 3104        char_embedding[0][0]             \n",
      "__________________________________________________________________________________________________\n",
      "time_distributed_14 (TimeDistri (None, None, 52, 32) 4128        char_embedding[0][0]             \n",
      "__________________________________________________________________________________________________\n",
      "time_distributed_17 (TimeDistri (None, None, 52, 32) 5152        char_embedding[0][0]             \n",
      "__________________________________________________________________________________________________\n",
      "words_input (InputLayer)        (None, None)         0                                            \n",
      "__________________________________________________________________________________________________\n",
      "casing_input (InputLayer)       (None, None)         0                                            \n",
      "__________________________________________________________________________________________________\n",
      "time_distributed_12 (TimeDistri (None, None, 1, 32)  0           time_distributed_11[0][0]        \n",
      "__________________________________________________________________________________________________\n",
      "time_distributed_15 (TimeDistri (None, None, 1, 32)  0           time_distributed_14[0][0]        \n",
      "__________________________________________________________________________________________________\n",
      "time_distributed_18 (TimeDistri (None, None, 1, 32)  0           time_distributed_17[0][0]        \n",
      "__________________________________________________________________________________________________\n",
      "embedding_4 (Embedding)         (None, None, 300)    18184500    words_input[0][0]                \n",
      "__________________________________________________________________________________________________\n",
      "embedding_5 (Embedding)         (None, None, 8)      64          casing_input[0][0]               \n",
      "__________________________________________________________________________________________________\n",
      "time_distributed_13 (TimeDistri (None, None, 32)     0           time_distributed_12[0][0]        \n",
      "__________________________________________________________________________________________________\n",
      "time_distributed_16 (TimeDistri (None, None, 32)     0           time_distributed_15[0][0]        \n",
      "__________________________________________________________________________________________________\n",
      "time_distributed_19 (TimeDistri (None, None, 32)     0           time_distributed_18[0][0]        \n",
      "__________________________________________________________________________________________________\n",
      "concatenate_2 (Concatenate)     (None, None, 404)    0           embedding_4[0][0]                \n",
      "                                                                 embedding_5[0][0]                \n",
      "                                                                 time_distributed_13[0][0]        \n",
      "                                                                 time_distributed_16[0][0]        \n",
      "                                                                 time_distributed_19[0][0]        \n",
      "__________________________________________________________________________________________________\n",
      "bidirectional_2 (Bidirectional) (None, None, 400)    968000      concatenate_2[0][0]              \n",
      "__________________________________________________________________________________________________\n",
      "time_distributed_20 (TimeDistri (None, None, 25)     10025       bidirectional_2[0][0]            \n",
      "__________________________________________________________________________________________________\n",
      "crf_2 (CRF)                     (None, None, 25)     1325        time_distributed_20[0][0]        \n",
      "==================================================================================================\n",
      "Total params: 19,186,794\n",
      "Trainable params: 1,002,230\n",
      "Non-trainable params: 18,184,564\n",
      "__________________________________________________________________________________________________\n"
     ]
    }
   ],
   "source": [
    "words_input = Input(shape=(None,),dtype='int32',name='words_input')\n",
    "words = Embedding(input_dim=wordEmbeddings.shape[0], output_dim=wordEmbeddings.shape[1],  weights=[wordEmbeddings], trainable=False)(words_input)\n",
    "casing_input = Input(shape=(None,), dtype='int32', name='casing_input')\n",
    "casing = Embedding(output_dim=caseEmbeddings.shape[1], input_dim=caseEmbeddings.shape[0], weights=[caseEmbeddings], trainable=False)(casing_input)\n",
    "character_input=Input(shape=(None,52,),name='char_input')\n",
    "embed_char_out=TimeDistributed(Embedding(len(char2Idx),32,embeddings_initializer=RandomUniform(minval=-0.5, maxval=0.5)), name='char_embedding')(character_input)\n",
    "# dropout= Dropout(0.5, name='dropout1')(embed_char_out)\n",
    "\n",
    "# conv1d_out= TimeDistributed(Conv1D(kernel_size=3, filters=30, padding='same',activation='tanh', strides=1, name='conv'))(dropout)\n",
    "# maxpool_out=TimeDistributed(MaxPooling1D(52), name='maxpool')(conv1d_out)\n",
    "# char = TimeDistributed(Flatten())(maxpool_out)\n",
    "# char = Dropout(0.5)(char)\n",
    "# output = concatenate([words, casing, char])\n",
    "\n",
    "kernel_sizes = (3, 4, 5)\n",
    "conv_blocks = []\n",
    "for sz in kernel_sizes:\n",
    "    conv = TimeDistributed(Conv1D(\n",
    "                         kernel_size=sz,\n",
    "                         filters=32,\n",
    "                         padding=\"same\",\n",
    "                         activation=\"relu\",\n",
    "                         strides=1))(embed_char_out)\n",
    "    conv = TimeDistributed(MaxPooling1D(52))(conv)\n",
    "    conv = TimeDistributed(Flatten())(conv)\n",
    "#     conv = Dropout(0.5)(conv)\n",
    "    conv_blocks.append(conv)\n",
    "output = concatenate([words, casing, conv_blocks[0], conv_blocks[1], conv_blocks[2]])\n",
    "\n",
    "output = Bidirectional(LSTM(200, return_sequences=True, dropout=0.50, recurrent_dropout=0.5))(output)\n",
    "output = TimeDistributed(Dense(len(label2Idx)))(output)\n",
    "crf = CRF(len(label2Idx))\n",
    "output = crf(output)\n",
    "model = Model(inputs=[words_input, casing_input,character_input], outputs=[output])\n",
    "# model.compile(loss=crf.loss_function, optimizer=Adam(lr = 0.002), metrics=[crf.accuracy])\n",
    "model.compile(loss=crf.loss_function, optimizer='nadam', metrics=[crf.accuracy])\n",
    "model.summary()\n",
    "# plot_model(model, to_file='model.png')"
   ]
  },
  {
   "cell_type": "code",
   "execution_count": 78,
   "metadata": {
    "scrolled": true
   },
   "outputs": [
    {
     "name": "stdout",
     "output_type": "stream",
     "text": [
      "Epoch 0/80\n",
      "51/51 [==============================] - 19s 364ms/step\n",
      "55/51 [================================] - 19s 342ms/step\n",
      "Epoch 1/80\n",
      "51/51 [==============================] - 12s 232ms/step\n",
      "55/51 [================================] - 12s 219ms/step\n",
      "Epoch 2/80\n",
      "51/51 [==============================] - 12s 237ms/step\n",
      "55/51 [================================] - 12s 224ms/step\n",
      "Epoch 3/80\n",
      "51/51 [==============================] - 11s 222ms/step\n",
      "55/51 [================================] - 12s 209ms/step\n",
      "Epoch 4/80\n",
      "51/51 [==============================] - 12s 235ms/step\n",
      "55/51 [================================] - 12s 222ms/step\n",
      "Epoch 5/80\n",
      "51/51 [==============================] - 11s 225ms/step\n",
      "55/51 [================================] - 12s 213ms/step\n",
      "Epoch 6/80\n",
      "51/51 [==============================] - 12s 240ms/step\n",
      "55/51 [================================] - 12s 227ms/step\n",
      "Epoch 7/80\n",
      "51/51 [==============================] - 12s 237ms/step\n",
      "55/51 [================================] - 12s 224ms/step\n",
      "Epoch 8/80\n",
      "51/51 [==============================] - 12s 229ms/step\n",
      "55/51 [================================] - 12s 216ms/step\n",
      "Epoch 9/80\n",
      "51/51 [==============================] - 12s 239ms/step\n",
      "55/51 [================================] - 12s 226ms/step\n",
      "Epoch 10/80\n",
      "51/51 [==============================] - 11s 223ms/step\n",
      "55/51 [================================] - 12s 210ms/step\n",
      "Epoch 11/80\n",
      "51/51 [==============================] - 12s 231ms/step\n",
      "55/51 [================================] - 12s 219ms/step\n",
      "Epoch 12/80\n",
      "51/51 [==============================] - 12s 231ms/step\n",
      "55/51 [================================] - 12s 218ms/step\n",
      "Epoch 13/80\n",
      "51/51 [==============================] - 12s 227ms/step\n",
      "55/51 [================================] - 12s 214ms/step\n",
      "Epoch 14/80\n",
      "51/51 [==============================] - 12s 240ms/step\n",
      "55/51 [================================] - 13s 227ms/step\n",
      "Epoch 15/80\n",
      "51/51 [==============================] - 11s 225ms/step\n",
      "55/51 [================================] - 12s 213ms/step\n",
      "Epoch 16/80\n",
      "51/51 [==============================] - 12s 237ms/step\n",
      "55/51 [================================] - 12s 224ms/step\n",
      "Epoch 17/80\n",
      "51/51 [==============================] - 12s 227ms/step\n",
      "55/51 [================================] - 12s 214ms/step\n",
      "Epoch 18/80\n",
      "51/51 [==============================] - 12s 231ms/step\n",
      "55/51 [================================] - 12s 218ms/step\n",
      "Epoch 19/80\n",
      "51/51 [==============================] - 12s 235ms/step\n",
      "55/51 [================================] - 12s 223ms/step\n",
      "Epoch 20/80\n",
      "51/51 [==============================] - 12s 235ms/step\n",
      "55/51 [================================] - 12s 222ms/step\n",
      "Epoch 21/80\n",
      "51/51 [==============================] - 12s 229ms/step\n",
      "55/51 [================================] - 12s 217ms/step\n",
      "Epoch 22/80\n",
      "51/51 [==============================] - 11s 224ms/step\n",
      "55/51 [================================] - 12s 212ms/step\n",
      "Epoch 23/80\n",
      "51/51 [==============================] - 12s 235ms/step\n",
      "55/51 [================================] - 12s 222ms/step\n",
      "Epoch 24/80\n",
      "51/51 [==============================] - 12s 243ms/step\n",
      "55/51 [================================] - 13s 230ms/step\n",
      "Epoch 25/80\n",
      "51/51 [==============================] - 12s 231ms/step\n",
      "55/51 [================================] - 12s 219ms/step\n",
      "Epoch 26/80\n",
      "51/51 [==============================] - 12s 242ms/step\n",
      "55/51 [================================] - 13s 228ms/step\n",
      "Epoch 27/80\n",
      "51/51 [==============================] - 12s 229ms/step\n",
      "55/51 [================================] - 12s 216ms/step\n",
      "Epoch 28/80\n",
      "51/51 [==============================] - 12s 239ms/step\n",
      "55/51 [================================] - 12s 226ms/step\n",
      "Epoch 29/80\n",
      "51/51 [==============================] - 12s 232ms/step\n",
      "55/51 [================================] - 12s 219ms/step\n",
      "Epoch 30/80\n",
      "51/51 [==============================] - 12s 234ms/step\n",
      "55/51 [================================] - 12s 221ms/step\n",
      "Epoch 31/80\n",
      "51/51 [==============================] - 12s 239ms/step\n",
      "55/51 [================================] - 12s 227ms/step\n",
      "Epoch 32/80\n",
      "51/51 [==============================] - 12s 226ms/step\n",
      "55/51 [================================] - 12s 214ms/step\n",
      "Epoch 33/80\n",
      "51/51 [==============================] - 12s 235ms/step\n",
      "55/51 [================================] - 12s 222ms/step\n",
      "Epoch 34/80\n",
      "51/51 [==============================] - 11s 225ms/step\n",
      "55/51 [================================] - 12s 212ms/step\n",
      "Epoch 35/80\n",
      "51/51 [==============================] - 12s 233ms/step\n",
      "55/51 [================================] - 12s 219ms/step\n",
      "Epoch 36/80\n",
      "51/51 [==============================] - 12s 236ms/step\n",
      "55/51 [================================] - 12s 223ms/step\n",
      "Epoch 37/80\n",
      "51/51 [==============================] - 11s 225ms/step\n",
      "55/51 [================================] - 12s 212ms/step\n",
      "Epoch 38/80\n",
      "51/51 [==============================] - 12s 231ms/step\n",
      "55/51 [================================] - 12s 218ms/step\n",
      "Epoch 39/80\n",
      "51/51 [==============================] - 12s 233ms/step\n",
      "55/51 [================================] - 12s 221ms/step\n",
      "Epoch 40/80\n",
      "51/51 [==============================] - 12s 235ms/step\n",
      "55/51 [================================] - 12s 222ms/step\n",
      "Epoch 41/80\n",
      "51/51 [==============================] - 12s 228ms/step\n",
      "55/51 [================================] - 12s 215ms/step\n",
      "Epoch 42/80\n",
      "51/51 [==============================] - 12s 235ms/step\n",
      "55/51 [================================] - 12s 222ms/step\n",
      "Epoch 43/80\n",
      "51/51 [==============================] - 12s 235ms/step\n",
      "55/51 [================================] - 12s 222ms/step\n",
      "Epoch 44/80\n",
      "51/51 [==============================] - 12s 226ms/step\n",
      "55/51 [================================] - 12s 214ms/step\n",
      "Epoch 45/80\n",
      "51/51 [==============================] - 12s 233ms/step\n",
      "55/51 [================================] - 12s 220ms/step\n",
      "Epoch 46/80\n",
      "51/51 [==============================] - 11s 224ms/step\n",
      "55/51 [================================] - 12s 211ms/step\n",
      "Epoch 47/80\n",
      "51/51 [==============================] - 12s 234ms/step\n",
      "55/51 [================================] - 12s 222ms/step\n",
      "Epoch 48/80\n",
      "51/51 [==============================] - 12s 234ms/step\n",
      "55/51 [================================] - 12s 221ms/step\n",
      "Epoch 49/80\n",
      "51/51 [==============================] - 11s 221ms/step\n",
      "55/51 [================================] - 12s 209ms/step\n",
      "Epoch 50/80\n",
      "51/51 [==============================] - 12s 238ms/step\n",
      "55/51 [================================] - 12s 225ms/step\n",
      "2198/2199 [============================>.] - ETA: 0sDev-Data: Prec: 0.214, Rec: 0.337, F1: 0.262\n",
      "Epoch 51/80\n",
      "51/51 [==============================] - 12s 227ms/step\n",
      "55/51 [================================] - 12s 215ms/step\n",
      "2198/2199 [============================>.] - ETA: 0sDev-Data: Prec: 0.843, Rec: 0.744, F1: 0.790\n",
      "Epoch 52/80\n",
      "51/51 [==============================] - 12s 235ms/step\n",
      "55/51 [================================] - 12s 221ms/step\n",
      "2198/2199 [============================>.] - ETA: 0sDev-Data: Prec: 0.836, Rec: 0.764, F1: 0.798\n",
      "Epoch 53/80\n",
      "51/51 [==============================] - 12s 240ms/step\n",
      "55/51 [================================] - 12s 227ms/step\n",
      "2198/2199 [============================>.] - ETA: 0sDev-Data: Prec: 0.839, Rec: 0.777, F1: 0.807\n",
      "Epoch 54/80\n",
      "51/51 [==============================] - 12s 229ms/step\n",
      "55/51 [================================] - 12s 216ms/step\n",
      "2197/2199 [============================>.] - ETA: 0sDev-Data: Prec: 0.814, Rec: 0.786, F1: 0.800\n",
      "Epoch 55/80\n",
      "51/51 [==============================] - 12s 228ms/step\n",
      "55/51 [================================] - 12s 215ms/step\n",
      "2198/2199 [============================>.] - ETA: 0sDev-Data: Prec: 0.814, Rec: 0.788, F1: 0.801\n",
      "Epoch 56/80\n",
      "51/51 [==============================] - 12s 228ms/step\n",
      "55/51 [================================] - 12s 215ms/step\n",
      "2198/2199 [============================>.] - ETA: 0sDev-Data: Prec: 0.818, Rec: 0.779, F1: 0.798\n",
      "Epoch 57/80\n",
      "51/51 [==============================] - 12s 234ms/step\n",
      "55/51 [================================] - 12s 221ms/step\n",
      "2198/2199 [============================>.] - ETA: 0sDev-Data: Prec: 0.824, Rec: 0.777, F1: 0.800\n",
      "Epoch 58/80\n",
      "51/51 [==============================] - 12s 227ms/step\n",
      "55/51 [================================] - 12s 215ms/step\n"
     ]
    },
    {
     "name": "stdout",
     "output_type": "stream",
     "text": [
      "2198/2199 [============================>.] - ETA: 0sDev-Data: Prec: 0.833, Rec: 0.786, F1: 0.809\n",
      "Epoch 59/80\n",
      "51/51 [==============================] - 12s 231ms/step\n",
      "55/51 [================================] - 12s 218ms/step\n",
      "2198/2199 [============================>.] - ETA: 0sDev-Data: Prec: 0.829, Rec: 0.791, F1: 0.810\n",
      "Epoch 60/80\n",
      "51/51 [==============================] - 12s 232ms/step\n",
      "55/51 [================================] - 12s 219ms/step\n",
      "2198/2199 [============================>.] - ETA: 0sDev-Data: Prec: 0.805, Rec: 0.795, F1: 0.800\n",
      "Epoch 61/80\n",
      "51/51 [==============================] - 12s 230ms/step\n",
      "55/51 [================================] - 12s 217ms/step\n",
      "2198/2199 [============================>.] - ETA: 0sDev-Data: Prec: 0.813, Rec: 0.782, F1: 0.797\n",
      "Epoch 62/80\n",
      "51/51 [==============================] - 13s 246ms/step\n",
      "55/51 [================================] - 13s 232ms/step\n",
      "2198/2199 [============================>.] - ETA: 0sDev-Data: Prec: 0.827, Rec: 0.792, F1: 0.809\n",
      "Epoch 63/80\n",
      "51/51 [==============================] - 11s 223ms/step\n",
      "55/51 [================================] - 12s 211ms/step\n",
      "2198/2199 [============================>.] - ETA: 0sDev-Data: Prec: 0.833, Rec: 0.788, F1: 0.810\n",
      "Epoch 64/80\n",
      "51/51 [==============================] - 12s 233ms/step\n",
      "55/51 [================================] - 12s 220ms/step\n",
      "2198/2199 [============================>.] - ETA: 0sDev-Data: Prec: 0.819, Rec: 0.794, F1: 0.806\n",
      "Epoch 65/80\n",
      "51/51 [==============================] - 12s 238ms/step\n",
      "55/51 [================================] - 12s 224ms/step\n",
      "2198/2199 [============================>.] - ETA: 0sDev-Data: Prec: 0.825, Rec: 0.796, F1: 0.810\n",
      "Epoch 66/80\n",
      "51/51 [==============================] - 12s 226ms/step\n",
      "55/51 [================================] - 12s 214ms/step\n",
      "2198/2199 [============================>.] - ETA: 0sDev-Data: Prec: 0.828, Rec: 0.788, F1: 0.807\n",
      "Epoch 67/80\n",
      "51/51 [==============================] - 12s 226ms/step\n",
      "55/51 [================================] - 12s 213ms/step\n",
      "2198/2199 [============================>.] - ETA: 0sDev-Data: Prec: 0.823, Rec: 0.793, F1: 0.808\n",
      "Epoch 68/80\n",
      "51/51 [==============================] - 11s 224ms/step\n",
      "55/51 [================================] - 12s 212ms/step\n",
      "2198/2199 [============================>.] - ETA: 0sDev-Data: Prec: 0.823, Rec: 0.791, F1: 0.807\n",
      "Epoch 69/80\n",
      "51/51 [==============================] - 12s 238ms/step\n",
      "55/51 [================================] - 12s 225ms/step\n",
      "2198/2199 [============================>.] - ETA: 0sDev-Data: Prec: 0.813, Rec: 0.800, F1: 0.806\n",
      "Epoch 70/80\n",
      "51/51 [==============================] - 12s 239ms/step\n",
      "55/51 [================================] - 12s 226ms/step\n",
      "2197/2199 [============================>.] - ETA: 0sDev-Data: Prec: 0.848, Rec: 0.774, F1: 0.809\n",
      "Epoch 71/80\n",
      "51/51 [==============================] - 11s 216ms/step\n",
      "55/51 [================================] - 11s 204ms/step\n",
      "2198/2199 [============================>.] - ETA: 0sDev-Data: Prec: 0.786, Rec: 0.809, F1: 0.797\n",
      "Epoch 72/80\n",
      "51/51 [==============================] - 12s 237ms/step\n",
      "55/51 [================================] - 12s 224ms/step\n",
      "2198/2199 [============================>.] - ETA: 0sDev-Data: Prec: 0.828, Rec: 0.794, F1: 0.811\n",
      "Epoch 73/80\n",
      "51/51 [==============================] - 12s 228ms/step\n",
      "55/51 [================================] - 12s 216ms/step\n",
      "2198/2199 [============================>.] - ETA: 0sDev-Data: Prec: 0.835, Rec: 0.789, F1: 0.811\n",
      "Epoch 74/80\n",
      "51/51 [==============================] - 12s 237ms/step\n",
      "55/51 [================================] - 12s 223ms/step\n",
      "2198/2199 [============================>.] - ETA: 0sDev-Data: Prec: 0.824, Rec: 0.800, F1: 0.812\n",
      "Epoch 75/80\n",
      "51/51 [==============================] - 11s 221ms/step\n",
      "55/51 [================================] - 11s 208ms/step\n",
      "2198/2199 [============================>.] - ETA: 0sDev-Data: Prec: 0.815, Rec: 0.796, F1: 0.806\n",
      "Epoch 76/80\n",
      "51/51 [==============================] - 12s 238ms/step\n",
      "55/51 [================================] - 12s 225ms/step\n",
      "2198/2199 [============================>.] - ETA: 0sDev-Data: Prec: 0.800, Rec: 0.807, F1: 0.804\n",
      "Epoch 77/80\n",
      "51/51 [==============================] - 12s 241ms/step\n",
      "55/51 [================================] - 13s 228ms/step\n",
      "2198/2199 [============================>.] - ETA: 0sDev-Data: Prec: 0.818, Rec: 0.804, F1: 0.811\n",
      "Epoch 78/80\n",
      "51/51 [==============================] - 12s 235ms/step\n",
      "55/51 [================================] - 12s 222ms/step\n",
      "2198/2199 [============================>.] - ETA: 0sDev-Data: Prec: 0.797, Rec: 0.806, F1: 0.802\n",
      "Epoch 79/80\n",
      "51/51 [==============================] - 12s 235ms/step\n",
      "55/51 [================================] - 12s 221ms/step\n",
      "2198/2199 [============================>.] - ETA: 0sDev-Data: Prec: 0.818, Rec: 0.796, F1: 0.807\n",
      "2199\n"
     ]
    }
   ],
   "source": [
    "for x in range(1):\n",
    "#     print(i)\n",
    "    maxf1 = 0\n",
    "    for epoch in range(epochs):    \n",
    "        print(\"Epoch %d/%d\"%(epoch, epochs))\n",
    "        a = Progbar(len(train_batch_len))\n",
    "        for i, batch in enumerate(iterate_minibatches(train_batch, train_batch_len)):\n",
    "            labels, tokens, casing, char = batch\n",
    "            labels = labels.tolist()\n",
    "    #         print(labels)\n",
    "            for sentence in labels:\n",
    "                for i,label in enumerate(sentence):\n",
    "                    temp = [0]*len(label2Idx)\n",
    "                    value = label[0]\n",
    "                    temp[value]=1\n",
    "                    sentence[i] = temp\n",
    "            labels = np.array(labels)\n",
    "    #         print(labels)\n",
    "            model.train_on_batch([tokens, casing, char], labels)\n",
    "            a.update(i)\n",
    "        if epoch >= 50:\n",
    "            predLabels, correctLabels = tag_dataset(dev_batch)        \n",
    "            pre_dev, rec_dev, f1_dev = compute_f1(predLabels, correctLabels, idx2Label)\n",
    "#             predLabels = np.concatenate(predLabels).ravel()\n",
    "#             correctLabels = np.concatenate(correctLabels).ravel()\n",
    "#             f1_dev = sklearn.metrics.f1_score(correctLabels,predLabels,average='macro' )\n",
    "            print(\"Dev-Data: Prec: %.3f, Rec: %.3f, F1: %.3f\" % (pre_dev, rec_dev, f1_dev))\n",
    "#             print(f1_dev)\n",
    "\n",
    "            if f1_dev > maxf1:\n",
    "                model.save('german_ner_oov_word2vec.h5')\n",
    "                maxf1 = f1_dev\n",
    "\n",
    "    id2word = {v: k for k, v in word2Idx.items()}\n",
    "    print(len(correctLabels))        \n",
    "\n",
    "    "
   ]
  },
  {
   "cell_type": "code",
   "execution_count": 80,
   "metadata": {},
   "outputs": [
    {
     "name": "stdout",
     "output_type": "stream",
     "text": [
      "3061/3062 [============================>.] - ETA: 0sDev-Data: Prec: 0.802, Rec: 0.752, F1: 0.777\n",
      "******************************************************************************\n"
     ]
    }
   ],
   "source": [
    "model.load_weights('german_ner_oov_word2vec.h5')\n",
    "test_batch_oov, y = createBatches(test_set_oov)\n",
    "predLabels, correctLabels = tag_dataset(test_batch_oov)        \n",
    "pre_dev, rec_dev, f1_dev = compute_f1(predLabels, correctLabels, idx2Label)\n",
    "print(\"Dev-Data: Prec: %.3f, Rec: %.3f, F1: %.3f\" % (pre_dev, rec_dev, f1_dev))\n",
    "\n",
    "id = 1\n",
    "file_name='test_oov_word2vec'+'.txt'\n",
    "input_file_name = '/home/jindal/notebooks/jindal/NER/'+file_name\n",
    "f = open(input_file_name,'wb')\n",
    "for sentence_number, batch in enumerate(test_batch_oov):\n",
    "    for word_number, wordid in enumerate(batch[0]):\n",
    "        word = id2word[wordid]\n",
    "        true_label = correctLabels[sentence_number][word_number]\n",
    "        true_label = idx2Label[true_label]\n",
    "        pred_label = predLabels[sentence_number][word_number]\n",
    "        pred_label = idx2Label[pred_label]\n",
    "\n",
    "        string = str(id) + '\\t' + word + '\\t' + true_label +'\\t' + true_label+'\\t'+pred_label+'\\t'+pred_label+'\\t\\n'\n",
    "#             string = word + ' ' + pred_label+' '+pred_label+' '+true_label+'\\n'\n",
    "        string = string.encode()\n",
    "        f.write(string)\n",
    "        id+=1\n",
    "\n",
    "command = \"perl nereval.perl\"\n",
    "directory_germeval = r'/home/jindal/notebooks/Resources/GermEVAL'\n",
    "#     directory_conll = r'/home/jindal/notebooks/Resources/CONLL/2003/ner/bin'\n",
    "#     command = \"perl conlleval\"\n",
    "\n",
    "output_file_name = '/home/jindal/notebooks/jindal/NER/test_result_oov_word2vec'+'.txt'\n",
    "output_file=open(output_file_name,'w')\n",
    "input_file = open(input_file_name)\n",
    "import subprocess\n",
    "process = subprocess.Popen(command.split(), stdin=input_file, stdout=output_file, cwd=directory_germeval)\n",
    "out, err = process.communicate()\n",
    "#     print(out)\n",
    "print('******************************************************************************')"
   ]
  },
  {
   "cell_type": "code",
   "execution_count": 81,
   "metadata": {},
   "outputs": [
    {
     "name": "stdout",
     "output_type": "stream",
     "text": [
      "2036/2037 [============================>.] - ETA: 0sDev-Data: Prec: 0.876, Rec: 0.857, F1: 0.866\n",
      "******************************************************************************\n"
     ]
    }
   ],
   "source": [
    "model.load_weights('german_ner_oov_word2vec.h5')\n",
    "test_batch_iv , x =  createBatches(test_set_iv)\n",
    "predLabels, correctLabels = tag_dataset(test_batch_iv)        \n",
    "pre_dev, rec_dev, f1_dev = compute_f1(predLabels, correctLabels, idx2Label)\n",
    "print(\"Dev-Data: Prec: %.3f, Rec: %.3f, F1: %.3f\" % (pre_dev, rec_dev, f1_dev))\n",
    "\n",
    "id = 1\n",
    "file_name='test_iv_word2vec'+'.txt'\n",
    "input_file_name = '/home/jindal/notebooks/jindal/NER/'+file_name\n",
    "f = open(input_file_name,'wb')\n",
    "for sentence_number, batch in enumerate(test_batch_iv):\n",
    "    for word_number, wordid in enumerate(batch[0]):\n",
    "        word = id2word[wordid]\n",
    "        true_label = correctLabels[sentence_number][word_number]\n",
    "        true_label = idx2Label[true_label]\n",
    "        pred_label = predLabels[sentence_number][word_number]\n",
    "        pred_label = idx2Label[pred_label]\n",
    "\n",
    "        string = str(id) + '\\t' + word + '\\t' + true_label +'\\t' + true_label+'\\t'+pred_label+'\\t'+pred_label+'\\t\\n'\n",
    "#             string = word + ' ' + pred_label+' '+pred_label+' '+true_label+'\\n'\n",
    "        string = string.encode()\n",
    "        f.write(string)\n",
    "        id+=1\n",
    "\n",
    "command = \"perl nereval.perl\"\n",
    "directory_germeval = r'/home/jindal/notebooks/Resources/GermEVAL'\n",
    "#     directory_conll = r'/home/jindal/notebooks/Resources/CONLL/2003/ner/bin'\n",
    "#     command = \"perl conlleval\"\n",
    "\n",
    "output_file_name = '/home/jindal/notebooks/jindal/NER/test_result_iv_word2vec'+'.txt'\n",
    "output_file=open(output_file_name,'w')\n",
    "input_file = open(input_file_name)\n",
    "import subprocess\n",
    "process = subprocess.Popen(command.split(), stdin=input_file, stdout=output_file, cwd=directory_germeval)\n",
    "out, err = process.communicate()\n",
    "#     print(out)\n",
    "print('******************************************************************************')"
   ]
  },
  {
   "cell_type": "code",
   "execution_count": null,
   "metadata": {},
   "outputs": [],
   "source": []
  }
 ],
 "metadata": {
  "kernelspec": {
   "display_name": "Python 3",
   "language": "python",
   "name": "python3"
  },
  "language_info": {
   "codemirror_mode": {
    "name": "ipython",
    "version": 3
   },
   "file_extension": ".py",
   "mimetype": "text/x-python",
   "name": "python",
   "nbconvert_exporter": "python",
   "pygments_lexer": "ipython3",
   "version": "3.5.5"
  }
 },
 "nbformat": 4,
 "nbformat_minor": 2
}
