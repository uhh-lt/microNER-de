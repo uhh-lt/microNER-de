{
 "cells": [
  {
   "cell_type": "code",
   "execution_count": 1,
   "metadata": {},
   "outputs": [
    {
     "name": "stderr",
     "output_type": "stream",
     "text": [
      "/home/jindal/miniconda3/envs/NER2/lib/python3.5/site-packages/h5py/__init__.py:36: FutureWarning: Conversion of the second argument of issubdtype from `float` to `np.floating` is deprecated. In future, it will be treated as `np.float64 == np.dtype(float).type`.\n",
      "  from ._conv import register_converters as _register_converters\n",
      "Using TensorFlow backend.\n"
     ]
    }
   ],
   "source": [
    "import sys\n",
    "import os\n",
    "import numpy as np \n",
    "from validation import compute_f1\n",
    "from keras.models import Model\n",
    "from keras.layers import TimeDistributed,Conv1D,Dense,Embedding,Input,Dropout,LSTM,Bidirectional,MaxPooling1D,Flatten,concatenate\n",
    "from prepro import readfile,createBatches,createMatrices,iterate_minibatches,addCharInformatioin,padding\n",
    "from keras.utils import plot_model,Progbar\n",
    "from keras.preprocessing.sequence import pad_sequences\n",
    "from keras.initializers import RandomUniform\n",
    "from keras.optimizers import Adam\n",
    "from sklearn.metrics import precision_recall_fscore_support as score\n",
    "import sklearn\n",
    "import subprocess"
   ]
  },
  {
   "cell_type": "code",
   "execution_count": 2,
   "metadata": {},
   "outputs": [],
   "source": [
    "epochs = 80\n",
    "trainable = True"
   ]
  },
  {
   "cell_type": "code",
   "execution_count": 3,
   "metadata": {},
   "outputs": [],
   "source": [
    "from keras_contrib.layers import CRF\n"
   ]
  },
  {
   "cell_type": "code",
   "execution_count": 4,
   "metadata": {},
   "outputs": [],
   "source": [
    "def tag_dataset(dataset):\n",
    "    correctLabels = []\n",
    "    predLabels = []\n",
    "    b = Progbar(len(dataset))\n",
    "    for i,data in enumerate(dataset):    \n",
    "        tokens, casing,char, labels = data\n",
    "        tokens = np.asarray([tokens])     \n",
    "        casing = np.asarray([casing])\n",
    "        char = np.asarray([char])\n",
    "        pred = model.predict([tokens, casing,char], verbose=False)[0]   \n",
    "        pred = pred.argmax(axis=-1) #Predict the classes            \n",
    "        correctLabels.append(labels)\n",
    "        predLabels.append(pred)\n",
    "        b.update(i)\n",
    "    return predLabels, correctLabels"
   ]
  },
  {
   "cell_type": "code",
   "execution_count": 5,
   "metadata": {},
   "outputs": [],
   "source": [
    "# changing all deriv and part to misc. with BIO\n",
    "def modify_labels(dataset):\n",
    "    bad_labels = ['I-PERderiv','I-OTHpart','B-ORGderiv', 'I-OTH','B-OTHpart','B-LOCderiv','I-LOCderiv','I-OTHderiv','B-PERderiv','B-OTHderiv','B-PERpart','I-PERpart','I-LOCpart','B-LOCpart','I-ORGpart','I-ORGderiv','B-ORGpart','B-OTH']\n",
    "    for sentence in dataset:\n",
    "        for word in sentence:\n",
    "            label = word[1]\n",
    "            if label in bad_labels:\n",
    "                first_char = label[0]\n",
    "                if first_char == 'B' :\n",
    "                    word[1] = 'B-MISC'\n",
    "                else:\n",
    "                    word[1] = 'I-MISC'\n",
    "    return dataset\n",
    "                "
   ]
  },
  {
   "cell_type": "code",
   "execution_count": 57,
   "metadata": {},
   "outputs": [],
   "source": [
    "\n",
    "# preproecessing data from GermEval\n",
    "def get_sentences(path):\n",
    "    sentences=[]\n",
    "    with open(path,'rb') as f:\n",
    "    #     lines = f.readlines()\n",
    "        sentence=[]\n",
    "        for line in f:\n",
    "            try:\n",
    "                splits = [x.decode() for x in line.split()]\n",
    "            except Exception as e:\n",
    "                continue\n",
    "            try:\n",
    "                if splits[0]!='#':\n",
    "                    temp = [splits[1],splits[2]]\n",
    "                    sentence.append(temp)\n",
    "                else:\n",
    "                    if len(sentence):\n",
    "                        sentences.append(sentence)\n",
    "                    sentence=[]\n",
    "            except Exception as e:\n",
    "                continue\n",
    "    return sentences\n",
    "\n"
   ]
  },
  {
   "cell_type": "code",
   "execution_count": 58,
   "metadata": {},
   "outputs": [
    {
     "name": "stdout",
     "output_type": "stream",
     "text": [
      "23999\n",
      "2199\n",
      "5099\n"
     ]
    }
   ],
   "source": [
    "train_sentences = get_sentences('/home/jindal/notebooks/Resources/GermEVAL/NER-de-train.tsv')\n",
    "dev_sentences = get_sentences('/home/jindal/notebooks/Resources/GermEVAL/NER-de-dev.tsv')\n",
    "test_sentences = get_sentences('/home/jindal/notebooks/Resources/GermEVAL/NER-de-test.tsv')\n",
    "\n",
    "print(len(train_sentences))\n",
    "print(len(dev_sentences))\n",
    "print(len(test_sentences))\n"
   ]
  },
  {
   "cell_type": "code",
   "execution_count": 59,
   "metadata": {},
   "outputs": [
    {
     "name": "stdout",
     "output_type": "stream",
     "text": [
      "[['Schartau', 'B-PER'], ['sagte', 'O'], ['dem', 'O'], ['\"', 'O'], ['Tagesspiegel', 'B-ORG'], ['\"', 'O'], ['vom', 'O'], ['Freitag', 'O'], [',', 'O'], ['Fischer', 'B-PER'], ['sei', 'O'], ['\"', 'O'], ['in', 'O'], ['einer', 'O'], ['Weise', 'O'], ['aufgetreten', 'O'], [',', 'O'], ['die', 'O'], ['alles', 'O'], ['andere', 'O'], ['als', 'O'], ['überzeugend', 'O'], ['war', 'O'], ['\"', 'O'], ['.', 'O']]\n"
     ]
    }
   ],
   "source": [
    "print(train_sentences[0])"
   ]
  },
  {
   "cell_type": "code",
   "execution_count": 60,
   "metadata": {},
   "outputs": [],
   "source": [
    "fast_text_words=[]\n",
    "\n",
    "with open('/home/jindal/notebooks/fastText/wiki.de.vec','rb') as f:\n",
    "    for line in f:\n",
    "        splits = line.split()\n",
    "        word = splits[0].decode()\n",
    "        fast_text_words.append(word)"
   ]
  },
  {
   "cell_type": "code",
   "execution_count": 61,
   "metadata": {},
   "outputs": [
    {
     "name": "stdout",
     "output_type": "stream",
     "text": [
      ".\n"
     ]
    }
   ],
   "source": [
    "del fast_text_words[0]\n",
    "print(fast_text_words[0])"
   ]
  },
  {
   "cell_type": "code",
   "execution_count": 62,
   "metadata": {},
   "outputs": [
    {
     "name": "stdout",
     "output_type": "stream",
     "text": [
      "[['Der', 'O'], ['Meteoritensucher', 'O'], ['hatte', 'O'], ['im', 'O'], ['Frühjahr', 'O'], ['auf', 'O'], ['der', 'O'], ['dänischen', 'B-LOCderiv'], ['Insel', 'O'], ['Lolland', 'B-LOC'], ['30', 'O'], ['Gramm', 'O'], ['eines', 'O'], ['Meteoriten', 'O'], ['aufgespürt', 'O'], [',', 'O'], ['der', 'O'], ['Mitte', 'O'], ['Januar', 'O'], ['über', 'O'], ['Nordeuropa', 'B-LOC'], ['beobachtet', 'O'], ['worden', 'O'], ['war', 'O'], ['.', 'O']]\n"
     ]
    }
   ],
   "source": [
    "print(train_sentences[100])"
   ]
  },
  {
   "cell_type": "code",
   "execution_count": 63,
   "metadata": {},
   "outputs": [],
   "source": [
    "# train_sentences = modify_labels(train_sentences)\n",
    "# dev_sentences = modify_labels(dev_sentences)\n",
    "# test_sentences = modify_labels(test_sentences)"
   ]
  },
  {
   "cell_type": "code",
   "execution_count": 64,
   "metadata": {},
   "outputs": [],
   "source": [
    "trainSentences = addCharInformatioin(train_sentences)\n",
    "devSentences = addCharInformatioin(dev_sentences)\n",
    "testSentences = addCharInformatioin(test_sentences)\n"
   ]
  },
  {
   "cell_type": "code",
   "execution_count": 65,
   "metadata": {},
   "outputs": [],
   "source": [
    "test_sentences_in_fasttext=[]\n",
    "test_sentences_not_in_fasttext=[]\n",
    "\n",
    "for sentence in testSentences:\n",
    "    flag=False\n",
    "    for word in sentence:\n",
    "        token=word[0].lower()\n",
    "#         print(token)\n",
    "        if token not in fast_text_words:\n",
    "            flag=True\n",
    "            break\n",
    "    if flag:\n",
    "        test_sentences_not_in_fasttext.append(sentence)\n",
    "    else:\n",
    "        test_sentences_in_fasttext.append(sentence)"
   ]
  },
  {
   "cell_type": "code",
   "execution_count": 66,
   "metadata": {},
   "outputs": [
    {
     "name": "stdout",
     "output_type": "stream",
     "text": [
      "2204\n",
      "2895\n",
      "5099\n"
     ]
    }
   ],
   "source": [
    "print(len(test_sentences_in_fasttext))\n",
    "print(len(test_sentences_not_in_fasttext))\n",
    "print(len(test_sentences))"
   ]
  },
  {
   "cell_type": "code",
   "execution_count": 67,
   "metadata": {},
   "outputs": [],
   "source": [
    "labelSet = set()\n",
    "words = {}\n",
    "characters= set()\n",
    "\n",
    "for dataset in [trainSentences, devSentences, testSentences]:\n",
    "    for sentence in dataset:\n",
    "        for token, char, label in sentence:\n",
    "            for c in char:\n",
    "                characters.add(c)\n",
    "            labelSet.add(label)\n",
    "            words[token.lower()] = True\n",
    "            # words[token] = True"
   ]
  },
  {
   "cell_type": "code",
   "execution_count": 68,
   "metadata": {},
   "outputs": [
    {
     "name": "stdout",
     "output_type": "stream",
     "text": [
      "{'B-OTHderiv', 'B-LOCpart', 'I-ORGderiv', 'B-OTH', 'B-LOCderiv', 'B-ORGpart', 'B-ORG', 'B-ORGderiv', 'I-OTHderiv', 'I-ORG', 'I-PERpart', 'I-PER', 'I-ORGpart', 'B-PERderiv', 'B-LOC', 'I-PERderiv', 'I-OTHpart', 'I-LOCderiv', 'B-OTHpart', 'I-LOCpart', 'I-LOC', 'O', 'B-PER', 'B-PERpart', 'I-OTH'}\n"
     ]
    }
   ],
   "source": [
    "print(labelSet)"
   ]
  },
  {
   "cell_type": "code",
   "execution_count": 69,
   "metadata": {},
   "outputs": [],
   "source": [
    "# :: Create a mapping for the labels ::\n",
    "label2Idx = {}\n",
    "for label in labelSet:\n",
    "    label2Idx[label] = len(label2Idx)"
   ]
  },
  {
   "cell_type": "code",
   "execution_count": 70,
   "metadata": {},
   "outputs": [
    {
     "name": "stdout",
     "output_type": "stream",
     "text": [
      "{'B-ORGpart': 5, 'B-ORG': 6, 'B-OTHderiv': 0, 'B-LOCpart': 1, 'B-ORGderiv': 7, 'I-OTHderiv': 8, 'I-ORG': 9, 'I-ORGderiv': 2, 'I-PERpart': 10, 'I-PER': 11, 'I-ORGpart': 12, 'B-PERderiv': 13, 'B-LOC': 14, 'B-OTH': 3, 'I-OTHpart': 16, 'I-LOCderiv': 17, 'I-PERderiv': 15, 'B-LOCderiv': 4, 'B-OTHpart': 18, 'I-LOCpart': 19, 'I-LOC': 20, 'O': 21, 'B-PER': 22, 'B-PERpart': 23, 'I-OTH': 24}\n"
     ]
    }
   ],
   "source": [
    "print(label2Idx)"
   ]
  },
  {
   "cell_type": "code",
   "execution_count": 71,
   "metadata": {},
   "outputs": [],
   "source": [
    "# :: Hard coded case lookup ::\n",
    "case2Idx = {'numeric': 0, 'allLower':1, 'allUpper':2, 'initialUpper':3, 'other':4, 'mainly_numeric':5, 'contains_digit': 6, 'PADDING_TOKEN':7}\n",
    "caseEmbeddings = np.identity(len(case2Idx), dtype='float32')"
   ]
  },
  {
   "cell_type": "code",
   "execution_count": 72,
   "metadata": {},
   "outputs": [],
   "source": [
    "string_words = ' '.join(words.keys())\n",
    "# print(string_words)\n",
    "f = open('/home/jindal/notebooks/fastText/german_words.txt','wb')\n",
    "f.write(string_words.encode())\n",
    "f.close()"
   ]
  },
  {
   "cell_type": "code",
   "execution_count": 73,
   "metadata": {},
   "outputs": [
    {
     "name": "stdout",
     "output_type": "stream",
     "text": [
      "[[1. 0. 0. 0. 0. 0. 0. 0.]\n",
      " [0. 1. 0. 0. 0. 0. 0. 0.]\n",
      " [0. 0. 1. 0. 0. 0. 0. 0.]\n",
      " [0. 0. 0. 1. 0. 0. 0. 0.]\n",
      " [0. 0. 0. 0. 1. 0. 0. 0.]\n",
      " [0. 0. 0. 0. 0. 1. 0. 0.]\n",
      " [0. 0. 0. 0. 0. 0. 1. 0.]\n",
      " [0. 0. 0. 0. 0. 0. 0. 1.]]\n",
      "{'mainly_numeric': 5, 'allLower': 1, 'contains_digit': 6, 'PADDING_TOKEN': 7, 'allUpper': 2, 'initialUpper': 3, 'other': 4, 'numeric': 0}\n"
     ]
    }
   ],
   "source": [
    "print(caseEmbeddings)\n",
    "print(case2Idx)"
   ]
  },
  {
   "cell_type": "code",
   "execution_count": 74,
   "metadata": {},
   "outputs": [],
   "source": [
    "word2Idx={}\n",
    "wordEmbeddings=[]\n",
    "\n",
    "# created a file by the name of german_words.txt in /fastText. Containing all the words in our dataset\n",
    "with open('german_word_embeddings.txt','rb') as f:\n",
    "    for line in f:\n",
    "        splits = line.split()\n",
    "        word = splits[0].decode()\n",
    "#         print(word.decode())\n",
    "        if len(word2Idx) == 0: #Add padding+unknown\n",
    "            word2Idx[\"PADDING_TOKEN\"] = len(word2Idx)\n",
    "            vector = np.zeros(len(splits)-1) #Zero vector vor 'PADDING' word\n",
    "            wordEmbeddings.append(vector)\n",
    "\n",
    "            word2Idx[\"UNKNOWN_TOKEN\"] = len(word2Idx)\n",
    "            vector = np.random.uniform(-0.25, 0.25, len(splits)-1)\n",
    "            wordEmbeddings.append(vector)\n",
    "            \n",
    "        word2Idx[word.lower()]=len(word2Idx)\n",
    "        embedding = np.array([float(num) for num in splits[1:]])\n",
    "        wordEmbeddings.append(embedding)\n",
    "wordEmbeddings=np.array(wordEmbeddings)"
   ]
  },
  {
   "cell_type": "code",
   "execution_count": 75,
   "metadata": {},
   "outputs": [
    {
     "name": "stdout",
     "output_type": "stream",
     "text": [
      "86688\n",
      "300\n"
     ]
    }
   ],
   "source": [
    "# print(wordEmbeddings[2])\n",
    "print(len(wordEmbeddings))\n",
    "print(len(wordEmbeddings[2]))"
   ]
  },
  {
   "cell_type": "code",
   "execution_count": 76,
   "metadata": {
    "scrolled": true
   },
   "outputs": [
    {
     "name": "stdout",
     "output_type": "stream",
     "text": [
      "{'ó': 0, 'ř': 1, 'к': 216, '柯': 3, 'С': 5, 'γ': 273, 'ệ': 8, 'ю': 274, '“': 9, '별': 220, 'ς': 10, '→': 11, '\\x92': 12, 'в': 13, 'п': 15, '博': 16, 'Þ': 21, 'ê': 53, 'о': 20, 'η': 22, 'λ': 23, '‐': 2, 'N': 189, 'τ': 24, 'ĩ': 55, '別': 26, 'ś': 27, 'ъ': 28, 'o': 29, '寝': 31, '$': 6, 'В': 32, 'Ł': 33, '[': 35, '×': 36, 'ö': 37, '鷹': 38, 'p': 39, '³': 40, '術': 42, 'β': 43, 'å': 44, '&': 318, '동': 45, 'Ö': 116, 'ό': 46, 'í': 47, 'έ': 48, 'F': 49, '貴': 323, 'á': 50, '−': 51, 'є': 52, 'B': 167, '章': 54, 'ñ': 56, 'j': 57, 'Ş': 229, 'Ш': 59, '£': 60, '″': 62, 'H': 63, 'z': 64, 'у': 61, '<': 179, 'e': 67, 'д': 282, '‹': 69, 'Č': 70, 'ô': 71, '⊃': 80, 'ŏ': 77, 'ú': 78, 'ł': 79, '樓': 81, '九': 83, '#': 176, '鶴': 84, '5': 85, ':': 65, '3': 86, 'W': 87, '8': 89, 'À': 90, 'V': 92, 'ي': 94, 'A': 68, 'y': 251, 'g': 95, 'ň': 97, 'Л': 100, '+': 98, '6': 99, 'µ': 285, 'ő': 91, 'ض': 101, 'с': 102, 'ē': 197, 'ð': 74, 'ế': 104, 'è': 105, '佐': 106, 'È': 107, 'ć': 18, 'k': 108, 'У': 110, 'ť': 111, 'õ': 237, '公': 112, 'S': 113, 'ü': 125, 'R': 114, 'Y': 138, 'b': 19, '\\x80': 117, '守': 119, '懿': 76, 'л': 120, 'n': 121, '¤': 122, '대': 219, 'ῦ': 124, 'ǒ': 126, '?': 128, 'Î': 127, 'П': 129, '학': 238, 'α': 130, '}': 275, 'ū': 131, '루': 93, 'ş': 133, 'ʻ': 135, 'ą': 136, 'ã': 137, '冲': 140, 'π': 141, ']': 294, 'č': 142, 'Å': 144, 'ї': 214, '½': 260, 'ë': 145, 'ψ': 147, 'i': 221, 'œ': 295, '„': 148, 'я': 149, '傳': 150, 'ن': 25, 'É': 296, 'ο': 151, '台': 66, '0': 153, 'ä': 154, 'h': 132, 'à': 155, 't': 161, 'ρ': 156, 'T': 157, '!': 243, '9': 158, '¸': 159, '太': 160, 'X': 162, 'ņ': 163, '·': 134, '°': 164, '¹': 165, 'ź': 34, 'р': 168, 'E': 169, 'ε': 170, 'm': 171, 'Á': 172, 'ń': 173, '4': 175, '_': 177, 'ž': 178, 'é': 30, 'υ': 180, 'Ø': 123, 'и': 182, '⋅': 183, 'Â': 186, 'Т': 185, '\\x94': 233, 'ب': 193, 'ý': 262, '≘': 139, ';': 187, 'ğ': 301, 'İ': 75, 'Q': 190, 'г': 82, 'М': 192, 'x': 88, '≤': 194, 'q': 195, 'ç': 196, 'أ': 304, '–': 248, 'ă': 199, 'ı': 73, '南': 249, 'â': 200, 'Ġ': 58, '†': 201, '`': 244, 'C': 202, '造': 287, '=': 204, 'з': 205, 'ḳ': 206, '1': 208, '©': 210, 'ά': 211, '2': 212, 'v': 143, 'ě': 215, '士': 166, 'σ': 217, 'J': 218, 'ж': 72, 'Š': 319, 'ċ': 198, 'ν': 222, '—': 223, '/': 224, 'κ': 225, 'ɨ': 226, 'M': 227, 's': 188, 'K': 228, 'ż': 230, 'O': 231, 'н': 232, 'т': 234, '殿': 235, 'б': 300, 'ι': 7, '´': 146, '(': 240, 'î': 14, '»': 41, 'ħ': 241, 'd': 96, ',': 242, 'Œ': 245, 'ī': 236, '>': 246, 'ß': 247, 'й': 174, '«': 250, '%': 191, 'Λ': 252, 'а': 203, '.': 253, '-': 254, 'Æ': 312, 'c': 255, 'I': 256, '±': 257, 'ы': 261, '\"': 259, '算': 263, 'ـ': 266, 'f': 264, '\\x9a': 265, 'U': 267, 'G': 270, 'Z': 271, 'Ü': 272, '€': 258, 'æ': 207, 'ō': 276, 'P': 317, 'ا': 277, 'м': 278, 'ø': 279, '▪': 280, 'Е': 281, 'ḫ': 209, '‚': 283, 'w': 284, 'Ż': 184, 'L': 239, 'u': 152, 'Ä': 4, '”': 103, 'Ž': 288, 'Ц': 289, 'オ': 290, '~': 291, 'Π': 292, 'ь': 293, '\\x99': 297, '東': 269, 'l': 298, '@': 299, 'И': 181, '’': 302, '›': 286, 'š': 303, '\\x96': 305, 'ę': 306, 'ā': 307, '7': 308, 'х': 309, '*': 310, '‘': 311, 'ラ': 268, '\\u200e': 313, '\\x95': 322, '§': 325, \"'\": 314, 'е': 315, 'r': 316, '妃': 115, 'a': 17, 'û': 118, 'D': 320, ')': 321, '\\xad': 213, 'φ': 324, '²': 109, '李': 326, '…': 327}\n"
     ]
    }
   ],
   "source": [
    "char2Idx={}\n",
    "for char in characters:\n",
    "    char2Idx[char] = len(char2Idx)\n",
    "print(char2Idx)"
   ]
  },
  {
   "cell_type": "code",
   "execution_count": 77,
   "metadata": {
    "scrolled": true
   },
   "outputs": [
    {
     "name": "stdout",
     "output_type": "stream",
     "text": [
      "[['Schartau', ['S', 'c', 'h', 'a', 'r', 't', 'a', 'u'], 'B-PER'], ['sagte', ['s', 'a', 'g', 't', 'e'], 'O'], ['dem', ['d', 'e', 'm'], 'O'], ['\"', ['\"'], 'O'], ['Tagesspiegel', ['T', 'a', 'g', 'e', 's', 's', 'p', 'i', 'e', 'g', 'e', 'l'], 'B-ORG'], ['\"', ['\"'], 'O'], ['vom', ['v', 'o', 'm'], 'O'], ['Freitag', ['F', 'r', 'e', 'i', 't', 'a', 'g'], 'O'], [',', [','], 'O'], ['Fischer', ['F', 'i', 's', 'c', 'h', 'e', 'r'], 'B-PER'], ['sei', ['s', 'e', 'i'], 'O'], ['\"', ['\"'], 'O'], ['in', ['i', 'n'], 'O'], ['einer', ['e', 'i', 'n', 'e', 'r'], 'O'], ['Weise', ['W', 'e', 'i', 's', 'e'], 'O'], ['aufgetreten', ['a', 'u', 'f', 'g', 'e', 't', 'r', 'e', 't', 'e', 'n'], 'O'], [',', [','], 'O'], ['die', ['d', 'i', 'e'], 'O'], ['alles', ['a', 'l', 'l', 'e', 's'], 'O'], ['andere', ['a', 'n', 'd', 'e', 'r', 'e'], 'O'], ['als', ['a', 'l', 's'], 'O'], ['überzeugend', ['ü', 'b', 'e', 'r', 'z', 'e', 'u', 'g', 'e', 'n', 'd'], 'O'], ['war', ['w', 'a', 'r'], 'O'], ['\"', ['\"'], 'O'], ['.', ['.'], 'O']]\n"
     ]
    }
   ],
   "source": [
    "print(trainSentences[0]) "
   ]
  },
  {
   "cell_type": "code",
   "execution_count": 78,
   "metadata": {},
   "outputs": [],
   "source": [
    "# createMatrices: for every sentence, changes its words, cases,characters, labels to its corresponding id in their embeddings\n",
    "# padding is used to pad the character indices to a fixed size=52\n",
    "train_set = padding(createMatrices(trainSentences, word2Idx,  label2Idx, case2Idx, char2Idx))\n",
    "dev_set = padding(createMatrices(devSentences, word2Idx, label2Idx, case2Idx, char2Idx))\n",
    "test_set = padding(createMatrices(testSentences, word2Idx, label2Idx, case2Idx, char2Idx))\n",
    "test_set_in_fasttext= padding(createMatrices(test_sentences_in_fasttext, word2Idx, label2Idx, case2Idx, char2Idx))\n",
    "test_set_not_in_fasttext = padding(createMatrices(test_sentences_not_in_fasttext, word2Idx, label2Idx, case2Idx, char2Idx))"
   ]
  },
  {
   "cell_type": "code",
   "execution_count": 79,
   "metadata": {},
   "outputs": [
    {
     "name": "stdout",
     "output_type": "stream",
     "text": [
      "[[66621, 48489, 64378, 48605, 45132, 48605, 71994, 24199, 9866, 61086, 49918, 48605, 56689, 56275, 81412, 41725, 9866, 53656, 77940, 59258, 86062, 76881, 22538, 48605, 83973], [3, 1, 1, 4, 3, 4, 1, 3, 4, 3, 1, 4, 1, 1, 3, 1, 4, 1, 1, 1, 1, 1, 1, 4, 4], array([[113, 255, 132, ...,   0,   0,   0],\n",
      "       [188,  17,  95, ...,   0,   0,   0],\n",
      "       [ 96,  67, 171, ...,   0,   0,   0],\n",
      "       ...,\n",
      "       [284,  17, 316, ...,   0,   0,   0],\n",
      "       [259,   0,   0, ...,   0,   0,   0],\n",
      "       [253,   0,   0, ...,   0,   0,   0]], dtype=int32), [22, 21, 21, 21, 6, 21, 21, 21, 21, 22, 21, 21, 21, 21, 21, 21, 21, 21, 21, 21, 21, 21, 21, 21, 21]]\n",
      "25\n",
      "[[113 255 132 ...   0   0   0]\n",
      " [188  17  95 ...   0   0   0]\n",
      " [ 96  67 171 ...   0   0   0]\n",
      " ...\n",
      " [284  17 316 ...   0   0   0]\n",
      " [259   0   0 ...   0   0   0]\n",
      " [253   0   0 ...   0   0   0]]\n"
     ]
    }
   ],
   "source": [
    "# train-set[][0]: corresponds to the ids of the words in the sentence\n",
    "# train_set[][1]: corresponds to the ids of the cases of the words\n",
    "# train_set[][2]: contains numpy arrays, one corresponding to every word, each containing the indices of the characters of that word\n",
    "# the numpy arrays have a fixed size (padding or truncation) to 52\n",
    "# train_set[][3]: corresponds to the ids of the labels of every word\n",
    "\n",
    "print(train_set[0])\n",
    "print(len(train_set[0][0])) # gives the number of words in the sentence\n",
    "print((train_set[0][2]))"
   ]
  },
  {
   "cell_type": "code",
   "execution_count": 80,
   "metadata": {},
   "outputs": [],
   "source": [
    "idx2Label = {v: k for k, v in label2Idx.items()}\n",
    "\n",
    "train_batch,train_batch_len = createBatches(train_set)\n",
    "dev_batch,dev_batch_len = createBatches(dev_set)\n",
    "test_batch,test_batch_len = createBatches(test_set)"
   ]
  },
  {
   "cell_type": "code",
   "execution_count": 81,
   "metadata": {},
   "outputs": [
    {
     "name": "stdout",
     "output_type": "stream",
     "text": [
      "env: CUDA_DEVICE_ORDER=PCI_BUS_ID\n",
      "env: CUDA_VISIBLE_DEVICES=0\n"
     ]
    }
   ],
   "source": [
    "%env CUDA_DEVICE_ORDER=PCI_BUS_ID\n",
    "%env CUDA_VISIBLE_DEVICES=0"
   ]
  },
  {
   "cell_type": "code",
   "execution_count": 82,
   "metadata": {},
   "outputs": [
    {
     "name": "stdout",
     "output_type": "stream",
     "text": [
      "[['Die', ['D', 'i', 'e'], 'O'], ['These', ['T', 'h', 'e', 's', 'e'], 'O'], [',', [','], 'O'], ['Schlatter', ['S', 'c', 'h', 'l', 'a', 't', 't', 'e', 'r'], 'B-PER'], ['sei', ['s', 'e', 'i'], 'O'], ['Antisemit', ['A', 'n', 't', 'i', 's', 'e', 'm', 'i', 't'], 'O'], ['gewesen', ['g', 'e', 'w', 'e', 's', 'e', 'n'], 'O'], [',', [','], 'O'], ['wurde', ['w', 'u', 'r', 'd', 'e'], 'O'], ['seither', ['s', 'e', 'i', 't', 'h', 'e', 'r'], 'O'], ['in', ['i', 'n'], 'O'], ['der', ['d', 'e', 'r'], 'O'], ['theologischen', ['t', 'h', 'e', 'o', 'l', 'o', 'g', 'i', 's', 'c', 'h', 'e', 'n'], 'O'], ['Fachliteratur', ['F', 'a', 'c', 'h', 'l', 'i', 't', 'e', 'r', 'a', 't', 'u', 'r'], 'O'], ['nicht', ['n', 'i', 'c', 'h', 't'], 'O'], ['mehr', ['m', 'e', 'h', 'r'], 'O'], ['vertreten', ['v', 'e', 'r', 't', 'r', 'e', 't', 'e', 'n'], 'O'], ['.', ['.'], 'O']]\n"
     ]
    }
   ],
   "source": [
    "print(test_sentences_in_fasttext[0])"
   ]
  },
  {
   "cell_type": "code",
   "execution_count": 83,
   "metadata": {
    "scrolled": true
   },
   "outputs": [
    {
     "name": "stdout",
     "output_type": "stream",
     "text": [
      "__________________________________________________________________________________________________\n",
      "Layer (type)                    Output Shape         Param #     Connected to                     \n",
      "==================================================================================================\n",
      "char_input (InputLayer)         (None, None, 52)     0                                            \n",
      "__________________________________________________________________________________________________\n",
      "char_embedding (TimeDistributed (None, None, 52, 32) 10496       char_input[0][0]                 \n",
      "__________________________________________________________________________________________________\n",
      "time_distributed_21 (TimeDistri (None, None, 52, 32) 3104        char_embedding[0][0]             \n",
      "__________________________________________________________________________________________________\n",
      "time_distributed_24 (TimeDistri (None, None, 52, 32) 4128        char_embedding[0][0]             \n",
      "__________________________________________________________________________________________________\n",
      "time_distributed_27 (TimeDistri (None, None, 52, 32) 5152        char_embedding[0][0]             \n",
      "__________________________________________________________________________________________________\n",
      "words_input (InputLayer)        (None, None)         0                                            \n",
      "__________________________________________________________________________________________________\n",
      "casing_input (InputLayer)       (None, None)         0                                            \n",
      "__________________________________________________________________________________________________\n",
      "time_distributed_22 (TimeDistri (None, None, 1, 32)  0           time_distributed_21[0][0]        \n",
      "__________________________________________________________________________________________________\n",
      "time_distributed_25 (TimeDistri (None, None, 1, 32)  0           time_distributed_24[0][0]        \n",
      "__________________________________________________________________________________________________\n",
      "time_distributed_28 (TimeDistri (None, None, 1, 32)  0           time_distributed_27[0][0]        \n",
      "__________________________________________________________________________________________________\n",
      "embedding_7 (Embedding)         (None, None, 300)    26006400    words_input[0][0]                \n",
      "__________________________________________________________________________________________________\n",
      "embedding_8 (Embedding)         (None, None, 8)      64          casing_input[0][0]               \n",
      "__________________________________________________________________________________________________\n",
      "time_distributed_23 (TimeDistri (None, None, 32)     0           time_distributed_22[0][0]        \n",
      "__________________________________________________________________________________________________\n",
      "time_distributed_26 (TimeDistri (None, None, 32)     0           time_distributed_25[0][0]        \n",
      "__________________________________________________________________________________________________\n",
      "time_distributed_29 (TimeDistri (None, None, 32)     0           time_distributed_28[0][0]        \n",
      "__________________________________________________________________________________________________\n",
      "concatenate_3 (Concatenate)     (None, None, 404)    0           embedding_7[0][0]                \n",
      "                                                                 embedding_8[0][0]                \n",
      "                                                                 time_distributed_23[0][0]        \n",
      "                                                                 time_distributed_26[0][0]        \n",
      "                                                                 time_distributed_29[0][0]        \n",
      "__________________________________________________________________________________________________\n",
      "bidirectional_3 (Bidirectional) (None, None, 400)    968000      concatenate_3[0][0]              \n",
      "__________________________________________________________________________________________________\n",
      "time_distributed_30 (TimeDistri (None, None, 25)     10025       bidirectional_3[0][0]            \n",
      "__________________________________________________________________________________________________\n",
      "crf_3 (CRF)                     (None, None, 25)     1325        time_distributed_30[0][0]        \n",
      "==================================================================================================\n",
      "Total params: 27,008,694\n",
      "Trainable params: 1,002,230\n",
      "Non-trainable params: 26,006,464\n",
      "__________________________________________________________________________________________________\n"
     ]
    }
   ],
   "source": [
    "words_input = Input(shape=(None,),dtype='int32',name='words_input')\n",
    "words = Embedding(input_dim=wordEmbeddings.shape[0], output_dim=wordEmbeddings.shape[1],  weights=[wordEmbeddings], trainable=False)(words_input)\n",
    "casing_input = Input(shape=(None,), dtype='int32', name='casing_input')\n",
    "casing = Embedding(output_dim=caseEmbeddings.shape[1], input_dim=caseEmbeddings.shape[0], weights=[caseEmbeddings], trainable=False)(casing_input)\n",
    "character_input=Input(shape=(None,52,),name='char_input')\n",
    "embed_char_out=TimeDistributed(Embedding(len(char2Idx),32,embeddings_initializer=RandomUniform(minval=-0.5, maxval=0.5)), name='char_embedding')(character_input)\n",
    "# dropout= Dropout(0.5, name='dropout1')(embed_char_out)\n",
    "\n",
    "# conv1d_out= TimeDistributed(Conv1D(kernel_size=3, filters=30, padding='same',activation='tanh', strides=1, name='conv'))(dropout)\n",
    "# maxpool_out=TimeDistributed(MaxPooling1D(52), name='maxpool')(conv1d_out)\n",
    "# char = TimeDistributed(Flatten())(maxpool_out)\n",
    "# char = Dropout(0.5)(char)\n",
    "# output = concatenate([words, casing, char])\n",
    "\n",
    "kernel_sizes = (3, 4, 5)\n",
    "conv_blocks = []\n",
    "for sz in kernel_sizes:\n",
    "    conv = TimeDistributed(Conv1D(\n",
    "                         kernel_size=sz,\n",
    "                         filters=32,\n",
    "                         padding=\"same\",\n",
    "                         activation=\"relu\",\n",
    "                         strides=1))(embed_char_out)\n",
    "    conv = TimeDistributed(MaxPooling1D(52))(conv)\n",
    "    conv = TimeDistributed(Flatten())(conv)\n",
    "#     conv = Dropout(0.5)(conv)\n",
    "    conv_blocks.append(conv)\n",
    "output = concatenate([words, casing, conv_blocks[0], conv_blocks[1], conv_blocks[2]])\n",
    "\n",
    "output = Bidirectional(LSTM(200, return_sequences=True, dropout=0.50, recurrent_dropout=0.5))(output)\n",
    "output = TimeDistributed(Dense(len(label2Idx)))(output)\n",
    "crf = CRF(len(label2Idx))\n",
    "output = crf(output)\n",
    "model = Model(inputs=[words_input, casing_input,character_input], outputs=[output])\n",
    "# model.compile(loss=crf.loss_function, optimizer=Adam(lr = 0.002), metrics=[crf.accuracy])\n",
    "model.compile(loss=crf.loss_function, optimizer='nadam', metrics=[crf.accuracy])\n",
    "model.summary()\n",
    "# plot_model(model, to_file='model.png')"
   ]
  },
  {
   "cell_type": "code",
   "execution_count": 85,
   "metadata": {
    "scrolled": true
   },
   "outputs": [
    {
     "name": "stdout",
     "output_type": "stream",
     "text": [
      "Epoch 0/80\n",
      "51/51 [==============================] - 14s 269ms/step\n",
      "55/51 [================================] - 14s 254ms/step\n",
      "Epoch 1/80\n",
      "51/51 [==============================] - 13s 251ms/step\n",
      "55/51 [================================] - 13s 237ms/step\n",
      "Epoch 2/80\n",
      "51/51 [==============================] - 14s 267ms/step\n",
      "55/51 [================================] - 14s 253ms/step\n",
      "Epoch 3/80\n",
      "51/51 [==============================] - 13s 250ms/step\n",
      "55/51 [================================] - 13s 236ms/step\n",
      "Epoch 4/80\n",
      "51/51 [==============================] - 13s 255ms/step\n",
      "55/51 [================================] - 13s 242ms/step\n",
      "Epoch 5/80\n",
      "51/51 [==============================] - 13s 254ms/step\n",
      "55/51 [================================] - 13s 240ms/step\n",
      "Epoch 6/80\n",
      "51/51 [==============================] - 13s 261ms/step\n",
      "55/51 [================================] - 14s 248ms/step\n",
      "Epoch 7/80\n",
      "51/51 [==============================] - 13s 246ms/step\n",
      "55/51 [================================] - 13s 233ms/step\n",
      "Epoch 8/80\n",
      "51/51 [==============================] - 14s 267ms/step\n",
      "55/51 [================================] - 14s 252ms/step\n",
      "Epoch 9/80\n",
      "51/51 [==============================] - 12s 240ms/step\n",
      "55/51 [================================] - 13s 228ms/step\n",
      "Epoch 10/80\n",
      "51/51 [==============================] - 14s 270ms/step\n",
      "55/51 [================================] - 14s 256ms/step\n",
      "Epoch 11/80\n",
      "51/51 [==============================] - 13s 248ms/step\n",
      "55/51 [================================] - 13s 236ms/step\n",
      "Epoch 12/80\n",
      "51/51 [==============================] - 14s 268ms/step\n",
      "55/51 [================================] - 14s 252ms/step\n",
      "Epoch 13/80\n",
      "51/51 [==============================] - 12s 241ms/step\n",
      "55/51 [================================] - 13s 228ms/step\n",
      "Epoch 14/80\n",
      "51/51 [==============================] - 13s 261ms/step\n",
      "55/51 [================================] - 14s 247ms/step\n",
      "Epoch 15/80\n",
      "51/51 [==============================] - 13s 249ms/step\n",
      "55/51 [================================] - 13s 237ms/step\n",
      "Epoch 16/80\n",
      "51/51 [==============================] - 14s 267ms/step\n",
      "55/51 [================================] - 14s 252ms/step\n",
      "Epoch 17/80\n",
      "51/51 [==============================] - 13s 253ms/step\n",
      "55/51 [================================] - 13s 240ms/step\n",
      "Epoch 18/80\n",
      "51/51 [==============================] - 13s 264ms/step\n",
      "55/51 [================================] - 14s 250ms/step\n",
      "Epoch 19/80\n",
      "51/51 [==============================] - 13s 248ms/step\n",
      "55/51 [================================] - 13s 235ms/step\n",
      "Epoch 20/80\n",
      "51/51 [==============================] - 14s 272ms/step\n",
      "55/51 [================================] - 14s 256ms/step\n",
      "Epoch 21/80\n",
      "51/51 [==============================] - 13s 252ms/step\n",
      "55/51 [================================] - 13s 238ms/step\n",
      "Epoch 22/80\n",
      "51/51 [==============================] - 14s 269ms/step\n",
      "55/51 [================================] - 14s 254ms/step\n",
      "Epoch 23/80\n",
      "51/51 [==============================] - 13s 254ms/step\n",
      "55/51 [================================] - 13s 242ms/step\n",
      "Epoch 24/80\n",
      "51/51 [==============================] - 13s 262ms/step\n",
      "55/51 [================================] - 14s 248ms/step\n",
      "Epoch 25/80\n",
      "51/51 [==============================] - 13s 255ms/step\n",
      "55/51 [================================] - 13s 242ms/step\n",
      "Epoch 26/80\n",
      "51/51 [==============================] - 14s 265ms/step\n",
      "55/51 [================================] - 14s 251ms/step\n",
      "Epoch 27/80\n",
      "51/51 [==============================] - 13s 255ms/step\n",
      "55/51 [================================] - 13s 241ms/step\n",
      "Epoch 28/80\n",
      "51/51 [==============================] - 13s 259ms/step\n",
      "55/51 [================================] - 13s 245ms/step\n",
      "Epoch 29/80\n",
      "51/51 [==============================] - 12s 244ms/step\n",
      "55/51 [================================] - 13s 231ms/step\n",
      "Epoch 30/80\n",
      "51/51 [==============================] - 13s 260ms/step\n",
      "55/51 [================================] - 13s 245ms/step\n",
      "Epoch 31/80\n",
      "51/51 [==============================] - 13s 247ms/step\n",
      "55/51 [================================] - 13s 234ms/step\n",
      "Epoch 32/80\n",
      "51/51 [==============================] - 14s 268ms/step\n",
      "55/51 [================================] - 14s 255ms/step\n",
      "Epoch 33/80\n",
      "51/51 [==============================] - 12s 244ms/step\n",
      "55/51 [================================] - 13s 232ms/step\n",
      "Epoch 34/80\n",
      "51/51 [==============================] - 13s 261ms/step\n",
      "55/51 [================================] - 14s 247ms/step\n",
      "Epoch 35/80\n",
      "51/51 [==============================] - 13s 251ms/step\n",
      "55/51 [================================] - 13s 238ms/step\n",
      "Epoch 36/80\n",
      "51/51 [==============================] - 13s 254ms/step\n",
      "55/51 [================================] - 13s 240ms/step\n",
      "Epoch 37/80\n",
      "51/51 [==============================] - 13s 251ms/step\n",
      "55/51 [================================] - 13s 237ms/step\n",
      "Epoch 38/80\n",
      "51/51 [==============================] - 12s 236ms/step\n",
      "55/51 [================================] - 12s 223ms/step\n",
      "Epoch 39/80\n",
      "51/51 [==============================] - 13s 260ms/step\n",
      "55/51 [================================] - 14s 246ms/step\n",
      "Epoch 40/80\n",
      "51/51 [==============================] - 13s 257ms/step\n",
      "55/51 [================================] - 13s 244ms/step\n",
      "Epoch 41/80\n",
      "51/51 [==============================] - 13s 264ms/step\n",
      "55/51 [================================] - 14s 250ms/step\n",
      "Epoch 42/80\n",
      "51/51 [==============================] - 13s 247ms/step\n",
      "55/51 [================================] - 13s 234ms/step\n",
      "Epoch 43/80\n",
      "51/51 [==============================] - 13s 252ms/step\n",
      "55/51 [================================] - 13s 239ms/step\n",
      "Epoch 44/80\n",
      "51/51 [==============================] - 12s 238ms/step\n",
      "55/51 [================================] - 12s 225ms/step\n",
      "Epoch 45/80\n",
      "51/51 [==============================] - 13s 257ms/step\n",
      "55/51 [================================] - 13s 243ms/step\n",
      "Epoch 46/80\n",
      "51/51 [==============================] - 12s 235ms/step\n",
      "55/51 [================================] - 12s 223ms/step\n",
      "Epoch 47/80\n",
      "51/51 [==============================] - 13s 263ms/step\n",
      "55/51 [================================] - 14s 248ms/step\n",
      "Epoch 48/80\n",
      "51/51 [==============================] - 13s 251ms/step\n",
      "55/51 [================================] - 13s 239ms/step\n",
      "Epoch 49/80\n",
      "51/51 [==============================] - 14s 267ms/step\n",
      "55/51 [================================] - 14s 251ms/step\n",
      "Epoch 50/80\n",
      "51/51 [==============================] - 12s 242ms/step\n",
      "55/51 [================================] - 13s 229ms/step\n",
      "2198/2199 [============================>.] - ETA: 0sDev-Data: Prec: 0.818, Rec: 0.834, F1: 0.826\n",
      "Epoch 51/80\n",
      "51/51 [==============================] - 12s 245ms/step\n",
      "55/51 [================================] - 13s 231ms/step\n",
      "2198/2199 [============================>.] - ETA: 0sDev-Data: Prec: 0.823, Rec: 0.831, F1: 0.827\n",
      "Epoch 52/80\n",
      "51/51 [==============================] - 13s 255ms/step\n",
      "55/51 [================================] - 13s 242ms/step\n",
      "2198/2199 [============================>.] - ETA: 0sDev-Data: Prec: 0.813, Rec: 0.836, F1: 0.824\n",
      "Epoch 53/80\n",
      "51/51 [==============================] - 14s 265ms/step\n",
      "55/51 [================================] - 14s 250ms/step\n",
      "2198/2199 [============================>.] - ETA: 0sDev-Data: Prec: 0.841, Rec: 0.824, F1: 0.833\n",
      "Epoch 54/80\n",
      "51/51 [==============================] - 12s 236ms/step\n",
      "55/51 [================================] - 12s 222ms/step\n",
      "2198/2199 [============================>.] - ETA: 0sDev-Data: Prec: 0.809, Rec: 0.833, F1: 0.821\n",
      "Epoch 55/80\n",
      "51/51 [==============================] - 13s 263ms/step\n",
      "55/51 [================================] - 14s 248ms/step\n",
      "2198/2199 [============================>.] - ETA: 0sDev-Data: Prec: 0.825, Rec: 0.821, F1: 0.823\n",
      "Epoch 56/80\n",
      "51/51 [==============================] - 13s 258ms/step\n",
      "55/51 [================================] - 13s 245ms/step\n",
      "2198/2199 [============================>.] - ETA: 0sDev-Data: Prec: 0.833, Rec: 0.815, F1: 0.824\n",
      "Epoch 57/80\n",
      "51/51 [==============================] - 13s 255ms/step\n",
      "55/51 [================================] - 13s 242ms/step\n",
      "2198/2199 [============================>.] - ETA: 0sDev-Data: Prec: 0.833, Rec: 0.820, F1: 0.826\n",
      "Epoch 58/80\n",
      "51/51 [==============================] - 13s 248ms/step\n",
      "55/51 [================================] - 13s 235ms/step\n"
     ]
    },
    {
     "name": "stdout",
     "output_type": "stream",
     "text": [
      "2198/2199 [============================>.] - ETA: 0sDev-Data: Prec: 0.817, Rec: 0.823, F1: 0.820\n",
      "Epoch 59/80\n",
      "51/51 [==============================] - 14s 269ms/step\n",
      "55/51 [================================] - 14s 255ms/step\n",
      "2198/2199 [============================>.] - ETA: 0sDev-Data: Prec: 0.824, Rec: 0.831, F1: 0.827\n",
      "Epoch 60/80\n",
      "51/51 [==============================] - 13s 250ms/step\n",
      "55/51 [================================] - 13s 237ms/step\n",
      "2198/2199 [============================>.] - ETA: 0sDev-Data: Prec: 0.831, Rec: 0.820, F1: 0.825\n",
      "Epoch 61/80\n",
      "51/51 [==============================] - 14s 265ms/step\n",
      "55/51 [================================] - 14s 252ms/step\n",
      "2198/2199 [============================>.] - ETA: 0sDev-Data: Prec: 0.830, Rec: 0.825, F1: 0.828\n",
      "Epoch 62/80\n",
      "51/51 [==============================] - 13s 254ms/step\n",
      "55/51 [================================] - 13s 240ms/step\n",
      "2198/2199 [============================>.] - ETA: 0sDev-Data: Prec: 0.816, Rec: 0.825, F1: 0.821\n",
      "Epoch 63/80\n",
      "51/51 [==============================] - 13s 260ms/step\n",
      "55/51 [================================] - 14s 247ms/step\n",
      "2198/2199 [============================>.] - ETA: 0sDev-Data: Prec: 0.817, Rec: 0.825, F1: 0.821\n",
      "Epoch 64/80\n",
      "51/51 [==============================] - 13s 256ms/step\n",
      "55/51 [================================] - 13s 242ms/step\n",
      "2198/2199 [============================>.] - ETA: 0sDev-Data: Prec: 0.821, Rec: 0.825, F1: 0.823\n",
      "Epoch 65/80\n",
      "51/51 [==============================] - 14s 266ms/step\n",
      "55/51 [================================] - 14s 252ms/step\n",
      "2198/2199 [============================>.] - ETA: 0sDev-Data: Prec: 0.819, Rec: 0.828, F1: 0.823\n",
      "Epoch 66/80\n",
      "51/51 [==============================] - 13s 246ms/step\n",
      "55/51 [================================] - 13s 233ms/step\n",
      "2198/2199 [============================>.] - ETA: 0sDev-Data: Prec: 0.825, Rec: 0.831, F1: 0.828\n",
      "Epoch 67/80\n",
      "51/51 [==============================] - 14s 265ms/step\n",
      "55/51 [================================] - 14s 250ms/step\n",
      "2198/2199 [============================>.] - ETA: 0sDev-Data: Prec: 0.838, Rec: 0.828, F1: 0.833\n",
      "Epoch 68/80\n",
      "51/51 [==============================] - 13s 248ms/step\n",
      "55/51 [================================] - 13s 234ms/step\n",
      "2198/2199 [============================>.] - ETA: 0sDev-Data: Prec: 0.832, Rec: 0.831, F1: 0.831\n",
      "Epoch 69/80\n",
      "51/51 [==============================] - 13s 263ms/step\n",
      "55/51 [================================] - 14s 248ms/step\n",
      "2198/2199 [============================>.] - ETA: 0sDev-Data: Prec: 0.826, Rec: 0.826, F1: 0.826\n",
      "Epoch 70/80\n",
      "51/51 [==============================] - 13s 251ms/step\n",
      "55/51 [================================] - 13s 238ms/step\n",
      "2198/2199 [============================>.] - ETA: 0sDev-Data: Prec: 0.824, Rec: 0.827, F1: 0.826\n",
      "Epoch 71/80\n",
      "51/51 [==============================] - 14s 269ms/step\n",
      "55/51 [================================] - 14s 255ms/step\n",
      "2198/2199 [============================>.] - ETA: 0sDev-Data: Prec: 0.814, Rec: 0.832, F1: 0.823\n",
      "Epoch 72/80\n",
      "51/51 [==============================] - 13s 255ms/step\n",
      "55/51 [================================] - 13s 241ms/step\n",
      "2198/2199 [============================>.] - ETA: 0sDev-Data: Prec: 0.828, Rec: 0.821, F1: 0.825\n",
      "Epoch 73/80\n",
      "51/51 [==============================] - 13s 263ms/step\n",
      "55/51 [================================] - 14s 250ms/step\n",
      "2198/2199 [============================>.] - ETA: 0sDev-Data: Prec: 0.805, Rec: 0.822, F1: 0.813\n",
      "Epoch 74/80\n",
      "51/51 [==============================] - 13s 249ms/step\n",
      "55/51 [================================] - 13s 236ms/step\n",
      "2198/2199 [============================>.] - ETA: 0sDev-Data: Prec: 0.819, Rec: 0.815, F1: 0.817\n",
      "Epoch 75/80\n",
      "51/51 [==============================] - 13s 260ms/step\n",
      "55/51 [================================] - 14s 246ms/step\n",
      "2198/2199 [============================>.] - ETA: 0sDev-Data: Prec: 0.822, Rec: 0.823, F1: 0.822\n",
      "Epoch 76/80\n",
      "51/51 [==============================] - 13s 259ms/step\n",
      "55/51 [================================] - 14s 246ms/step\n",
      "2198/2199 [============================>.] - ETA: 0sDev-Data: Prec: 0.830, Rec: 0.823, F1: 0.826\n",
      "Epoch 77/80\n",
      "51/51 [==============================] - 13s 252ms/step\n",
      "55/51 [================================] - 13s 238ms/step\n",
      "2198/2199 [============================>.] - ETA: 0sDev-Data: Prec: 0.799, Rec: 0.847, F1: 0.822\n",
      "Epoch 78/80\n",
      "51/51 [==============================] - 12s 230ms/step\n",
      "55/51 [================================] - 12s 218ms/step\n",
      "2198/2199 [============================>.] - ETA: 0sDev-Data: Prec: 0.830, Rec: 0.823, F1: 0.827\n",
      "Epoch 79/80\n",
      "51/51 [==============================] - 12s 243ms/step\n",
      "55/51 [================================] - 13s 229ms/step\n",
      "2198/2199 [============================>.] - ETA: 0sDev-Data: Prec: 0.822, Rec: 0.831, F1: 0.827\n",
      "2199\n"
     ]
    }
   ],
   "source": [
    "for x in range(1):\n",
    "#     print(i)\n",
    "    maxf1 = 0\n",
    "    for epoch in range(epochs):    \n",
    "        print(\"Epoch %d/%d\"%(epoch, epochs))\n",
    "        a = Progbar(len(train_batch_len))\n",
    "        for i, batch in enumerate(iterate_minibatches(train_batch, train_batch_len)):\n",
    "            labels, tokens, casing, char = batch\n",
    "            labels = labels.tolist()\n",
    "    #         print(labels)\n",
    "            for sentence in labels:\n",
    "                for i,label in enumerate(sentence):\n",
    "                    temp = [0]*len(label2Idx)\n",
    "                    value = label[0]\n",
    "                    temp[value]=1\n",
    "                    sentence[i] = temp\n",
    "            labels = np.array(labels)\n",
    "    #         print(labels)\n",
    "            model.train_on_batch([tokens, casing, char], labels)\n",
    "            a.update(i)\n",
    "        if epoch >= 50:\n",
    "            predLabels, correctLabels = tag_dataset(dev_batch)        \n",
    "            pre_dev, rec_dev, f1_dev = compute_f1(predLabels, correctLabels, idx2Label)\n",
    "#             predLabels = np.concatenate(predLabels).ravel()\n",
    "#             correctLabels = np.concatenate(correctLabels).ravel()\n",
    "#             f1_dev = sklearn.metrics.f1_score(correctLabels,predLabels,average='macro' )\n",
    "            print(\"Dev-Data: Prec: %.3f, Rec: %.3f, F1: %.3f\" % (pre_dev, rec_dev, f1_dev))\n",
    "#             print(f1_dev)\n",
    "\n",
    "            if f1_dev > maxf1:\n",
    "                model.save('german_ner_oov.h5')\n",
    "                maxf1 = f1_dev\n",
    "\n",
    "    id2word = {v: k for k, v in word2Idx.items()}\n",
    "    print(len(correctLabels))        \n",
    "\n",
    "    "
   ]
  },
  {
   "cell_type": "code",
   "execution_count": 88,
   "metadata": {},
   "outputs": [
    {
     "name": "stdout",
     "output_type": "stream",
     "text": [
      "2894/2895 [============================>.] - ETA: 0sDev-Data: Prec: 0.806, Rec: 0.774, F1: 0.790\n",
      "******************************************************************************\n"
     ]
    }
   ],
   "source": [
    "model.load_weights('german_ner_oov.h5')\n",
    "test_batch_not_in_fasttext, y = createBatches(test_set_not_in_fasttext)\n",
    "predLabels, correctLabels = tag_dataset(test_batch_not_in_fasttext)        \n",
    "pre_dev, rec_dev, f1_dev = compute_f1(predLabels, correctLabels, idx2Label)\n",
    "print(\"Dev-Data: Prec: %.3f, Rec: %.3f, F1: %.3f\" % (pre_dev, rec_dev, f1_dev))\n",
    "\n",
    "id = 1\n",
    "file_name='test_oov_fasttext'+str(x)+'.txt'\n",
    "input_file_name = '/home/jindal/notebooks/jindal/NER/'+file_name\n",
    "f = open(input_file_name,'wb')\n",
    "for sentence_number, batch in enumerate(test_batch_not_in_fasttext):\n",
    "    for word_number, wordid in enumerate(batch[0]):\n",
    "        word = id2word[wordid]\n",
    "        true_label = correctLabels[sentence_number][word_number]\n",
    "        true_label = idx2Label[true_label]\n",
    "        pred_label = predLabels[sentence_number][word_number]\n",
    "        pred_label = idx2Label[pred_label]\n",
    "\n",
    "        string = str(id) + '\\t' + word + '\\t' + true_label +'\\t' + true_label+'\\t'+pred_label+'\\t'+pred_label+'\\t\\n'\n",
    "#             string = word + ' ' + pred_label+' '+pred_label+' '+true_label+'\\n'\n",
    "        string = string.encode()\n",
    "        f.write(string)\n",
    "        id+=1\n",
    "\n",
    "command = \"perl nereval.perl\"\n",
    "directory_germeval = r'/home/jindal/notebooks/Resources/GermEVAL'\n",
    "#     directory_conll = r'/home/jindal/notebooks/Resources/CONLL/2003/ner/bin'\n",
    "#     command = \"perl conlleval\"\n",
    "\n",
    "output_file_name = '/home/jindal/notebooks/jindal/NER/test_result_oov_fasttext'+str(x)+'.txt'\n",
    "output_file=open(output_file_name,'w')\n",
    "input_file = open(input_file_name)\n",
    "import subprocess\n",
    "process = subprocess.Popen(command.split(), stdin=input_file, stdout=output_file, cwd=directory_germeval)\n",
    "out, err = process.communicate()\n",
    "#     print(out)\n",
    "print('******************************************************************************')"
   ]
  },
  {
   "cell_type": "code",
   "execution_count": 90,
   "metadata": {},
   "outputs": [
    {
     "name": "stdout",
     "output_type": "stream",
     "text": [
      "2203/2204 [============================>.] - ETA: 0sDev-Data: Prec: 0.871, Rec: 0.839, F1: 0.855\n",
      "******************************************************************************\n"
     ]
    }
   ],
   "source": [
    "model.load_weights('german_ner_oov.h5')\n",
    "test_batch_in_fasttext , x =  createBatches(test_set_in_fasttext)\n",
    "predLabels, correctLabels = tag_dataset(test_batch_in_fasttext)        \n",
    "pre_dev, rec_dev, f1_dev = compute_f1(predLabels, correctLabels, idx2Label)\n",
    "print(\"Dev-Data: Prec: %.3f, Rec: %.3f, F1: %.3f\" % (pre_dev, rec_dev, f1_dev))\n",
    "\n",
    "id = 1\n",
    "file_name='test_iv_fasttext'+str(x)+'.txt'\n",
    "input_file_name = '/home/jindal/notebooks/jindal/NER/'+file_name\n",
    "f = open(input_file_name,'wb')\n",
    "for sentence_number, batch in enumerate(test_batch_in_fasttext):\n",
    "    for word_number, wordid in enumerate(batch[0]):\n",
    "        word = id2word[wordid]\n",
    "        true_label = correctLabels[sentence_number][word_number]\n",
    "        true_label = idx2Label[true_label]\n",
    "        pred_label = predLabels[sentence_number][word_number]\n",
    "        pred_label = idx2Label[pred_label]\n",
    "\n",
    "        string = str(id) + '\\t' + word + '\\t' + true_label +'\\t' + true_label+'\\t'+pred_label+'\\t'+pred_label+'\\t\\n'\n",
    "#             string = word + ' ' + pred_label+' '+pred_label+' '+true_label+'\\n'\n",
    "        string = string.encode()\n",
    "        f.write(string)\n",
    "        id+=1\n",
    "\n",
    "command = \"perl nereval.perl\"\n",
    "directory_germeval = r'/home/jindal/notebooks/Resources/GermEVAL'\n",
    "#     directory_conll = r'/home/jindal/notebooks/Resources/CONLL/2003/ner/bin'\n",
    "#     command = \"perl conlleval\"\n",
    "\n",
    "output_file_name = '/home/jindal/notebooks/jindal/NER/test_result_iv_ft'+str(x)+'.txt'\n",
    "output_file=open(output_file_name,'w')\n",
    "input_file = open(input_file_name)\n",
    "import subprocess\n",
    "process = subprocess.Popen(command.split(), stdin=input_file, stdout=output_file, cwd=directory_germeval)\n",
    "out, err = process.communicate()\n",
    "#     print(out)\n",
    "print('******************************************************************************')"
   ]
  },
  {
   "cell_type": "code",
   "execution_count": null,
   "metadata": {},
   "outputs": [],
   "source": []
  }
 ],
 "metadata": {
  "kernelspec": {
   "display_name": "Python 3",
   "language": "python",
   "name": "python3"
  },
  "language_info": {
   "codemirror_mode": {
    "name": "ipython",
    "version": 3
   },
   "file_extension": ".py",
   "mimetype": "text/x-python",
   "name": "python",
   "nbconvert_exporter": "python",
   "pygments_lexer": "ipython3",
   "version": "3.5.5"
  }
 },
 "nbformat": 4,
 "nbformat_minor": 2
}
